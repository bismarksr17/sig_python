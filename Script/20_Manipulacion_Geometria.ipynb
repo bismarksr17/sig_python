{
 "cells": [
  {
   "cell_type": "markdown",
   "id": "828962ab-e7d0-4cb9-8204-e25442116df6",
   "metadata": {},
   "source": [
    "# Manipulacion de geometria"
   ]
  },
  {
   "cell_type": "code",
   "execution_count": 1,
   "id": "8649cde8-d8f1-45c3-9c4b-5aea94dd7ab8",
   "metadata": {},
   "outputs": [],
   "source": [
    "import geopandas as gpd\n",
    "import os"
   ]
  },
  {
   "cell_type": "code",
   "execution_count": 2,
   "id": "681975b8-0dfa-42f2-9913-6bd28720d76a",
   "metadata": {},
   "outputs": [
    {
     "data": {
      "text/plain": [
       "'D:\\\\PYTHON\\\\sig_python\\\\Script'"
      ]
     },
     "execution_count": 2,
     "metadata": {},
     "output_type": "execute_result"
    }
   ],
   "source": [
    "os.getcwd()"
   ]
  },
  {
   "cell_type": "code",
   "execution_count": 3,
   "id": "1aff4a9b-efea-49db-8f5c-a3664b057b1d",
   "metadata": {},
   "outputs": [],
   "source": [
    "os.chdir(r\"D:\\PYTHON\\sig_python\\Datos_Espaciales\\PRACTICA\")"
   ]
  },
  {
   "cell_type": "code",
   "execution_count": 4,
   "id": "9a591c4b-bb8f-4fc0-83f6-b2f60ad80acd",
   "metadata": {},
   "outputs": [],
   "source": [
    "# Cargar archivo shp\n",
    "data = gpd.read_file(\"Predio.shp\")"
   ]
  },
  {
   "cell_type": "code",
   "execution_count": 5,
   "id": "65d1ef04-6135-4be3-b7de-ceb6820cfc85",
   "metadata": {},
   "outputs": [
    {
     "data": {
      "text/plain": [
       "0    POLYGON ((486910.524 8794616.859, 485534.688 8...\n",
       "1    POLYGON ((490879.282 8797675.448, 489799.780 8...\n",
       "2    POLYGON ((492636.119 8797950.615, 492540.869 8...\n",
       "Name: geometry, dtype: geometry"
      ]
     },
     "execution_count": 5,
     "metadata": {},
     "output_type": "execute_result"
    }
   ],
   "source": [
    "# Visualizar geometria\n",
    "data.geometry.head(3)"
   ]
  },
  {
   "cell_type": "code",
   "execution_count": 6,
   "id": "58777b50-0c06-4ef1-8f7b-c68e03c602eb",
   "metadata": {},
   "outputs": [
    {
     "data": {
      "text/html": [
       "<div>\n",
       "<style scoped>\n",
       "    .dataframe tbody tr th:only-of-type {\n",
       "        vertical-align: middle;\n",
       "    }\n",
       "\n",
       "    .dataframe tbody tr th {\n",
       "        vertical-align: top;\n",
       "    }\n",
       "\n",
       "    .dataframe thead th {\n",
       "        text-align: right;\n",
       "    }\n",
       "</style>\n",
       "<table border=\"1\" class=\"dataframe\">\n",
       "  <thead>\n",
       "    <tr style=\"text-align: right;\">\n",
       "      <th></th>\n",
       "      <th>Id</th>\n",
       "      <th>Nombre</th>\n",
       "      <th>geometry</th>\n",
       "    </tr>\n",
       "  </thead>\n",
       "  <tbody>\n",
       "    <tr>\n",
       "      <th>0</th>\n",
       "      <td>1</td>\n",
       "      <td>LEIMAN L</td>\n",
       "      <td>POLYGON ((486910.524 8794616.859, 485534.688 8...</td>\n",
       "    </tr>\n",
       "    <tr>\n",
       "      <th>1</th>\n",
       "      <td>2</td>\n",
       "      <td>FELIX FL</td>\n",
       "      <td>POLYGON ((490879.282 8797675.448, 489799.780 8...</td>\n",
       "    </tr>\n",
       "    <tr>\n",
       "      <th>2</th>\n",
       "      <td>3</td>\n",
       "      <td>milton c</td>\n",
       "      <td>POLYGON ((492636.119 8797950.615, 492540.869 8...</td>\n",
       "    </tr>\n",
       "  </tbody>\n",
       "</table>\n",
       "</div>"
      ],
      "text/plain": [
       "   Id    Nombre                                           geometry\n",
       "0   1  LEIMAN L  POLYGON ((486910.524 8794616.859, 485534.688 8...\n",
       "1   2  FELIX FL  POLYGON ((490879.282 8797675.448, 489799.780 8...\n",
       "2   3  milton c  POLYGON ((492636.119 8797950.615, 492540.869 8..."
      ]
     },
     "execution_count": 6,
     "metadata": {},
     "output_type": "execute_result"
    }
   ],
   "source": [
    "# Visualizar tabla de atributo\n",
    "data.head(3)"
   ]
  },
  {
   "cell_type": "code",
   "execution_count": 7,
   "id": "4f0d7695-2fc5-46c0-a11e-20163d1f1684",
   "metadata": {},
   "outputs": [
    {
     "data": {
      "text/plain": [
       "'WGS 84 / UTM zone 18S'"
      ]
     },
     "execution_count": 7,
     "metadata": {},
     "output_type": "execute_result"
    }
   ],
   "source": [
    "# Verificacion de la proyeccion\n",
    "data.crs.name"
   ]
  },
  {
   "cell_type": "code",
   "execution_count": 8,
   "id": "73c05e68-3c13-42dd-9931-4900ffb64a33",
   "metadata": {},
   "outputs": [
    {
     "data": {
      "text/plain": [
       "64"
      ]
     },
     "execution_count": 8,
     "metadata": {},
     "output_type": "execute_result"
    }
   ],
   "source": [
    "len(data)"
   ]
  },
  {
   "cell_type": "markdown",
   "id": "39cad48b-3cbb-471f-93bb-6e06df73f9ed",
   "metadata": {},
   "source": [
    "## Determinar centroide"
   ]
  },
  {
   "cell_type": "code",
   "execution_count": 9,
   "id": "e28c4574-485a-4a3d-9525-38e546269c5a",
   "metadata": {},
   "outputs": [
    {
     "data": {
      "text/plain": [
       "0     POINT (486609.329 8795467.619)\n",
       "1     POINT (490505.756 8798549.501)\n",
       "2     POINT (493285.147 8798846.832)\n",
       "3     POINT (483860.622 8792685.224)\n",
       "4     POINT (475648.780 8791422.477)\n",
       "                   ...              \n",
       "59    POINT (449745.865 8842832.517)\n",
       "60    POINT (444427.973 8848818.620)\n",
       "61    POINT (440787.062 8853131.904)\n",
       "62    POINT (481606.033 8873504.449)\n",
       "63    POINT (460932.748 8893462.639)\n",
       "Length: 64, dtype: geometry"
      ]
     },
     "execution_count": 9,
     "metadata": {},
     "output_type": "execute_result"
    }
   ],
   "source": [
    "# Centroide del poligono\n",
    "data.centroid"
   ]
  },
  {
   "cell_type": "code",
   "execution_count": 10,
   "id": "8e60cebf-4ae4-447c-ab41-8a29bb028e63",
   "metadata": {},
   "outputs": [
    {
     "data": {
      "text/plain": [
       "0     8.795468e+06\n",
       "1     8.798550e+06\n",
       "2     8.798847e+06\n",
       "3     8.792685e+06\n",
       "4     8.791422e+06\n",
       "          ...     \n",
       "59    8.842833e+06\n",
       "60    8.848819e+06\n",
       "61    8.853132e+06\n",
       "62    8.873504e+06\n",
       "63    8.893463e+06\n",
       "Length: 64, dtype: float64"
      ]
     },
     "execution_count": 10,
     "metadata": {},
     "output_type": "execute_result"
    }
   ],
   "source": [
    "# Imprimir centroide segun Este o Norte\n",
    "data.centroid.y"
   ]
  },
  {
   "cell_type": "code",
   "execution_count": 11,
   "id": "307b1372-a209-494e-8171-73f88447b67d",
   "metadata": {},
   "outputs": [],
   "source": [
    "# Hagamos una copia de seguridad de nuestros datos\n",
    "data_utm = data.copy()"
   ]
  },
  {
   "cell_type": "code",
   "execution_count": 14,
   "id": "548fa4a0-c8db-493a-b227-2f03e2174269",
   "metadata": {},
   "outputs": [
    {
     "data": {
      "text/html": [
       "<div>\n",
       "<style scoped>\n",
       "    .dataframe tbody tr th:only-of-type {\n",
       "        vertical-align: middle;\n",
       "    }\n",
       "\n",
       "    .dataframe tbody tr th {\n",
       "        vertical-align: top;\n",
       "    }\n",
       "\n",
       "    .dataframe thead th {\n",
       "        text-align: right;\n",
       "    }\n",
       "</style>\n",
       "<table border=\"1\" class=\"dataframe\">\n",
       "  <thead>\n",
       "    <tr style=\"text-align: right;\">\n",
       "      <th></th>\n",
       "      <th>Id</th>\n",
       "      <th>Nombre</th>\n",
       "      <th>geometry</th>\n",
       "      <th>Centro_X</th>\n",
       "      <th>Centro_Y</th>\n",
       "    </tr>\n",
       "  </thead>\n",
       "  <tbody>\n",
       "    <tr>\n",
       "      <th>0</th>\n",
       "      <td>1</td>\n",
       "      <td>LEIMAN L</td>\n",
       "      <td>POLYGON ((486910.524 8794616.859, 485534.688 8...</td>\n",
       "      <td>486609.33</td>\n",
       "      <td>8795467.62</td>\n",
       "    </tr>\n",
       "    <tr>\n",
       "      <th>1</th>\n",
       "      <td>2</td>\n",
       "      <td>FELIX FL</td>\n",
       "      <td>POLYGON ((490879.282 8797675.448, 489799.780 8...</td>\n",
       "      <td>490505.76</td>\n",
       "      <td>8798549.50</td>\n",
       "    </tr>\n",
       "    <tr>\n",
       "      <th>2</th>\n",
       "      <td>3</td>\n",
       "      <td>milton c</td>\n",
       "      <td>POLYGON ((492636.119 8797950.615, 492540.869 8...</td>\n",
       "      <td>493285.15</td>\n",
       "      <td>8798846.83</td>\n",
       "    </tr>\n",
       "  </tbody>\n",
       "</table>\n",
       "</div>"
      ],
      "text/plain": [
       "   Id    Nombre                                           geometry   Centro_X  \\\n",
       "0   1  LEIMAN L  POLYGON ((486910.524 8794616.859, 485534.688 8...  486609.33   \n",
       "1   2  FELIX FL  POLYGON ((490879.282 8797675.448, 489799.780 8...  490505.76   \n",
       "2   3  milton c  POLYGON ((492636.119 8797950.615, 492540.869 8...  493285.15   \n",
       "\n",
       "     Centro_Y  \n",
       "0  8795467.62  \n",
       "1  8798549.50  \n",
       "2  8798846.83  "
      ]
     },
     "execution_count": 14,
     "metadata": {},
     "output_type": "execute_result"
    }
   ],
   "source": [
    "data_utm[\"Centro_X\"] = round(data_utm.centroid.x,2)\n",
    "data_utm[\"Centro_Y\"] = round(data_utm.centroid.y,2)\n",
    "# verificar\n",
    "data_utm.head(3)"
   ]
  },
  {
   "cell_type": "code",
   "execution_count": 15,
   "id": "ec1ed007-3e58-4434-b980-b46bedc5ad22",
   "metadata": {
    "tags": []
   },
   "outputs": [
    {
     "name": "stderr",
     "output_type": "stream",
     "text": [
      "C:\\Users\\Bismar\\.conda\\envs\\sig_python\\lib\\site-packages\\geopandas\\io\\file.py:299: FutureWarning: pandas.Int64Index is deprecated and will be removed from pandas in a future version. Use pandas.Index with the appropriate dtype instead.\n",
      "  pd.Int64Index,\n"
     ]
    }
   ],
   "source": [
    "# Ouput filepath\n",
    "outfp = \"Predio2.shp\"\n",
    "\n",
    "# Save to disk\n",
    "data_utm.to_file(outfp)"
   ]
  },
  {
   "cell_type": "markdown",
   "id": "b3291647-1e73-44e5-9a04-d7df42a8e4be",
   "metadata": {},
   "source": [
    "## Determinar area"
   ]
  },
  {
   "cell_type": "code",
   "execution_count": 20,
   "id": "67f3a6f3-5b10-4e11-8ff0-4757f022e748",
   "metadata": {},
   "outputs": [
    {
     "data": {
      "text/html": [
       "<div>\n",
       "<style scoped>\n",
       "    .dataframe tbody tr th:only-of-type {\n",
       "        vertical-align: middle;\n",
       "    }\n",
       "\n",
       "    .dataframe tbody tr th {\n",
       "        vertical-align: top;\n",
       "    }\n",
       "\n",
       "    .dataframe thead th {\n",
       "        text-align: right;\n",
       "    }\n",
       "</style>\n",
       "<table border=\"1\" class=\"dataframe\">\n",
       "  <thead>\n",
       "    <tr style=\"text-align: right;\">\n",
       "      <th></th>\n",
       "      <th>Id</th>\n",
       "      <th>Nombre</th>\n",
       "      <th>geometry</th>\n",
       "      <th>Centro_X</th>\n",
       "      <th>Centro_Y</th>\n",
       "      <th>Area_m2</th>\n",
       "      <th>Area_Ha</th>\n",
       "    </tr>\n",
       "  </thead>\n",
       "  <tbody>\n",
       "    <tr>\n",
       "      <th>0</th>\n",
       "      <td>1</td>\n",
       "      <td>LEIMAN L</td>\n",
       "      <td>POLYGON ((486910.524 8794616.859, 485534.688 8...</td>\n",
       "      <td>486609.33</td>\n",
       "      <td>8795467.62</td>\n",
       "      <td>1956153.11</td>\n",
       "      <td>195.62</td>\n",
       "    </tr>\n",
       "    <tr>\n",
       "      <th>1</th>\n",
       "      <td>2</td>\n",
       "      <td>FELIX FL</td>\n",
       "      <td>POLYGON ((490879.282 8797675.448, 489799.780 8...</td>\n",
       "      <td>490505.76</td>\n",
       "      <td>8798549.50</td>\n",
       "      <td>1558358.85</td>\n",
       "      <td>155.84</td>\n",
       "    </tr>\n",
       "    <tr>\n",
       "      <th>2</th>\n",
       "      <td>3</td>\n",
       "      <td>milton c</td>\n",
       "      <td>POLYGON ((492636.119 8797950.615, 492540.869 8...</td>\n",
       "      <td>493285.15</td>\n",
       "      <td>8798846.83</td>\n",
       "      <td>2741660.95</td>\n",
       "      <td>274.17</td>\n",
       "    </tr>\n",
       "  </tbody>\n",
       "</table>\n",
       "</div>"
      ],
      "text/plain": [
       "   Id    Nombre                                           geometry   Centro_X  \\\n",
       "0   1  LEIMAN L  POLYGON ((486910.524 8794616.859, 485534.688 8...  486609.33   \n",
       "1   2  FELIX FL  POLYGON ((490879.282 8797675.448, 489799.780 8...  490505.76   \n",
       "2   3  milton c  POLYGON ((492636.119 8797950.615, 492540.869 8...  493285.15   \n",
       "\n",
       "     Centro_Y     Area_m2  Area_Ha  \n",
       "0  8795467.62  1956153.11   195.62  \n",
       "1  8798549.50  1558358.85   155.84  \n",
       "2  8798846.83  2741660.95   274.17  "
      ]
     },
     "execution_count": 20,
     "metadata": {},
     "output_type": "execute_result"
    }
   ],
   "source": [
    "data_utm[\"Area_m2\"] = round(data_utm.area,2)\n",
    "data_utm[\"Area_Ha\"] = round(data_utm.area/10000,2)\n",
    "data_utm.head(3)"
   ]
  },
  {
   "cell_type": "markdown",
   "id": "0139194f-6362-414a-b607-3f0013c5be80",
   "metadata": {},
   "source": [
    "## Cambiar nombre campos"
   ]
  },
  {
   "cell_type": "code",
   "execution_count": 21,
   "id": "8e0afb23-d73c-4ef2-b91f-ecc9b2bcefb1",
   "metadata": {},
   "outputs": [
    {
     "data": {
      "text/plain": [
       "Index(['Id', 'Nombre', 'geometry', 'Centro_X', 'Centro_Y', 'Area_m2',\n",
       "       'Area_Ha'],\n",
       "      dtype='object')"
      ]
     },
     "execution_count": 21,
     "metadata": {},
     "output_type": "execute_result"
    }
   ],
   "source": [
    "# Nombre de los campos\n",
    "data_utm.columns"
   ]
  },
  {
   "cell_type": "code",
   "execution_count": 22,
   "id": "7f06a0af-6b75-4251-aea1-89ba273589e0",
   "metadata": {},
   "outputs": [],
   "source": [
    "nombre = ['ID', 'NOMBRE', 'geometry', \n",
    "          'Centro_X', 'Centro_Y', 'AREA_m2', 'AREA_Ha']"
   ]
  },
  {
   "cell_type": "code",
   "execution_count": 23,
   "id": "b9736a8b-baba-409a-9ac1-ce5db4d30aae",
   "metadata": {},
   "outputs": [],
   "source": [
    "# Cambiar el nombre de los campos\n",
    "data_utm.columns = nombre"
   ]
  },
  {
   "cell_type": "code",
   "execution_count": 24,
   "id": "24a0961c-683c-44b1-b009-4b8a87112e55",
   "metadata": {},
   "outputs": [
    {
     "data": {
      "text/html": [
       "<div>\n",
       "<style scoped>\n",
       "    .dataframe tbody tr th:only-of-type {\n",
       "        vertical-align: middle;\n",
       "    }\n",
       "\n",
       "    .dataframe tbody tr th {\n",
       "        vertical-align: top;\n",
       "    }\n",
       "\n",
       "    .dataframe thead th {\n",
       "        text-align: right;\n",
       "    }\n",
       "</style>\n",
       "<table border=\"1\" class=\"dataframe\">\n",
       "  <thead>\n",
       "    <tr style=\"text-align: right;\">\n",
       "      <th></th>\n",
       "      <th>ID</th>\n",
       "      <th>NOMBRE</th>\n",
       "      <th>geometry</th>\n",
       "      <th>Centro_X</th>\n",
       "      <th>Centro_Y</th>\n",
       "      <th>AREA_m2</th>\n",
       "      <th>AREA_Ha</th>\n",
       "    </tr>\n",
       "  </thead>\n",
       "  <tbody>\n",
       "    <tr>\n",
       "      <th>0</th>\n",
       "      <td>1</td>\n",
       "      <td>LEIMAN L</td>\n",
       "      <td>POLYGON ((486910.524 8794616.859, 485534.688 8...</td>\n",
       "      <td>486609.33</td>\n",
       "      <td>8795467.62</td>\n",
       "      <td>1956153.11</td>\n",
       "      <td>195.62</td>\n",
       "    </tr>\n",
       "    <tr>\n",
       "      <th>1</th>\n",
       "      <td>2</td>\n",
       "      <td>FELIX FL</td>\n",
       "      <td>POLYGON ((490879.282 8797675.448, 489799.780 8...</td>\n",
       "      <td>490505.76</td>\n",
       "      <td>8798549.50</td>\n",
       "      <td>1558358.85</td>\n",
       "      <td>155.84</td>\n",
       "    </tr>\n",
       "    <tr>\n",
       "      <th>2</th>\n",
       "      <td>3</td>\n",
       "      <td>milton c</td>\n",
       "      <td>POLYGON ((492636.119 8797950.615, 492540.869 8...</td>\n",
       "      <td>493285.15</td>\n",
       "      <td>8798846.83</td>\n",
       "      <td>2741660.95</td>\n",
       "      <td>274.17</td>\n",
       "    </tr>\n",
       "  </tbody>\n",
       "</table>\n",
       "</div>"
      ],
      "text/plain": [
       "   ID    NOMBRE                                           geometry   Centro_X  \\\n",
       "0   1  LEIMAN L  POLYGON ((486910.524 8794616.859, 485534.688 8...  486609.33   \n",
       "1   2  FELIX FL  POLYGON ((490879.282 8797675.448, 489799.780 8...  490505.76   \n",
       "2   3  milton c  POLYGON ((492636.119 8797950.615, 492540.869 8...  493285.15   \n",
       "\n",
       "     Centro_Y     AREA_m2  AREA_Ha  \n",
       "0  8795467.62  1956153.11   195.62  \n",
       "1  8798549.50  1558358.85   155.84  \n",
       "2  8798846.83  2741660.95   274.17  "
      ]
     },
     "execution_count": 24,
     "metadata": {},
     "output_type": "execute_result"
    }
   ],
   "source": [
    "data_utm.head(3)"
   ]
  },
  {
   "cell_type": "markdown",
   "id": "b9414109-289c-4627-afe0-bce24f3710f0",
   "metadata": {},
   "source": [
    "## Determinar perimetro"
   ]
  },
  {
   "cell_type": "code",
   "execution_count": 25,
   "id": "8ec355dd-0e86-435b-b13c-07e3c10dfa42",
   "metadata": {},
   "outputs": [
    {
     "data": {
      "text/plain": [
       "0      5641.290123\n",
       "1      5068.386852\n",
       "2      6395.341591\n",
       "3      6523.446251\n",
       "4      7191.116735\n",
       "          ...     \n",
       "59    10806.300550\n",
       "60    12186.655159\n",
       "61    11159.169977\n",
       "62    13003.566146\n",
       "63    15059.668069\n",
       "Length: 64, dtype: float64"
      ]
     },
     "execution_count": 25,
     "metadata": {},
     "output_type": "execute_result"
    }
   ],
   "source": [
    "data_utm.length"
   ]
  },
  {
   "cell_type": "code",
   "execution_count": 26,
   "id": "0821891d-7ad6-4715-b9e9-e6180969d7b2",
   "metadata": {},
   "outputs": [
    {
     "data": {
      "text/html": [
       "<div>\n",
       "<style scoped>\n",
       "    .dataframe tbody tr th:only-of-type {\n",
       "        vertical-align: middle;\n",
       "    }\n",
       "\n",
       "    .dataframe tbody tr th {\n",
       "        vertical-align: top;\n",
       "    }\n",
       "\n",
       "    .dataframe thead th {\n",
       "        text-align: right;\n",
       "    }\n",
       "</style>\n",
       "<table border=\"1\" class=\"dataframe\">\n",
       "  <thead>\n",
       "    <tr style=\"text-align: right;\">\n",
       "      <th></th>\n",
       "      <th>ID</th>\n",
       "      <th>NOMBRE</th>\n",
       "      <th>geometry</th>\n",
       "      <th>Centro_X</th>\n",
       "      <th>Centro_Y</th>\n",
       "      <th>AREA_m2</th>\n",
       "      <th>AREA_Ha</th>\n",
       "      <th>Perim_m</th>\n",
       "      <th>Perim_Km</th>\n",
       "    </tr>\n",
       "  </thead>\n",
       "  <tbody>\n",
       "    <tr>\n",
       "      <th>0</th>\n",
       "      <td>1</td>\n",
       "      <td>LEIMAN L</td>\n",
       "      <td>POLYGON ((486910.524 8794616.859, 485534.688 8...</td>\n",
       "      <td>486609.33</td>\n",
       "      <td>8795467.62</td>\n",
       "      <td>1956153.11</td>\n",
       "      <td>195.62</td>\n",
       "      <td>5641.29</td>\n",
       "      <td>5.64</td>\n",
       "    </tr>\n",
       "    <tr>\n",
       "      <th>1</th>\n",
       "      <td>2</td>\n",
       "      <td>FELIX FL</td>\n",
       "      <td>POLYGON ((490879.282 8797675.448, 489799.780 8...</td>\n",
       "      <td>490505.76</td>\n",
       "      <td>8798549.50</td>\n",
       "      <td>1558358.85</td>\n",
       "      <td>155.84</td>\n",
       "      <td>5068.39</td>\n",
       "      <td>5.07</td>\n",
       "    </tr>\n",
       "    <tr>\n",
       "      <th>2</th>\n",
       "      <td>3</td>\n",
       "      <td>milton c</td>\n",
       "      <td>POLYGON ((492636.119 8797950.615, 492540.869 8...</td>\n",
       "      <td>493285.15</td>\n",
       "      <td>8798846.83</td>\n",
       "      <td>2741660.95</td>\n",
       "      <td>274.17</td>\n",
       "      <td>6395.34</td>\n",
       "      <td>6.40</td>\n",
       "    </tr>\n",
       "  </tbody>\n",
       "</table>\n",
       "</div>"
      ],
      "text/plain": [
       "   ID    NOMBRE                                           geometry   Centro_X  \\\n",
       "0   1  LEIMAN L  POLYGON ((486910.524 8794616.859, 485534.688 8...  486609.33   \n",
       "1   2  FELIX FL  POLYGON ((490879.282 8797675.448, 489799.780 8...  490505.76   \n",
       "2   3  milton c  POLYGON ((492636.119 8797950.615, 492540.869 8...  493285.15   \n",
       "\n",
       "     Centro_Y     AREA_m2  AREA_Ha  Perim_m  Perim_Km  \n",
       "0  8795467.62  1956153.11   195.62  5641.29      5.64  \n",
       "1  8798549.50  1558358.85   155.84  5068.39      5.07  \n",
       "2  8798846.83  2741660.95   274.17  6395.34      6.40  "
      ]
     },
     "execution_count": 26,
     "metadata": {},
     "output_type": "execute_result"
    }
   ],
   "source": [
    "data_utm[\"Perim_m\"] = round(data_utm.length,2)\n",
    "data_utm[\"Perim_Km\"] = round(data_utm.length/1000,2)\n",
    "data_utm.head(3)"
   ]
  },
  {
   "cell_type": "code",
   "execution_count": 27,
   "id": "42e44ac6-adb5-4901-a6f3-d2d25d54ce36",
   "metadata": {},
   "outputs": [
    {
     "name": "stderr",
     "output_type": "stream",
     "text": [
      "C:\\Users\\Bismar\\.conda\\envs\\sig_python\\lib\\site-packages\\geopandas\\io\\file.py:299: FutureWarning: pandas.Int64Index is deprecated and will be removed from pandas in a future version. Use pandas.Index with the appropriate dtype instead.\n",
      "  pd.Int64Index,\n"
     ]
    }
   ],
   "source": [
    "# Ouput filepath\n",
    "outfp = \"Predio3.shp\"\n",
    "\n",
    "# Save to disk\n",
    "data_utm.to_file(outfp)"
   ]
  },
  {
   "cell_type": "markdown",
   "id": "b816f82b-44f5-47a2-8d25-cb45a35fb708",
   "metadata": {},
   "source": [
    "## Dato extension"
   ]
  },
  {
   "cell_type": "code",
   "execution_count": 43,
   "id": "cc5354cf-89e1-4991-812d-10a06e7734b6",
   "metadata": {},
   "outputs": [
    {
     "data": {
      "text/plain": [
       "0    POLYGON ((485534.688 8794616.859, 487693.692 8...\n",
       "1    POLYGON ((489725.696 8797675.448, 491440.200 8...\n",
       "2    POLYGON ((492540.869 8797728.365, 494181.289 8...\n",
       "3    POLYGON ((483028.593 8791545.569, 484616.096 8...\n",
       "4    POLYGON ((474731.243 8790148.566, 476551.580 8...\n",
       "dtype: geometry"
      ]
     },
     "execution_count": 43,
     "metadata": {},
     "output_type": "execute_result"
    }
   ],
   "source": [
    "# Data extension de cada poligono\n",
    "data_utm.envelope.head()"
   ]
  },
  {
   "cell_type": "code",
   "execution_count": 44,
   "id": "8ff23e98-806d-4b8f-9dd1-55a6132ccbe8",
   "metadata": {},
   "outputs": [],
   "source": [
    "# Crear convexion de cada poligono\n",
    "# crea un marco (rectangulo) que envuelve de forma individual a cada uno de los poligonos\n",
    "data_envelo = data_utm.envelope.convex_hull"
   ]
  },
  {
   "cell_type": "code",
   "execution_count": 45,
   "id": "06373d7f-14ff-40ca-97fe-fc5b37e89aa6",
   "metadata": {},
   "outputs": [
    {
     "data": {
      "text/plain": [
       "0     POLYGON ((485534.688 8794616.859, 485534.688 8...\n",
       "1     POLYGON ((489725.696 8797675.448, 489725.696 8...\n",
       "2     POLYGON ((492540.869 8797728.365, 492540.869 8...\n",
       "3     POLYGON ((483028.593 8791545.569, 483028.593 8...\n",
       "4     POLYGON ((474731.243 8790148.566, 474731.243 8...\n",
       "                            ...                        \n",
       "59    POLYGON ((447679.265 8841085.255, 447679.265 8...\n",
       "60    POLYGON ((442321.441 8846773.808, 442321.441 8...\n",
       "61    POLYGON ((439014.143 8851205.588, 439014.143 8...\n",
       "62    POLYGON ((479429.328 8871909.275, 479429.328 8...\n",
       "63    POLYGON ((457601.159 8891885.356, 457601.159 8...\n",
       "Length: 64, dtype: geometry"
      ]
     },
     "execution_count": 45,
     "metadata": {},
     "output_type": "execute_result"
    }
   ],
   "source": [
    "data_envelo"
   ]
  },
  {
   "cell_type": "code",
   "execution_count": 46,
   "id": "b4f3732a-af70-43f3-adfd-f8ebd989830f",
   "metadata": {},
   "outputs": [
    {
     "name": "stderr",
     "output_type": "stream",
     "text": [
      "C:\\Users\\Bismar\\.conda\\envs\\sig_python\\lib\\site-packages\\geopandas\\io\\file.py:299: FutureWarning: pandas.Int64Index is deprecated and will be removed from pandas in a future version. Use pandas.Index with the appropriate dtype instead.\n",
      "  pd.Int64Index,\n"
     ]
    }
   ],
   "source": [
    "# Ouput filepath\n",
    "outfp = \"Predio_convexion.shp\"\n",
    "\n",
    "# Save to disk\n",
    "data_envelo.to_file(outfp)"
   ]
  },
  {
   "cell_type": "code",
   "execution_count": 47,
   "id": "a2ba26ab-30fc-428c-a896-2bc38d7094b1",
   "metadata": {},
   "outputs": [
    {
     "data": {
      "text/plain": [
       "array([ 439014.14311196, 8716128.58507491,  494181.28872997,\n",
       "       8970863.63943071])"
      ]
     },
     "execution_count": 47,
     "metadata": {},
     "output_type": "execute_result"
    }
   ],
   "source": [
    "# Data extension de todos los poligonos\n",
    "# crea un solo marco (rectangulo) que envuelve a todos los poligonos del GDF\n",
    "data_total = data_utm.total_bounds\n",
    "data_total\n",
    "# retorna un array"
   ]
  },
  {
   "cell_type": "code",
   "execution_count": 49,
   "id": "e88ce077-7b4d-40f5-a737-322d29b7fe45",
   "metadata": {},
   "outputs": [
    {
     "data": {
      "text/plain": [
       "[439014.1431119619, 8716128.585074915, 494181.28872997407, 8970863.639430711]"
      ]
     },
     "execution_count": 49,
     "metadata": {},
     "output_type": "execute_result"
    }
   ],
   "source": [
    "# convertir el array en lista\n",
    "lista_borde = list(data_total)\n",
    "lista_borde"
   ]
  },
  {
   "cell_type": "code",
   "execution_count": 51,
   "id": "ad45495a-61e9-47ae-bc77-aef589b1b709",
   "metadata": {},
   "outputs": [],
   "source": [
    "# Importar shapely\n",
    "# para crear el shp marco con la cood del anterior paso\n",
    "from shapely.geometry import Polygon\n",
    "from shapely.geometry import box"
   ]
  },
  {
   "cell_type": "code",
   "execution_count": 52,
   "id": "c0df803c-4312-4967-9c97-055a1c755b16",
   "metadata": {},
   "outputs": [
    {
     "data": {
      "text/plain": [
       "8716128.585074915"
      ]
     },
     "execution_count": 52,
     "metadata": {},
     "output_type": "execute_result"
    }
   ],
   "source": [
    "# determinar limites x, y con los border del anterior paso\n",
    "min_x = lista_borde[0]\n",
    "min_y = lista_borde[3]\n",
    "max_x = lista_borde[2]\n",
    "max_y = lista_borde[1]\n",
    "max_y"
   ]
  },
  {
   "cell_type": "code",
   "execution_count": 53,
   "id": "2d829cb3-ff75-4636-8bc5-fde6b1728767",
   "metadata": {},
   "outputs": [],
   "source": [
    "# se crea la caja\n",
    "Extension_poligono = box(minx=min_x, miny=min_y, maxx=max_x, maxy=max_y)"
   ]
  },
  {
   "cell_type": "code",
   "execution_count": 54,
   "id": "37992c9e-cce4-43ce-b808-ab27f67a1412",
   "metadata": {},
   "outputs": [
    {
     "data": {
      "text/plain": [
       "shapely.geometry.polygon.Polygon"
      ]
     },
     "execution_count": 54,
     "metadata": {},
     "output_type": "execute_result"
    }
   ],
   "source": [
    "type(Extension_poligono)"
   ]
  },
  {
   "cell_type": "code",
   "execution_count": 55,
   "id": "33eb5c5b-2701-41f0-8e5b-b4d261cf0fa2",
   "metadata": {},
   "outputs": [
    {
     "data": {
      "text/html": [
       "<div>\n",
       "<style scoped>\n",
       "    .dataframe tbody tr th:only-of-type {\n",
       "        vertical-align: middle;\n",
       "    }\n",
       "\n",
       "    .dataframe tbody tr th {\n",
       "        vertical-align: top;\n",
       "    }\n",
       "\n",
       "    .dataframe thead th {\n",
       "        text-align: right;\n",
       "    }\n",
       "</style>\n",
       "<table border=\"1\" class=\"dataframe\">\n",
       "  <thead>\n",
       "    <tr style=\"text-align: right;\">\n",
       "      <th></th>\n",
       "      <th>name</th>\n",
       "      <th>geometry</th>\n",
       "    </tr>\n",
       "  </thead>\n",
       "  <tbody>\n",
       "    <tr>\n",
       "      <th>0</th>\n",
       "      <td>Extension</td>\n",
       "      <td>POLYGON ((494181.289 8970863.639, 494181.289 8...</td>\n",
       "    </tr>\n",
       "  </tbody>\n",
       "</table>\n",
       "</div>"
      ],
      "text/plain": [
       "        name                                           geometry\n",
       "0  Extension  POLYGON ((494181.289 8970863.639, 494181.289 8..."
      ]
     },
     "execution_count": 55,
     "metadata": {},
     "output_type": "execute_result"
    }
   ],
   "source": [
    "# se crea el GDF\n",
    "Extension_poligono2 = gpd.GeoDataFrame({'name': ['Extension'], 'geometry': [Extension_poligono]}, crs=32718)\n",
    "Extension_poligono2"
   ]
  },
  {
   "cell_type": "code",
   "execution_count": 57,
   "id": "1355c6c9-b058-4791-be69-47f5bed083f4",
   "metadata": {},
   "outputs": [
    {
     "data": {
      "text/plain": [
       "<Projected CRS: EPSG:32718>\n",
       "Name: WGS 84 / UTM zone 18S\n",
       "Axis Info [cartesian]:\n",
       "- E[east]: Easting (metre)\n",
       "- N[north]: Northing (metre)\n",
       "Area of Use:\n",
       "- name: World - S hemisphere - 78°W to 72°W - by country\n",
       "- bounds: (-78.0, -80.0, -72.0, 0.0)\n",
       "Coordinate Operation:\n",
       "- name: UTM zone 18S\n",
       "- method: Transverse Mercator\n",
       "Datum: World Geodetic System 1984\n",
       "- Ellipsoid: WGS 84\n",
       "- Prime Meridian: Greenwich"
      ]
     },
     "execution_count": 57,
     "metadata": {},
     "output_type": "execute_result"
    }
   ],
   "source": [
    "# ver sistema de coordenadas del file\n",
    "Extension_poligono2.crs"
   ]
  },
  {
   "cell_type": "code",
   "execution_count": 58,
   "id": "8fbeeb2d-cd69-41d5-899c-54670a707c90",
   "metadata": {},
   "outputs": [
    {
     "name": "stderr",
     "output_type": "stream",
     "text": [
      "C:\\Users\\Bismar\\.conda\\envs\\sig_python\\lib\\site-packages\\geopandas\\io\\file.py:299: FutureWarning: pandas.Int64Index is deprecated and will be removed from pandas in a future version. Use pandas.Index with the appropriate dtype instead.\n",
      "  pd.Int64Index,\n"
     ]
    }
   ],
   "source": [
    "# Save to disk\n",
    "Extension_poligono2.to_file(\"Extension_poligono\")"
   ]
  },
  {
   "cell_type": "markdown",
   "id": "46b14925-7a9f-4f8d-b6c2-b6632fb2e734",
   "metadata": {},
   "source": [
    "# Buffer"
   ]
  },
  {
   "cell_type": "code",
   "execution_count": 60,
   "id": "49dd8472-08f3-4a63-8dcc-b1885881e5e6",
   "metadata": {},
   "outputs": [],
   "source": [
    "# Buffer de cada poligono 1000m Borde\n",
    "# buffer de cada poligono del envolvente de cada poligono\n",
    "# crea buffer en forma curva\n",
    "data_envelo_1000 = data_envelo.buffer(1000)"
   ]
  },
  {
   "cell_type": "code",
   "execution_count": 61,
   "id": "5f41cd34-5f44-41e4-bb8e-ff95a65aac3c",
   "metadata": {},
   "outputs": [],
   "source": [
    "# Buffer de cada poligono 1000m Recto\n",
    "# crea buffer con la aristas curvas\n",
    "data_envelo_1000_1 = data_envelo.buffer(1000, join_style=2)"
   ]
  },
  {
   "cell_type": "code",
   "execution_count": 62,
   "id": "25689909-da88-4c61-957e-f2fc738c11cc",
   "metadata": {},
   "outputs": [
    {
     "name": "stderr",
     "output_type": "stream",
     "text": [
      "C:\\Users\\Bismar\\.conda\\envs\\sig_python\\lib\\site-packages\\geopandas\\io\\file.py:299: FutureWarning: pandas.Int64Index is deprecated and will be removed from pandas in a future version. Use pandas.Index with the appropriate dtype instead.\n",
      "  pd.Int64Index,\n",
      "C:\\Users\\Bismar\\.conda\\envs\\sig_python\\lib\\site-packages\\geopandas\\io\\file.py:299: FutureWarning: pandas.Int64Index is deprecated and will be removed from pandas in a future version. Use pandas.Index with the appropriate dtype instead.\n",
      "  pd.Int64Index,\n"
     ]
    }
   ],
   "source": [
    "# Save to disk\n",
    "data_envelo_1000.to_file(\"data_envelo_1000_1\")\n",
    "data_envelo_1000_1.to_file(\"data_envelo_1000_2\")"
   ]
  },
  {
   "cell_type": "markdown",
   "id": "bbcd4fd3-8417-40a2-8c5f-c3d6abf486fb",
   "metadata": {},
   "source": [
    "# DISOLVE de los poligonos buffer"
   ]
  },
  {
   "cell_type": "code",
   "execution_count": 65,
   "id": "5d5afa32-7e0b-47a1-9978-0bcb7137beea",
   "metadata": {},
   "outputs": [],
   "source": [
    "# data_envelo_1000, contiene los poligonos buffer cuadrados, uno por cada poligono del shp original, \n",
    "# el problema es que los poligonos buffer se sobreponen, se disuelve los poligonoa para que se una todo\n",
    "data_envelo_unido = data_envelo_1000_1.unary_union"
   ]
  },
  {
   "cell_type": "code",
   "execution_count": 66,
   "id": "fdcbf25d-0e9d-4cf8-ada0-86ee34d3d143",
   "metadata": {},
   "outputs": [
    {
     "data": {
      "text/plain": [
       "shapely.geometry.multipolygon.MultiPolygon"
      ]
     },
     "execution_count": 66,
     "metadata": {},
     "output_type": "execute_result"
    }
   ],
   "source": [
    "type(data_envelo_unido)"
   ]
  },
  {
   "cell_type": "code",
   "execution_count": 67,
   "id": "d93c6c68-f710-419e-b17f-98dc01f62992",
   "metadata": {},
   "outputs": [
    {
     "data": {
      "text/html": [
       "<div>\n",
       "<style scoped>\n",
       "    .dataframe tbody tr th:only-of-type {\n",
       "        vertical-align: middle;\n",
       "    }\n",
       "\n",
       "    .dataframe tbody tr th {\n",
       "        vertical-align: top;\n",
       "    }\n",
       "\n",
       "    .dataframe thead th {\n",
       "        text-align: right;\n",
       "    }\n",
       "</style>\n",
       "<table border=\"1\" class=\"dataframe\">\n",
       "  <thead>\n",
       "    <tr style=\"text-align: right;\">\n",
       "      <th></th>\n",
       "      <th>geometry</th>\n",
       "    </tr>\n",
       "  </thead>\n",
       "  <tbody>\n",
       "    <tr>\n",
       "      <th>0</th>\n",
       "      <td>MULTIPOLYGON (((444627.018 8715128.585, 444627...</td>\n",
       "    </tr>\n",
       "  </tbody>\n",
       "</table>\n",
       "</div>"
      ],
      "text/plain": [
       "                                            geometry\n",
       "0  MULTIPOLYGON (((444627.018 8715128.585, 444627..."
      ]
     },
     "execution_count": 67,
     "metadata": {},
     "output_type": "execute_result"
    }
   ],
   "source": [
    "data_envelo_unido2 = gpd.GeoDataFrame({'geometry': [data_envelo_unido]}, crs=32718)\n",
    "data_envelo_unido2"
   ]
  },
  {
   "cell_type": "code",
   "execution_count": 68,
   "id": "b405948a-2b38-4e89-b33e-a4325d0e595c",
   "metadata": {},
   "outputs": [
    {
     "name": "stderr",
     "output_type": "stream",
     "text": [
      "C:\\Users\\Bismar\\.conda\\envs\\sig_python\\lib\\site-packages\\geopandas\\io\\file.py:299: FutureWarning: pandas.Int64Index is deprecated and will be removed from pandas in a future version. Use pandas.Index with the appropriate dtype instead.\n",
      "  pd.Int64Index,\n"
     ]
    }
   ],
   "source": [
    "data_envelo_unido2.to_file(\"data_envelo_1000_Unido\")"
   ]
  },
  {
   "cell_type": "code",
   "execution_count": null,
   "id": "bf3032a9-c524-44c5-a7ed-bcb6c0a7a616",
   "metadata": {},
   "outputs": [],
   "source": []
  }
 ],
 "metadata": {
  "kernelspec": {
   "display_name": "Python 3 (ipykernel)",
   "language": "python",
   "name": "python3"
  },
  "language_info": {
   "codemirror_mode": {
    "name": "ipython",
    "version": 3
   },
   "file_extension": ".py",
   "mimetype": "text/x-python",
   "name": "python",
   "nbconvert_exporter": "python",
   "pygments_lexer": "ipython3",
   "version": "3.9.5"
  }
 },
 "nbformat": 4,
 "nbformat_minor": 5
}
