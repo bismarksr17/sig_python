{
 "cells": [
  {
   "cell_type": "markdown",
   "id": "bd55e5b2-7059-4eae-8b4b-0939fdc067e7",
   "metadata": {},
   "source": [
    "# Introducción básica de Python"
   ]
  },
  {
   "cell_type": "markdown",
   "id": "c6d3d9ce-cd42-4c61-803d-97b7bb36257f",
   "metadata": {},
   "source": [
    "Python es un lenguaje de programación de propósito general muy poderoso y flexible, a la vez que sencillo y fácil de aprender. Es un lenguaje de alto nivel, que permite procesar fácilmente todo tipo de estructuras de datos, tanto numéricos como de texto."
   ]
  },
  {
   "cell_type": "markdown",
   "id": "9b370cdd-09df-4b5e-b32e-4185d4afef88",
   "metadata": {},
   "source": [
    "## Versión de python "
   ]
  },
  {
   "cell_type": "code",
   "execution_count": 1,
   "id": "6c73179a-8c89-4cbe-a74e-f7f0125a16cf",
   "metadata": {},
   "outputs": [
    {
     "name": "stdout",
     "output_type": "stream",
     "text": [
      "Python 3.9.5\n"
     ]
    }
   ],
   "source": [
    "!python --version"
   ]
  },
  {
   "cell_type": "markdown",
   "id": "61bc5c3c-82cf-49a2-9376-6dcde5dde196",
   "metadata": {},
   "source": [
    "## Variables\n",
    "Es un nombre que se refiere a un objeto que reside en la memoria. El objeto puede ser de alguno de los tipos vistos (número o cadena de texto), o alguno de los otros tipos existentes en Python.\n",
    "\n",
    "En `Python` asignamos valores a las variables siguiendo el siguiente formato: `nombre_variable = valor`"
   ]
  },
  {
   "cell_type": "markdown",
   "id": "509b8cd5-93df-48c9-bc52-1745c13a1151",
   "metadata": {},
   "source": [
    "| Tipo dato | Data type            | Example    |\n",
    "| -------------- | -------------------- | ---------- |\n",
    "| `int`          | Valor entero numero | `4`        |\n",
    "| `float`        | Valor decimal numero       | `3.1415`   |\n",
    "| `str`          | Texto caractere string    | `'Geomatica'`    |\n",
    "| `bool`         | Valor Verdadero/Falso    | `True`, `False`     |\n",
    "\n",
    "El tipo de datos se puede encontrar usando la función `type()`."
   ]
  },
  {
   "cell_type": "code",
   "execution_count": 18,
   "id": "c52e690d-5fbc-46a2-b126-9d99f41a16aa",
   "metadata": {},
   "outputs": [],
   "source": [
    "a = 5"
   ]
  },
  {
   "cell_type": "code",
   "execution_count": 8,
   "id": "2f0925d4-0cc0-4b97-a253-5a09766f601a",
   "metadata": {},
   "outputs": [
    {
     "name": "stdout",
     "output_type": "stream",
     "text": [
      "Valor de la letra a: False\n"
     ]
    }
   ],
   "source": [
    "print(\"Valor de la letra a:\", a>10)"
   ]
  },
  {
   "cell_type": "code",
   "execution_count": 20,
   "id": "fffa1d96-dc47-46ef-ae79-aa3483cdcd9c",
   "metadata": {},
   "outputs": [
    {
     "data": {
      "text/plain": [
       "str"
      ]
     },
     "execution_count": 20,
     "metadata": {},
     "output_type": "execute_result"
    }
   ],
   "source": [
    "type(str(a))"
   ]
  },
  {
   "cell_type": "code",
   "execution_count": 21,
   "id": "77d00e78-9595-4091-8771-98adcd03669d",
   "metadata": {},
   "outputs": [
    {
     "name": "stdout",
     "output_type": "stream",
     "text": [
      "Valor de a es: 5\n",
      "Valor de a es: 5\n"
     ]
    }
   ],
   "source": [
    "print(\"Valor de a es: \" + str(a))\n",
    "print(\"Valor de a es:\", a)"
   ]
  },
  {
   "cell_type": "code",
   "execution_count": 22,
   "id": "39cba1ce-9ba1-4cd3-b18d-1f60f3402c1a",
   "metadata": {},
   "outputs": [
    {
     "data": {
      "text/plain": [
       "int"
      ]
     },
     "execution_count": 22,
     "metadata": {},
     "output_type": "execute_result"
    }
   ],
   "source": [
    "type(a)"
   ]
  },
  {
   "cell_type": "code",
   "execution_count": 23,
   "id": "3d6f28e1-4309-4817-8eba-5948e405af4f",
   "metadata": {},
   "outputs": [
    {
     "name": "stdout",
     "output_type": "stream",
     "text": [
      "Valor de b es: 3.7\n",
      "Tipo de clase b: <class 'float'>\n"
     ]
    }
   ],
   "source": [
    "b = 3.7\n",
    "print(\"Valor de b es:\", b)\n",
    "print(\"Tipo de clase b:\", type(b))"
   ]
  },
  {
   "cell_type": "code",
   "execution_count": 11,
   "id": "c77cdd7b-ba4b-4a50-8624-0ba4c1225d97",
   "metadata": {},
   "outputs": [
    {
     "data": {
      "text/plain": [
       "float"
      ]
     },
     "execution_count": 11,
     "metadata": {},
     "output_type": "execute_result"
    }
   ],
   "source": [
    "type(b)"
   ]
  },
  {
   "cell_type": "code",
   "execution_count": 24,
   "id": "dad8a871-4a69-429a-be18-18a335312e4c",
   "metadata": {},
   "outputs": [
    {
     "name": "stdout",
     "output_type": "stream",
     "text": [
      "El valor de c es: Geomatica\n",
      "Tipo de clase <class 'str'>\n"
     ]
    }
   ],
   "source": [
    "c = \"Geomatica\"\n",
    "print(\"El valor de c es:\", c)\n",
    "print(\"Tipo de clase\", type(c))"
   ]
  },
  {
   "cell_type": "code",
   "execution_count": 25,
   "id": "df0bff56-55eb-4ad6-8586-bcd926df3fa7",
   "metadata": {},
   "outputs": [
    {
     "data": {
      "text/plain": [
       "str"
      ]
     },
     "execution_count": 25,
     "metadata": {},
     "output_type": "execute_result"
    }
   ],
   "source": [
    "type(c)"
   ]
  },
  {
   "cell_type": "code",
   "execution_count": 26,
   "id": "9e77d048-ddc2-4294-bbbf-1013c101e29c",
   "metadata": {},
   "outputs": [
    {
     "name": "stdout",
     "output_type": "stream",
     "text": [
      "El valor de d es: True\n",
      "Tipo de clase <class 'bool'>\n"
     ]
    }
   ],
   "source": [
    "d = True\n",
    "print(\"El valor de d es:\", d)\n",
    "print(\"Tipo de clase\", type(d))"
   ]
  },
  {
   "cell_type": "code",
   "execution_count": 27,
   "id": "1fee9c6f-6233-4f37-9c5d-64c9df4f0c52",
   "metadata": {},
   "outputs": [
    {
     "data": {
      "text/plain": [
       "bool"
      ]
     },
     "execution_count": 27,
     "metadata": {},
     "output_type": "execute_result"
    }
   ],
   "source": [
    "type(d)"
   ]
  },
  {
   "cell_type": "markdown",
   "id": "44021d0b-5439-4a66-8026-2ebe35004f4e",
   "metadata": {},
   "source": [
    "### Restricciones sobre los nombres de las variables\n",
    "\n",
    "- No pueden empezar ni contener carácteres especiales !, @, #, $, %, etc.\n",
    "- No pueden empezar por números\n",
    "- No pueden ser llamadas igual que las palabras claves reservadas en Python\n",
    "- No pueden contener espacios\n",
    "\n",
    "**Observación.** Conviene que al darle nombre a una variable, éste tenga sentido en cuanto al dato que guarde, para que así resulte mucho más fácil la comprensión por parte de quien lea el código."
   ]
  },
  {
   "cell_type": "code",
   "execution_count": 32,
   "id": "cf6045a6-e5c1-430a-835a-9329b5f93392",
   "metadata": {},
   "outputs": [],
   "source": [
    "Variable1 = 50"
   ]
  },
  {
   "cell_type": "markdown",
   "id": "427b48d9-8231-4c59-88cc-71a04352d58c",
   "metadata": {},
   "source": [
    "### Palabras clave en `Python`\n",
    "\n",
    "Las palabras clave en `Python` Para obtener una lista de todas"
   ]
  },
  {
   "cell_type": "code",
   "execution_count": 33,
   "id": "2000b40e-2c8c-422e-8996-5a4a065876cb",
   "metadata": {},
   "outputs": [
    {
     "data": {
      "text/plain": [
       "['False',\n",
       " 'None',\n",
       " 'True',\n",
       " '__peg_parser__',\n",
       " 'and',\n",
       " 'as',\n",
       " 'assert',\n",
       " 'async',\n",
       " 'await',\n",
       " 'break',\n",
       " 'class',\n",
       " 'continue',\n",
       " 'def',\n",
       " 'del',\n",
       " 'elif',\n",
       " 'else',\n",
       " 'except',\n",
       " 'finally',\n",
       " 'for',\n",
       " 'from',\n",
       " 'global',\n",
       " 'if',\n",
       " 'import',\n",
       " 'in',\n",
       " 'is',\n",
       " 'lambda',\n",
       " 'nonlocal',\n",
       " 'not',\n",
       " 'or',\n",
       " 'pass',\n",
       " 'raise',\n",
       " 'return',\n",
       " 'try',\n",
       " 'while',\n",
       " 'with',\n",
       " 'yield']"
      ]
     },
     "execution_count": 33,
     "metadata": {},
     "output_type": "execute_result"
    }
   ],
   "source": [
    "import keyword\n",
    "keyword.kwlist"
   ]
  },
  {
   "cell_type": "markdown",
   "id": "f88052a2-5b9d-4dda-812d-6f69137feb87",
   "metadata": {},
   "source": [
    "### Declarando múltiples variables en una sola línea\n",
    "\n",
    "Se hace del siguiente modo:"
   ]
  },
  {
   "cell_type": "code",
   "execution_count": 37,
   "id": "2175a176-8713-4055-894b-4e6d6ee86162",
   "metadata": {},
   "outputs": [],
   "source": [
    "anual, nombre,temperatura = 22, \"Maria\",25.6"
   ]
  },
  {
   "cell_type": "code",
   "execution_count": 39,
   "id": "8f101775-25f1-4924-b89c-c075a19d9d7f",
   "metadata": {},
   "outputs": [
    {
     "name": "stdout",
     "output_type": "stream",
     "text": [
      "25.6\n"
     ]
    }
   ],
   "source": [
    "print(temperatura)"
   ]
  },
  {
   "cell_type": "markdown",
   "id": "5fe04a6c-8654-4f6a-9f79-85ae1a13c06b",
   "metadata": {},
   "source": [
    "### Operando con una variable numérica\n",
    "\n",
    "Una vez hemos guardado un valor numérico en una variable, podemos operar con él:"
   ]
  },
  {
   "cell_type": "code",
   "execution_count": 46,
   "id": "6e1c2451-177a-4526-968c-0a319a789236",
   "metadata": {},
   "outputs": [
    {
     "data": {
      "text/plain": [
       "4"
      ]
     },
     "execution_count": 46,
     "metadata": {},
     "output_type": "execute_result"
    }
   ],
   "source": [
    "x = 3\n",
    "x + 1"
   ]
  },
  {
   "cell_type": "markdown",
   "id": "dd0cd411-0aae-4758-b037-98dfa91e39f2",
   "metadata": {},
   "source": [
    "Incluso podemos guardar ese valor en una nueva variable"
   ]
  },
  {
   "cell_type": "code",
   "execution_count": 41,
   "id": "1f22484c-da01-45cf-9e78-1ccec8fff7cd",
   "metadata": {},
   "outputs": [
    {
     "data": {
      "text/plain": [
       "4"
      ]
     },
     "execution_count": 41,
     "metadata": {},
     "output_type": "execute_result"
    }
   ],
   "source": [
    "y = x + 1\n",
    "y"
   ]
  },
  {
   "cell_type": "code",
   "execution_count": 62,
   "id": "36b2520d-94ad-4147-a6d0-6e51d2b00f90",
   "metadata": {},
   "outputs": [
    {
     "data": {
      "text/plain": [
       "168"
      ]
     },
     "execution_count": 62,
     "metadata": {},
     "output_type": "execute_result"
    }
   ],
   "source": [
    "x *= 2\n",
    "x"
   ]
  },
  {
   "cell_type": "markdown",
   "id": "7a22ac2a-2e78-434e-a3dd-8a44c3a2310a",
   "metadata": {},
   "source": [
    "**Observación.** Al igual que existe `+=`, también tenemos `-=`, `*=`, `/=`, `//=`, `%=` y `**=`, que son el equivalente a `+=` con el resto de operaciones aritméticas existentes en `Python` y que trataremos en el siguiente tema.\n",
    "\n",
    "**Observación.** Todos los tipos de variable en `Python` los iremos viendo en profundidad a lo largo de este curso."
   ]
  },
  {
   "cell_type": "markdown",
   "id": "62d274a9-6922-487a-b8ee-7efd8624a06c",
   "metadata": {},
   "source": [
    "## Comentarios\n",
    "\n",
    "Dado un bloque de código, a veces puede ser útil explicar qué hace o en qué consiste, o bien hacer que una línea no se ejecute por algún motivo, pero que siga presente en dicho código. Aquí entran en juego los comentarios, que son parte del código, pero no se ejecutan.\n",
    "\n",
    "Si queremos hacer un comentario en una línea, utilizamos `#`"
   ]
  },
  {
   "cell_type": "markdown",
   "id": "363a15a0-b385-4ed7-84d9-1815d427a63e",
   "metadata": {},
   "source": [
    "Datos para la suma:\n",
    "- Valor de a es 10\n",
    "- Valor de b es 5\n",
    "- Cuanto vale c si es la suma de los dos"
   ]
  },
  {
   "cell_type": "code",
   "execution_count": 63,
   "id": "78fbbe5f-6f4a-47dc-be2c-977f3ed3dcf4",
   "metadata": {},
   "outputs": [
    {
     "name": "stdout",
     "output_type": "stream",
     "text": [
      "15\n"
     ]
    }
   ],
   "source": [
    "# Suma de numero\n",
    "a = 10\n",
    "b = 5\n",
    "c = a + b\n",
    "print(c)"
   ]
  },
  {
   "cell_type": "code",
   "execution_count": 64,
   "id": "3051e093-07b0-4133-abf8-94e283d5216c",
   "metadata": {},
   "outputs": [
    {
     "data": {
      "text/plain": [
       "1"
      ]
     },
     "execution_count": 64,
     "metadata": {},
     "output_type": "execute_result"
    }
   ],
   "source": [
    "# Vamos a definir la variable x y asignarle el valor 1\n",
    "x = 1 # Aquí está nuestra variable x\n",
    "# Esto es otro comentario\n",
    "# Y ninguno de los comentarios se ejecutará\n",
    "x"
   ]
  },
  {
   "cell_type": "markdown",
   "id": "0f384258-7304-4ed1-a51d-e9caff07d690",
   "metadata": {},
   "source": [
    "**Observación.** Los comentarios, como ya se ha dicho, pueden ser muy útiles a la hora de entender nuestro código. Sin embargo, no conviene abusar de estos, como se ha hecho en el ejemplo anterior, pues el código pasa de ser claro a ser excesivamente largo y confuso."
   ]
  },
  {
   "cell_type": "markdown",
   "id": "879d0bce-c125-4406-a01b-45feccd450d8",
   "metadata": {},
   "source": [
    "## La función `import`"
   ]
  },
  {
   "cell_type": "markdown",
   "id": "5fbca0e0-0969-4772-91f6-7e243cc28444",
   "metadata": {},
   "source": [
    "Antes de explicar en qué consiste la función `import`, hay que definir los siguientes conceptos:\n",
    "\n",
    "- **Algoritmo.** Conjunto ordenado de operaciones sistemáticas que permite hacer un cálculo y hallar la solución de un problema.\n",
    "- **Función.** Bloque de código con un nombre asociado, que recibe cero o más argumentos como entrada, sigue una secuencia de sentencias, la cuales ejecuta una operación deseada y devuelve un valor y/o realiza una tarea.\n",
    "- **Script.** Archivo diseñado para ser ejecutado. Puede contener funciones, programas, etc.\n",
    "- **Módulo.** Script que contiene colecciones de funciones, definiciones y declaraciones de `Python`."
   ]
  },
  {
   "cell_type": "markdown",
   "id": "8c194312-5cdb-4632-812d-300ad4588a9f",
   "metadata": {},
   "source": [
    "Las funciones de un módulo pueden ser importadas. Es aquí donde entra en juego la función `import`.\n",
    "\n",
    "Por ejemplo, vamos a importar el módulo `math`, del cual hablaremos en futuras secciones de este curso.\n",
    "\n",
    "De momento, lo que nos interesa saber acerca de este módulo es que es de utilidad a la hora de usar funciones matemáticas (definidas según los estándares de C)."
   ]
  },
  {
   "cell_type": "code",
   "execution_count": 66,
   "id": "903b374e-a82c-48b5-82bf-8fbc291a7e27",
   "metadata": {},
   "outputs": [],
   "source": [
    "import math"
   ]
  },
  {
   "cell_type": "code",
   "execution_count": 67,
   "id": "48f9a22d-6c1c-49ac-b0a7-58298c602511",
   "metadata": {},
   "outputs": [
    {
     "data": {
      "text/plain": [
       "3.141592653589793"
      ]
     },
     "execution_count": 67,
     "metadata": {},
     "output_type": "execute_result"
    }
   ],
   "source": [
    "math.pi"
   ]
  },
  {
   "cell_type": "markdown",
   "id": "dbb25ad0-3713-4767-8ab9-1899176a0109",
   "metadata": {},
   "source": [
    "Con la línea de código anterior, hemos cargado el módulo de `math`, permitiéndonos así poder trabajar con las funciones que contiene, haciendo uso de la sintaxis `math.funcion()` o `math.variable`.\n",
    "\n",
    "A la hora de usar funciones de un módulo, puede resultar tedioso tener que poner siempre el nombre del módulo previo a la función. Es por ello que la función `import` nos permite hacer lo siguiente:"
   ]
  },
  {
   "cell_type": "code",
   "execution_count": 68,
   "id": "6956e037-766a-486c-a89a-12e57e2adaee",
   "metadata": {},
   "outputs": [],
   "source": [
    "import math as mt"
   ]
  },
  {
   "cell_type": "code",
   "execution_count": 71,
   "id": "bad6881f-7c3e-4230-8a03-5de2964959ca",
   "metadata": {},
   "outputs": [
    {
     "data": {
      "text/plain": [
       "3.141592653589793"
      ]
     },
     "execution_count": 71,
     "metadata": {},
     "output_type": "execute_result"
    }
   ],
   "source": [
    "mt.pi"
   ]
  },
  {
   "cell_type": "markdown",
   "id": "6645f823-6d5f-45d5-b693-13b34e4647d4",
   "metadata": {},
   "source": [
    "Con la línea de código anterior, no solo hemos cargado el módulo de `math`, sino que a la hora de usar alguna de sus funiones, ahora podremos usar la sintaxis `mt.funcion()` o `mt.variable`. Es decir, en vez de tener que poner el nombre del módulo, podemos cambiarle el nombre o, como en este caso, usar la abreviatura `mt` (o la que quereamos utilizar), cosa que resulta de mucha utilidad para módulos con nombres muy largos.\n",
    "\n",
    "Si por el contrario no queremos cargar todo el módulo, sino que simplemente queremos cargar una función o una variable, lo podemos hacer de la siguiente forma:"
   ]
  },
  {
   "cell_type": "code",
   "execution_count": 72,
   "id": "f9cf621d-5c44-4669-9a60-165f789c8aef",
   "metadata": {},
   "outputs": [],
   "source": [
    "from math import pi"
   ]
  },
  {
   "cell_type": "code",
   "execution_count": 73,
   "id": "e517a73c-ca15-4f97-8b1c-a977dc69b1c0",
   "metadata": {},
   "outputs": [
    {
     "data": {
      "text/plain": [
       "3.141592653589793"
      ]
     },
     "execution_count": 73,
     "metadata": {},
     "output_type": "execute_result"
    }
   ],
   "source": [
    "pi"
   ]
  },
  {
   "cell_type": "markdown",
   "id": "f74468d9-103a-4605-88dd-6ff4fa356b90",
   "metadata": {},
   "source": [
    "La línea de código anterior nos permite acceder a la variable `pi` del módulo `math` directamente haciendo uso de la sintaxis `pi`, en vez de tener que usar la sintaxis `math.pi`.\n",
    "\n",
    "Al igual que podíamos modificar el nombre del módulo a la hora de llamarlo, también lo podemos hacer con las funciones y las variables."
   ]
  },
  {
   "cell_type": "code",
   "execution_count": 74,
   "id": "3d41798a-c70c-4c11-b66b-d68ef4cd8522",
   "metadata": {},
   "outputs": [],
   "source": [
    "from math import pi as n_pi"
   ]
  },
  {
   "cell_type": "code",
   "execution_count": 75,
   "id": "1824c692-9971-4e1c-a34a-6628fadcda91",
   "metadata": {},
   "outputs": [
    {
     "data": {
      "text/plain": [
       "3.141592653589793"
      ]
     },
     "execution_count": 75,
     "metadata": {},
     "output_type": "execute_result"
    }
   ],
   "source": [
    "n_pi"
   ]
  },
  {
   "cell_type": "markdown",
   "id": "b9fd7d6d-0d09-4993-92d4-59756351dcb0",
   "metadata": {},
   "source": [
    "Si por el contrario quisiésemos cargar más de una función o variable, pero sin necesidad de cargar todo el módulo, lo podríamos hacer del siguiente modo:"
   ]
  },
  {
   "cell_type": "code",
   "execution_count": 76,
   "id": "8a4452ae-9395-4df2-834e-4c59d84683c3",
   "metadata": {},
   "outputs": [],
   "source": [
    "from math import pi, log, exp, sin"
   ]
  },
  {
   "cell_type": "code",
   "execution_count": 77,
   "id": "2cdfb205-823e-40c4-a2ae-4036f5b5d4b7",
   "metadata": {},
   "outputs": [
    {
     "data": {
      "text/plain": [
       "0.8414709848078965"
      ]
     },
     "execution_count": 77,
     "metadata": {},
     "output_type": "execute_result"
    }
   ],
   "source": [
    "sin(1)"
   ]
  },
  {
   "cell_type": "code",
   "execution_count": 78,
   "id": "c392b9bf-93e3-4b9f-bc1d-441614f69313",
   "metadata": {},
   "outputs": [
    {
     "data": {
      "text/plain": [
       "1.6094379124341003"
      ]
     },
     "execution_count": 78,
     "metadata": {},
     "output_type": "execute_result"
    }
   ],
   "source": [
    "log(5)"
   ]
  },
  {
   "cell_type": "markdown",
   "id": "f0c00e66-9eb4-4842-ac47-9b3192f3c0cd",
   "metadata": {},
   "source": [
    "## Directorio de trabajo"
   ]
  },
  {
   "cell_type": "code",
   "execution_count": 79,
   "id": "21bfd910-f9fe-4022-a746-9e4c39a7de99",
   "metadata": {},
   "outputs": [],
   "source": [
    "import os"
   ]
  },
  {
   "cell_type": "code",
   "execution_count": 83,
   "id": "43b1edf3-9831-4d2b-a9f5-de3b34f458be",
   "metadata": {},
   "outputs": [
    {
     "data": {
      "text/plain": [
       "'E:\\\\Python\\\\02_SIG_Python'"
      ]
     },
     "execution_count": 83,
     "metadata": {},
     "output_type": "execute_result"
    }
   ],
   "source": [
    "os.getcwd()"
   ]
  },
  {
   "cell_type": "code",
   "execution_count": 81,
   "id": "166087b9-e678-453e-9092-39766e1cec4c",
   "metadata": {},
   "outputs": [],
   "source": [
    "ruta = r\"E:\\Python\\02_SIG_Python\""
   ]
  },
  {
   "cell_type": "code",
   "execution_count": 82,
   "id": "d0c283c4-29b9-4343-ba9f-8fa03a5ac295",
   "metadata": {},
   "outputs": [],
   "source": [
    "os.chdir(ruta)"
   ]
  },
  {
   "cell_type": "code",
   "execution_count": 84,
   "id": "ac6a5f55-0271-4050-9fbd-902a3fe86952",
   "metadata": {},
   "outputs": [
    {
     "data": {
      "text/plain": [
       "'E:\\\\Python\\\\02_SIG_Python'"
      ]
     },
     "execution_count": 84,
     "metadata": {},
     "output_type": "execute_result"
    }
   ],
   "source": [
    "os.getcwd()"
   ]
  },
  {
   "cell_type": "code",
   "execution_count": 85,
   "id": "3e2e3f4d-a7e6-4b03-86aa-e895aab50fba",
   "metadata": {},
   "outputs": [
    {
     "data": {
      "text/plain": [
       "'E:\\\\Python\\\\02_SIG_Python\\\\Carpeta_Nueva'"
      ]
     },
     "execution_count": 85,
     "metadata": {},
     "output_type": "execute_result"
    }
   ],
   "source": [
    "# Concatenar string o texto \n",
    "out_dir = os.path.normpath((os.getcwd() + '/Carpeta_Nueva' ))\n",
    "out_dir"
   ]
  },
  {
   "cell_type": "code",
   "execution_count": 86,
   "id": "6c90682e-7bed-44cf-a8c6-367a3c1a2a2d",
   "metadata": {},
   "outputs": [
    {
     "data": {
      "text/plain": [
       "str"
      ]
     },
     "execution_count": 86,
     "metadata": {},
     "output_type": "execute_result"
    }
   ],
   "source": [
    "type(out_dir)"
   ]
  },
  {
   "cell_type": "code",
   "execution_count": 87,
   "id": "f6ac78eb-4ffd-4bf3-809a-2eb21ca9ad0d",
   "metadata": {},
   "outputs": [],
   "source": [
    "# Crear la carpeta en el directorio\n",
    "os.makedirs(out_dir)"
   ]
  },
  {
   "cell_type": "markdown",
   "id": "7fc722b1-c744-4331-b292-d354053b8c3c",
   "metadata": {},
   "source": [
    "## Buscar un archivo"
   ]
  },
  {
   "cell_type": "code",
   "execution_count": 88,
   "id": "0e94156c-2c8b-4b70-ba69-ffa6a44392c0",
   "metadata": {},
   "outputs": [],
   "source": [
    "import glob"
   ]
  },
  {
   "cell_type": "code",
   "execution_count": 90,
   "id": "7f98aee8-5ee0-4951-af9c-bbfb2e3c1564",
   "metadata": {},
   "outputs": [
    {
     "data": {
      "text/plain": [
       "['Datos_Espacial/Formato/SHP\\\\Distrito_Ucayali.shp']"
      ]
     },
     "execution_count": 90,
     "metadata": {},
     "output_type": "execute_result"
    }
   ],
   "source": [
    "lista = glob.glob(\"Datos_Espacial/Formato/SHP/*shp\")\n",
    "lista"
   ]
  },
  {
   "cell_type": "code",
   "execution_count": null,
   "id": "94404a10-9681-4513-b29e-cbbbb16c28bd",
   "metadata": {},
   "outputs": [],
   "source": []
  }
 ],
 "metadata": {
  "kernelspec": {
   "display_name": "Python 3 (ipykernel)",
   "language": "python",
   "name": "python3"
  },
  "language_info": {
   "codemirror_mode": {
    "name": "ipython",
    "version": 3
   },
   "file_extension": ".py",
   "mimetype": "text/x-python",
   "name": "python",
   "nbconvert_exporter": "python",
   "pygments_lexer": "ipython3",
   "version": "3.9.5"
  },
  "toc-autonumbering": true
 },
 "nbformat": 4,
 "nbformat_minor": 5
}
