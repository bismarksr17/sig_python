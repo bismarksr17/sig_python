{
 "cells": [
  {
   "cell_type": "markdown",
   "id": "0fcc684d-d29c-4483-930d-518ea98fb6a5",
   "metadata": {},
   "source": [
    "# Excel a SHP"
   ]
  },
  {
   "cell_type": "code",
   "execution_count": 1,
   "id": "22ea4c85-28cb-4112-abce-3371af2e8cc2",
   "metadata": {},
   "outputs": [],
   "source": [
    "import os\n",
    "# Import Libraries\n",
    "import pandas as pd\n",
    "import geopandas as gpd\n",
    "import matplotlib.pyplot as plt"
   ]
  },
  {
   "cell_type": "code",
   "execution_count": 2,
   "id": "48682298-11bd-4a1b-8322-042be83c8647",
   "metadata": {},
   "outputs": [],
   "source": [
    "Ruta = r\"E:\\Python\\02_SIG_Python\\Datos_Espacial\\Excel\""
   ]
  },
  {
   "cell_type": "code",
   "execution_count": 3,
   "id": "72a74355-5221-4efc-b257-8c22f445611c",
   "metadata": {},
   "outputs": [
    {
     "data": {
      "text/plain": [
       "str"
      ]
     },
     "execution_count": 3,
     "metadata": {},
     "output_type": "execute_result"
    }
   ],
   "source": [
    "type(Ruta)"
   ]
  },
  {
   "cell_type": "code",
   "execution_count": 4,
   "id": "d1982c07-a638-491c-8522-65ed726b7dd9",
   "metadata": {},
   "outputs": [],
   "source": [
    "os.chdir(Ruta)"
   ]
  },
  {
   "cell_type": "code",
   "execution_count": 5,
   "id": "55393b2d-932a-4fc2-82b5-9491863804eb",
   "metadata": {},
   "outputs": [],
   "source": [
    "excel = pd.read_excel(\"COORDENADAS.xlsx\")"
   ]
  },
  {
   "cell_type": "code",
   "execution_count": 6,
   "id": "71359d82-2558-4eba-bdc2-d43891140e52",
   "metadata": {},
   "outputs": [
    {
     "data": {
      "text/plain": [
       "pandas.core.frame.DataFrame"
      ]
     },
     "execution_count": 6,
     "metadata": {},
     "output_type": "execute_result"
    }
   ],
   "source": [
    "type(excel)"
   ]
  },
  {
   "cell_type": "code",
   "execution_count": 8,
   "id": "e62a3790-84ad-42a2-ac2e-1b7f51a15363",
   "metadata": {},
   "outputs": [
    {
     "data": {
      "text/plain": [
       "29"
      ]
     },
     "execution_count": 8,
     "metadata": {},
     "output_type": "execute_result"
    }
   ],
   "source": [
    "len(excel)"
   ]
  },
  {
   "cell_type": "code",
   "execution_count": 12,
   "id": "ad14ec27-8dda-4c5e-9022-b4a87c462f8a",
   "metadata": {},
   "outputs": [
    {
     "data": {
      "text/plain": [
       "['ID', 'ESTE', 'NORTE ', 'Sexo', 'Edad', 'Zona']"
      ]
     },
     "execution_count": 12,
     "metadata": {},
     "output_type": "execute_result"
    }
   ],
   "source": [
    "list(excel.columns)"
   ]
  },
  {
   "cell_type": "code",
   "execution_count": 10,
   "id": "696a24d3-a783-4f50-9125-8081922849b5",
   "metadata": {
    "tags": []
   },
   "outputs": [
    {
     "data": {
      "text/html": [
       "<div>\n",
       "<style scoped>\n",
       "    .dataframe tbody tr th:only-of-type {\n",
       "        vertical-align: middle;\n",
       "    }\n",
       "\n",
       "    .dataframe tbody tr th {\n",
       "        vertical-align: top;\n",
       "    }\n",
       "\n",
       "    .dataframe thead th {\n",
       "        text-align: right;\n",
       "    }\n",
       "</style>\n",
       "<table border=\"1\" class=\"dataframe\">\n",
       "  <thead>\n",
       "    <tr style=\"text-align: right;\">\n",
       "      <th></th>\n",
       "      <th>ID</th>\n",
       "      <th>ESTE</th>\n",
       "      <th>NORTE</th>\n",
       "      <th>Sexo</th>\n",
       "      <th>Edad</th>\n",
       "      <th>Zona</th>\n",
       "    </tr>\n",
       "  </thead>\n",
       "  <tbody>\n",
       "    <tr>\n",
       "      <th>0</th>\n",
       "      <td>1</td>\n",
       "      <td>305448</td>\n",
       "      <td>8926668</td>\n",
       "      <td>F</td>\n",
       "      <td>14</td>\n",
       "      <td>18S</td>\n",
       "    </tr>\n",
       "    <tr>\n",
       "      <th>1</th>\n",
       "      <td>2</td>\n",
       "      <td>305123</td>\n",
       "      <td>8925261</td>\n",
       "      <td>M</td>\n",
       "      <td>12</td>\n",
       "      <td>18S</td>\n",
       "    </tr>\n",
       "    <tr>\n",
       "      <th>2</th>\n",
       "      <td>3</td>\n",
       "      <td>304554</td>\n",
       "      <td>8925426</td>\n",
       "      <td>F</td>\n",
       "      <td>15</td>\n",
       "      <td>18S</td>\n",
       "    </tr>\n",
       "  </tbody>\n",
       "</table>\n",
       "</div>"
      ],
      "text/plain": [
       "   ID    ESTE   NORTE  Sexo  Edad Zona\n",
       "0   1  305448  8926668    F    14  18S\n",
       "1   2  305123  8925261    M    12  18S\n",
       "2   3  304554  8925426    F    15  18S"
      ]
     },
     "execution_count": 10,
     "metadata": {},
     "output_type": "execute_result"
    }
   ],
   "source": [
    "excel.head(3)"
   ]
  },
  {
   "cell_type": "code",
   "execution_count": 13,
   "id": "da2fabb5-df29-4c3b-8da8-3cc559111923",
   "metadata": {},
   "outputs": [
    {
     "name": "stdout",
     "output_type": "stream",
     "text": [
      "<class 'pandas.core.frame.DataFrame'>\n",
      "RangeIndex: 29 entries, 0 to 28\n",
      "Data columns (total 6 columns):\n",
      " #   Column  Non-Null Count  Dtype \n",
      "---  ------  --------------  ----- \n",
      " 0   ID      29 non-null     int64 \n",
      " 1   ESTE    29 non-null     int64 \n",
      " 2   NORTE   29 non-null     int64 \n",
      " 3   Sexo    29 non-null     object\n",
      " 4   Edad    29 non-null     int64 \n",
      " 5   Zona    29 non-null     object\n",
      "dtypes: int64(4), object(2)\n",
      "memory usage: 1.5+ KB\n"
     ]
    }
   ],
   "source": [
    "excel.info()"
   ]
  },
  {
   "cell_type": "code",
   "execution_count": 14,
   "id": "0344c3bb-6087-45ff-bb4d-6fba4ce0d1dc",
   "metadata": {},
   "outputs": [
    {
     "data": {
      "text/html": [
       "<div>\n",
       "<style scoped>\n",
       "    .dataframe tbody tr th:only-of-type {\n",
       "        vertical-align: middle;\n",
       "    }\n",
       "\n",
       "    .dataframe tbody tr th {\n",
       "        vertical-align: top;\n",
       "    }\n",
       "\n",
       "    .dataframe thead th {\n",
       "        text-align: right;\n",
       "    }\n",
       "</style>\n",
       "<table border=\"1\" class=\"dataframe\">\n",
       "  <thead>\n",
       "    <tr style=\"text-align: right;\">\n",
       "      <th></th>\n",
       "      <th>ID</th>\n",
       "      <th>ESTE</th>\n",
       "      <th>NORTE</th>\n",
       "      <th>Edad</th>\n",
       "    </tr>\n",
       "  </thead>\n",
       "  <tbody>\n",
       "    <tr>\n",
       "      <th>count</th>\n",
       "      <td>29.000000</td>\n",
       "      <td>29.000000</td>\n",
       "      <td>2.900000e+01</td>\n",
       "      <td>29.000000</td>\n",
       "    </tr>\n",
       "    <tr>\n",
       "      <th>mean</th>\n",
       "      <td>15.000000</td>\n",
       "      <td>304813.724138</td>\n",
       "      <td>8.925399e+06</td>\n",
       "      <td>30.000000</td>\n",
       "    </tr>\n",
       "    <tr>\n",
       "      <th>std</th>\n",
       "      <td>8.514693</td>\n",
       "      <td>275.133850</td>\n",
       "      <td>3.862645e+02</td>\n",
       "      <td>14.045843</td>\n",
       "    </tr>\n",
       "    <tr>\n",
       "      <th>min</th>\n",
       "      <td>1.000000</td>\n",
       "      <td>304439.000000</td>\n",
       "      <td>8.924616e+06</td>\n",
       "      <td>12.000000</td>\n",
       "    </tr>\n",
       "    <tr>\n",
       "      <th>25%</th>\n",
       "      <td>8.000000</td>\n",
       "      <td>304642.000000</td>\n",
       "      <td>8.925224e+06</td>\n",
       "      <td>24.000000</td>\n",
       "    </tr>\n",
       "    <tr>\n",
       "      <th>50%</th>\n",
       "      <td>15.000000</td>\n",
       "      <td>304779.000000</td>\n",
       "      <td>8.925349e+06</td>\n",
       "      <td>25.000000</td>\n",
       "    </tr>\n",
       "    <tr>\n",
       "      <th>75%</th>\n",
       "      <td>22.000000</td>\n",
       "      <td>305088.000000</td>\n",
       "      <td>8.925500e+06</td>\n",
       "      <td>32.000000</td>\n",
       "    </tr>\n",
       "    <tr>\n",
       "      <th>max</th>\n",
       "      <td>29.000000</td>\n",
       "      <td>305448.000000</td>\n",
       "      <td>8.926668e+06</td>\n",
       "      <td>65.000000</td>\n",
       "    </tr>\n",
       "  </tbody>\n",
       "</table>\n",
       "</div>"
      ],
      "text/plain": [
       "              ID           ESTE        NORTE        Edad\n",
       "count  29.000000      29.000000  2.900000e+01  29.000000\n",
       "mean   15.000000  304813.724138  8.925399e+06  30.000000\n",
       "std     8.514693     275.133850  3.862645e+02  14.045843\n",
       "min     1.000000  304439.000000  8.924616e+06  12.000000\n",
       "25%     8.000000  304642.000000  8.925224e+06  24.000000\n",
       "50%    15.000000  304779.000000  8.925349e+06  25.000000\n",
       "75%    22.000000  305088.000000  8.925500e+06  32.000000\n",
       "max    29.000000  305448.000000  8.926668e+06  65.000000"
      ]
     },
     "execution_count": 14,
     "metadata": {},
     "output_type": "execute_result"
    }
   ],
   "source": [
    "# Estadistica datos\n",
    "excel.describe()"
   ]
  },
  {
   "cell_type": "code",
   "execution_count": 16,
   "id": "29198934-7488-4cb3-aff0-9fbc921e5749",
   "metadata": {},
   "outputs": [
    {
     "data": {
      "text/plain": [
       "Index(['ID', 'ESTE', 'NORTE ', 'Sexo', 'Edad', 'Zona'], dtype='object')"
      ]
     },
     "execution_count": 16,
     "metadata": {},
     "output_type": "execute_result"
    }
   ],
   "source": [
    "# Nombre de los campos\n",
    "excel.columns "
   ]
  },
  {
   "cell_type": "code",
   "execution_count": 17,
   "id": "1cd17c95-9fd8-4104-b91a-af606ba784ac",
   "metadata": {},
   "outputs": [],
   "source": [
    "# Eliminar espacios en nombres campos\n",
    "excel.columns  = excel.columns.str.strip()"
   ]
  },
  {
   "cell_type": "code",
   "execution_count": 18,
   "id": "0fbb4912-d645-44ec-9cc3-8351e3787c7e",
   "metadata": {},
   "outputs": [
    {
     "data": {
      "text/plain": [
       "Index(['ID', 'ESTE', 'NORTE', 'Sexo', 'Edad', 'Zona'], dtype='object')"
      ]
     },
     "execution_count": 18,
     "metadata": {},
     "output_type": "execute_result"
    }
   ],
   "source": [
    "excel.columns"
   ]
  },
  {
   "cell_type": "code",
   "execution_count": 19,
   "id": "07edf284-2d65-44ed-af0d-db02d06f8f3b",
   "metadata": {},
   "outputs": [],
   "source": [
    "# Create point geometries\n",
    "geometria = gpd.points_from_xy(excel['ESTE'],excel['NORTE'], crs=32718)"
   ]
  },
  {
   "cell_type": "code",
   "execution_count": 21,
   "id": "fe2ff2ec-71a4-4c45-a333-b94d5ac15e41",
   "metadata": {},
   "outputs": [],
   "source": [
    "datos_shp = gpd.GeoDataFrame(excel, geometry=geometria)"
   ]
  },
  {
   "cell_type": "code",
   "execution_count": 22,
   "id": "2f18065d-1755-43b1-8d97-34ceec495ae6",
   "metadata": {},
   "outputs": [
    {
     "data": {
      "text/html": [
       "<div>\n",
       "<style scoped>\n",
       "    .dataframe tbody tr th:only-of-type {\n",
       "        vertical-align: middle;\n",
       "    }\n",
       "\n",
       "    .dataframe tbody tr th {\n",
       "        vertical-align: top;\n",
       "    }\n",
       "\n",
       "    .dataframe thead th {\n",
       "        text-align: right;\n",
       "    }\n",
       "</style>\n",
       "<table border=\"1\" class=\"dataframe\">\n",
       "  <thead>\n",
       "    <tr style=\"text-align: right;\">\n",
       "      <th></th>\n",
       "      <th>ID</th>\n",
       "      <th>ESTE</th>\n",
       "      <th>NORTE</th>\n",
       "      <th>Sexo</th>\n",
       "      <th>Edad</th>\n",
       "      <th>Zona</th>\n",
       "      <th>geometry</th>\n",
       "    </tr>\n",
       "  </thead>\n",
       "  <tbody>\n",
       "    <tr>\n",
       "      <th>0</th>\n",
       "      <td>1</td>\n",
       "      <td>305448</td>\n",
       "      <td>8926668</td>\n",
       "      <td>F</td>\n",
       "      <td>14</td>\n",
       "      <td>18S</td>\n",
       "      <td>POINT (305448.000 8926668.000)</td>\n",
       "    </tr>\n",
       "    <tr>\n",
       "      <th>1</th>\n",
       "      <td>2</td>\n",
       "      <td>305123</td>\n",
       "      <td>8925261</td>\n",
       "      <td>M</td>\n",
       "      <td>12</td>\n",
       "      <td>18S</td>\n",
       "      <td>POINT (305123.000 8925261.000)</td>\n",
       "    </tr>\n",
       "    <tr>\n",
       "      <th>2</th>\n",
       "      <td>3</td>\n",
       "      <td>304554</td>\n",
       "      <td>8925426</td>\n",
       "      <td>F</td>\n",
       "      <td>15</td>\n",
       "      <td>18S</td>\n",
       "      <td>POINT (304554.000 8925426.000)</td>\n",
       "    </tr>\n",
       "  </tbody>\n",
       "</table>\n",
       "</div>"
      ],
      "text/plain": [
       "   ID    ESTE    NORTE Sexo  Edad Zona                        geometry\n",
       "0   1  305448  8926668    F    14  18S  POINT (305448.000 8926668.000)\n",
       "1   2  305123  8925261    M    12  18S  POINT (305123.000 8925261.000)\n",
       "2   3  304554  8925426    F    15  18S  POINT (304554.000 8925426.000)"
      ]
     },
     "execution_count": 22,
     "metadata": {},
     "output_type": "execute_result"
    }
   ],
   "source": [
    "datos_shp.head(3)"
   ]
  },
  {
   "cell_type": "code",
   "execution_count": 23,
   "id": "c12ef75b-4fb8-4f0d-82d7-7f38c255e104",
   "metadata": {},
   "outputs": [
    {
     "name": "stdout",
     "output_type": "stream",
     "text": [
      "epsg:32718\n"
     ]
    }
   ],
   "source": [
    "print(datos_shp.crs)"
   ]
  },
  {
   "cell_type": "code",
   "execution_count": 24,
   "id": "fdf6869e-5e43-46e1-8f46-8c9ea85987b9",
   "metadata": {},
   "outputs": [],
   "source": [
    "# Import CRS class from pyproj\n",
    "from pyproj import CRS"
   ]
  },
  {
   "cell_type": "code",
   "execution_count": 25,
   "id": "8d33361b-53a2-423d-b5c2-371a13db52e8",
   "metadata": {},
   "outputs": [
    {
     "data": {
      "text/plain": [
       "<Derived Projected CRS: EPSG:32718>\n",
       "Name: WGS 84 / UTM zone 18S\n",
       "Axis Info [cartesian]:\n",
       "- E[east]: Easting (metre)\n",
       "- N[north]: Northing (metre)\n",
       "Area of Use:\n",
       "- name: Between 78°W and 72°W, southern hemisphere between 80°S and equator, onshore and offshore. Argentina. Brazil. Chile. Colombia. Ecuador. Peru.\n",
       "- bounds: (-78.0, -80.0, -72.0, 0.0)\n",
       "Coordinate Operation:\n",
       "- name: UTM zone 18S\n",
       "- method: Transverse Mercator\n",
       "Datum: World Geodetic System 1984 ensemble\n",
       "- Ellipsoid: WGS 84\n",
       "- Prime Meridian: Greenwich"
      ]
     },
     "execution_count": 25,
     "metadata": {},
     "output_type": "execute_result"
    }
   ],
   "source": [
    "# Conocer sobre la Codigo 32718\n",
    "crs_utm = CRS.from_user_input(32718)\n",
    "crs_utm"
   ]
  },
  {
   "cell_type": "code",
   "execution_count": 27,
   "id": "95122c70-7e88-4ed6-8a7d-817bd6c0f43d",
   "metadata": {},
   "outputs": [],
   "source": [
    "# Exportacion del shp \n",
    "datos_shp.to_file('Puntos_utm.shp')"
   ]
  },
  {
   "cell_type": "code",
   "execution_count": 28,
   "id": "387cc75a-1cab-4ba0-9753-c69e53a99de3",
   "metadata": {},
   "outputs": [],
   "source": [
    "#datos_shp.to_file?"
   ]
  },
  {
   "cell_type": "code",
   "execution_count": 22,
   "id": "ac09fde3-b6c4-4b25-8bd0-a8527ae48aee",
   "metadata": {},
   "outputs": [
    {
     "name": "stdout",
     "output_type": "stream",
     "text": [
      "epsg:32718\n"
     ]
    }
   ],
   "source": [
    "print(datos_shp.crs)"
   ]
  },
  {
   "cell_type": "code",
   "execution_count": 29,
   "id": "7f82f338-c297-4004-a8f6-03a24240b174",
   "metadata": {},
   "outputs": [],
   "source": [
    "# Reproyectar a Geografico\n",
    "shp_GEO = datos_shp.to_crs(epsg=4326)"
   ]
  },
  {
   "cell_type": "code",
   "execution_count": 30,
   "id": "e99aefb5-0784-4f02-875a-1fc41f8b820d",
   "metadata": {},
   "outputs": [
    {
     "data": {
      "text/html": [
       "<div>\n",
       "<style scoped>\n",
       "    .dataframe tbody tr th:only-of-type {\n",
       "        vertical-align: middle;\n",
       "    }\n",
       "\n",
       "    .dataframe tbody tr th {\n",
       "        vertical-align: top;\n",
       "    }\n",
       "\n",
       "    .dataframe thead th {\n",
       "        text-align: right;\n",
       "    }\n",
       "</style>\n",
       "<table border=\"1\" class=\"dataframe\">\n",
       "  <thead>\n",
       "    <tr style=\"text-align: right;\">\n",
       "      <th></th>\n",
       "      <th>ID</th>\n",
       "      <th>ESTE</th>\n",
       "      <th>NORTE</th>\n",
       "      <th>Sexo</th>\n",
       "      <th>Edad</th>\n",
       "      <th>Zona</th>\n",
       "      <th>geometry</th>\n",
       "    </tr>\n",
       "  </thead>\n",
       "  <tbody>\n",
       "    <tr>\n",
       "      <th>0</th>\n",
       "      <td>1</td>\n",
       "      <td>305448</td>\n",
       "      <td>8926668</td>\n",
       "      <td>F</td>\n",
       "      <td>14</td>\n",
       "      <td>18S</td>\n",
       "      <td>POINT (-76.77334 -9.70525)</td>\n",
       "    </tr>\n",
       "    <tr>\n",
       "      <th>1</th>\n",
       "      <td>2</td>\n",
       "      <td>305123</td>\n",
       "      <td>8925261</td>\n",
       "      <td>M</td>\n",
       "      <td>12</td>\n",
       "      <td>18S</td>\n",
       "      <td>POINT (-76.77637 -9.71796)</td>\n",
       "    </tr>\n",
       "    <tr>\n",
       "      <th>2</th>\n",
       "      <td>3</td>\n",
       "      <td>304554</td>\n",
       "      <td>8925426</td>\n",
       "      <td>F</td>\n",
       "      <td>15</td>\n",
       "      <td>18S</td>\n",
       "      <td>POINT (-76.78154 -9.71644)</td>\n",
       "    </tr>\n",
       "  </tbody>\n",
       "</table>\n",
       "</div>"
      ],
      "text/plain": [
       "   ID    ESTE    NORTE Sexo  Edad Zona                    geometry\n",
       "0   1  305448  8926668    F    14  18S  POINT (-76.77334 -9.70525)\n",
       "1   2  305123  8925261    M    12  18S  POINT (-76.77637 -9.71796)\n",
       "2   3  304554  8925426    F    15  18S  POINT (-76.78154 -9.71644)"
      ]
     },
     "execution_count": 30,
     "metadata": {},
     "output_type": "execute_result"
    }
   ],
   "source": [
    "shp_GEO.head(3)"
   ]
  },
  {
   "cell_type": "code",
   "execution_count": 31,
   "id": "baecb89a-ba46-433d-9dbb-ad2ba481c648",
   "metadata": {},
   "outputs": [],
   "source": [
    "Longitud = shp_GEO.geometry.x\n",
    "Latitud = shp_GEO.geometry.y"
   ]
  },
  {
   "cell_type": "code",
   "execution_count": 33,
   "id": "97f12453-8dc8-494a-b699-7cb0550e80e6",
   "metadata": {},
   "outputs": [],
   "source": [
    "shp_GEO[\"Longitud\"] = Longitud\n",
    "shp_GEO[\"Latitud\"] = Latitud"
   ]
  },
  {
   "cell_type": "code",
   "execution_count": 34,
   "id": "448a7d0b-f270-4e76-90a5-518ad48cc1f6",
   "metadata": {},
   "outputs": [
    {
     "data": {
      "text/html": [
       "<div>\n",
       "<style scoped>\n",
       "    .dataframe tbody tr th:only-of-type {\n",
       "        vertical-align: middle;\n",
       "    }\n",
       "\n",
       "    .dataframe tbody tr th {\n",
       "        vertical-align: top;\n",
       "    }\n",
       "\n",
       "    .dataframe thead th {\n",
       "        text-align: right;\n",
       "    }\n",
       "</style>\n",
       "<table border=\"1\" class=\"dataframe\">\n",
       "  <thead>\n",
       "    <tr style=\"text-align: right;\">\n",
       "      <th></th>\n",
       "      <th>ID</th>\n",
       "      <th>ESTE</th>\n",
       "      <th>NORTE</th>\n",
       "      <th>Sexo</th>\n",
       "      <th>Edad</th>\n",
       "      <th>Zona</th>\n",
       "      <th>geometry</th>\n",
       "      <th>Longitud</th>\n",
       "      <th>Latitud</th>\n",
       "    </tr>\n",
       "  </thead>\n",
       "  <tbody>\n",
       "    <tr>\n",
       "      <th>0</th>\n",
       "      <td>1</td>\n",
       "      <td>305448</td>\n",
       "      <td>8926668</td>\n",
       "      <td>F</td>\n",
       "      <td>14</td>\n",
       "      <td>18S</td>\n",
       "      <td>POINT (-76.77334 -9.70525)</td>\n",
       "      <td>-76.773338</td>\n",
       "      <td>-9.705251</td>\n",
       "    </tr>\n",
       "    <tr>\n",
       "      <th>1</th>\n",
       "      <td>2</td>\n",
       "      <td>305123</td>\n",
       "      <td>8925261</td>\n",
       "      <td>M</td>\n",
       "      <td>12</td>\n",
       "      <td>18S</td>\n",
       "      <td>POINT (-76.77637 -9.71796)</td>\n",
       "      <td>-76.776367</td>\n",
       "      <td>-9.717956</td>\n",
       "    </tr>\n",
       "    <tr>\n",
       "      <th>2</th>\n",
       "      <td>3</td>\n",
       "      <td>304554</td>\n",
       "      <td>8925426</td>\n",
       "      <td>F</td>\n",
       "      <td>15</td>\n",
       "      <td>18S</td>\n",
       "      <td>POINT (-76.78154 -9.71644)</td>\n",
       "      <td>-76.781544</td>\n",
       "      <td>-9.716437</td>\n",
       "    </tr>\n",
       "  </tbody>\n",
       "</table>\n",
       "</div>"
      ],
      "text/plain": [
       "   ID    ESTE    NORTE Sexo  Edad Zona                    geometry   Longitud  \\\n",
       "0   1  305448  8926668    F    14  18S  POINT (-76.77334 -9.70525) -76.773338   \n",
       "1   2  305123  8925261    M    12  18S  POINT (-76.77637 -9.71796) -76.776367   \n",
       "2   3  304554  8925426    F    15  18S  POINT (-76.78154 -9.71644) -76.781544   \n",
       "\n",
       "    Latitud  \n",
       "0 -9.705251  \n",
       "1 -9.717956  \n",
       "2 -9.716437  "
      ]
     },
     "execution_count": 34,
     "metadata": {},
     "output_type": "execute_result"
    }
   ],
   "source": [
    "shp_GEO.head(3)"
   ]
  },
  {
   "cell_type": "code",
   "execution_count": 35,
   "id": "cbbc58ba-b463-4add-aef5-91ff1f2aa6c0",
   "metadata": {},
   "outputs": [
    {
     "data": {
      "image/png": "[encoded data removed]",
      "text/plain": [
       "<Figure size 1000x800 with 1 Axes>"
      ]
     },
     "metadata": {},
     "output_type": "display_data"
    }
   ],
   "source": [
    "shp_GEO.plot(edgecolor=\"0.2\", figsize=(10, 8))\n",
    "plt.title(\"Puntos XY\");"
   ]
  },
  {
   "cell_type": "code",
   "execution_count": 36,
   "id": "c79ebc92-f0d7-4ba4-a7c2-747a963c1b33",
   "metadata": {},
   "outputs": [],
   "source": [
    "shp_GEO.to_file('puntos_Geo.shp')"
   ]
  },
  {
   "cell_type": "code",
   "execution_count": 37,
   "id": "315dd8dd-1d29-4e7b-8438-74867a8f8a01",
   "metadata": {},
   "outputs": [
    {
     "data": {
      "text/html": [
       "<div>\n",
       "<style scoped>\n",
       "    .dataframe tbody tr th:only-of-type {\n",
       "        vertical-align: middle;\n",
       "    }\n",
       "\n",
       "    .dataframe tbody tr th {\n",
       "        vertical-align: top;\n",
       "    }\n",
       "\n",
       "    .dataframe thead th {\n",
       "        text-align: right;\n",
       "    }\n",
       "</style>\n",
       "<table border=\"1\" class=\"dataframe\">\n",
       "  <thead>\n",
       "    <tr style=\"text-align: right;\">\n",
       "      <th></th>\n",
       "      <th>ID</th>\n",
       "      <th>ESTE</th>\n",
       "      <th>NORTE</th>\n",
       "      <th>Sexo</th>\n",
       "      <th>Edad</th>\n",
       "      <th>Zona</th>\n",
       "      <th>geometry</th>\n",
       "      <th>Longitud</th>\n",
       "      <th>Latitud</th>\n",
       "    </tr>\n",
       "  </thead>\n",
       "  <tbody>\n",
       "    <tr>\n",
       "      <th>0</th>\n",
       "      <td>1</td>\n",
       "      <td>305448</td>\n",
       "      <td>8926668</td>\n",
       "      <td>F</td>\n",
       "      <td>14</td>\n",
       "      <td>18S</td>\n",
       "      <td>POINT (-76.77334 -9.70525)</td>\n",
       "      <td>-76.773338</td>\n",
       "      <td>-9.705251</td>\n",
       "    </tr>\n",
       "    <tr>\n",
       "      <th>1</th>\n",
       "      <td>2</td>\n",
       "      <td>305123</td>\n",
       "      <td>8925261</td>\n",
       "      <td>M</td>\n",
       "      <td>12</td>\n",
       "      <td>18S</td>\n",
       "      <td>POINT (-76.77637 -9.71796)</td>\n",
       "      <td>-76.776367</td>\n",
       "      <td>-9.717956</td>\n",
       "    </tr>\n",
       "    <tr>\n",
       "      <th>2</th>\n",
       "      <td>3</td>\n",
       "      <td>304554</td>\n",
       "      <td>8925426</td>\n",
       "      <td>F</td>\n",
       "      <td>15</td>\n",
       "      <td>18S</td>\n",
       "      <td>POINT (-76.78154 -9.71644)</td>\n",
       "      <td>-76.781544</td>\n",
       "      <td>-9.716437</td>\n",
       "    </tr>\n",
       "    <tr>\n",
       "      <th>3</th>\n",
       "      <td>4</td>\n",
       "      <td>304670</td>\n",
       "      <td>8925269</td>\n",
       "      <td>F</td>\n",
       "      <td>18</td>\n",
       "      <td>18S</td>\n",
       "      <td>POINT (-76.78049 -9.71786)</td>\n",
       "      <td>-76.780494</td>\n",
       "      <td>-9.717862</td>\n",
       "    </tr>\n",
       "    <tr>\n",
       "      <th>4</th>\n",
       "      <td>5</td>\n",
       "      <td>304668</td>\n",
       "      <td>8925213</td>\n",
       "      <td>F</td>\n",
       "      <td>25</td>\n",
       "      <td>18S</td>\n",
       "      <td>POINT (-76.78052 -9.71837)</td>\n",
       "      <td>-76.780515</td>\n",
       "      <td>-9.718368</td>\n",
       "    </tr>\n",
       "  </tbody>\n",
       "</table>\n",
       "</div>"
      ],
      "text/plain": [
       "   ID    ESTE    NORTE Sexo  Edad Zona                    geometry   Longitud  \\\n",
       "0   1  305448  8926668    F    14  18S  POINT (-76.77334 -9.70525) -76.773338   \n",
       "1   2  305123  8925261    M    12  18S  POINT (-76.77637 -9.71796) -76.776367   \n",
       "2   3  304554  8925426    F    15  18S  POINT (-76.78154 -9.71644) -76.781544   \n",
       "3   4  304670  8925269    F    18  18S  POINT (-76.78049 -9.71786) -76.780494   \n",
       "4   5  304668  8925213    F    25  18S  POINT (-76.78052 -9.71837) -76.780515   \n",
       "\n",
       "    Latitud  \n",
       "0 -9.705251  \n",
       "1 -9.717956  \n",
       "2 -9.716437  \n",
       "3 -9.717862  \n",
       "4 -9.718368  "
      ]
     },
     "execution_count": 37,
     "metadata": {},
     "output_type": "execute_result"
    }
   ],
   "source": [
    "shp_GEO.head(5)"
   ]
  },
  {
   "cell_type": "code",
   "execution_count": null,
   "id": "29a4f74f-4c3f-449c-8b7c-74d2a83ff498",
   "metadata": {},
   "outputs": [],
   "source": []
  }
 ],
 "metadata": {
  "kernelspec": {
   "display_name": "Python 3 (ipykernel)",
   "language": "python",
   "name": "python3"
  },
  "language_info": {
   "codemirror_mode": {
    "name": "ipython",
    "version": 3
   },
   "file_extension": ".py",
   "mimetype": "text/x-python",
   "name": "python",
   "nbconvert_exporter": "python",
   "pygments_lexer": "ipython3",
   "version": "3.9.5"
  }
 },
 "nbformat": 4,
 "nbformat_minor": 5
}
