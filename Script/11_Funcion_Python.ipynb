{
 "cells": [
  {
   "cell_type": "markdown",
   "id": "c05262fb-259e-40cd-a1df-efed4c20737f",
   "metadata": {},
   "source": [
    "# Función\n",
    "\n",
    "**Función.** Una función en `Python` es una pieza de código reutilizable que solo se ejecuta cuando es llamada.\n",
    "\n",
    "Se define usando la palabra reservada `def` y estructura general es la siguiente:"
   ]
  },
  {
   "cell_type": "code",
   "execution_count": null,
   "id": "9367793a-9787-4a32-b30d-4487778cc114",
   "metadata": {},
   "outputs": [],
   "source": [
    "def nombre_funcion(input1, input2, ..., inputn):\n",
    "    cuerpo de la función\n",
    "    return output"
   ]
  },
  {
   "cell_type": "markdown",
   "id": "52eb3e2e-0052-437d-934e-fe37196f2251",
   "metadata": {},
   "source": [
    "**Observación.** La instrucción `return` finaliza la ejecución de la función y devuelve el resultado que se indica a continuación. Si no se indicase nada, la función finalizaría, pero no retornaría nada.\n",
    "\n",
    "Como hemos visto, en general, las funciones constan de 3 partes:\n",
    "\n",
    "- **Inputs (parámetros o argumentos).** Son los valores que le pasamos como entrada a la función.\n",
    "- **Cuerpo.** Son todas las operaciones que lleva a cabo la función.\n",
    "- **Output.** Es el resultado que devuelve la función."
   ]
  },
  {
   "cell_type": "markdown",
   "id": "4f4730d0-4999-4c41-85ef-bf194aa4f25f",
   "metadata": {},
   "source": [
    "## Funcion imprimir string"
   ]
  },
  {
   "cell_type": "code",
   "execution_count": 1,
   "id": "4ed16a30-4782-4979-a3be-905c8208eff7",
   "metadata": {},
   "outputs": [],
   "source": [
    "def mi_funcion():\n",
    "    print(\"Hola Geomaticos\")"
   ]
  },
  {
   "cell_type": "code",
   "execution_count": 2,
   "id": "0f689488-1356-4ef9-9054-665961d86dcd",
   "metadata": {},
   "outputs": [
    {
     "name": "stdout",
     "output_type": "stream",
     "text": [
      "Hola Geomaticos\n"
     ]
    }
   ],
   "source": [
    "mi_funcion()"
   ]
  },
  {
   "cell_type": "markdown",
   "id": "815b0d2c-8d2c-497a-b866-b8b905a4bddf",
   "metadata": {},
   "source": [
    "## Funcion de conversion"
   ]
  },
  {
   "cell_type": "code",
   "execution_count": 5,
   "id": "0c3b2aec-706f-4fa9-804d-ab03f931478f",
   "metadata": {},
   "outputs": [],
   "source": [
    "def kelvins_to_celsius(temp_kelvins):\n",
    "    Celsius = temp_kelvins - 273.15\n",
    "    return round(Celsius,3)"
   ]
  },
  {
   "cell_type": "code",
   "execution_count": 6,
   "id": "09ac574b-6bc4-4921-ae30-537a39c33886",
   "metadata": {},
   "outputs": [
    {
     "data": {
      "text/plain": [
       "26.85"
      ]
     },
     "execution_count": 6,
     "metadata": {},
     "output_type": "execute_result"
    }
   ],
   "source": [
    "kelvins_to_celsius(300)"
   ]
  },
  {
   "cell_type": "markdown",
   "id": "9d26d32f-6e2f-4b2e-9565-2fa9d7bbd0cc",
   "metadata": {},
   "source": [
    "## Funcion de indice NDVI"
   ]
  },
  {
   "cell_type": "code",
   "execution_count": 11,
   "id": "c0705ba7-8f79-4812-a3e0-13c86c791588",
   "metadata": {},
   "outputs": [],
   "source": [
    "def indice_ndvi(RED, NIR):\n",
    "    ndvi = (NIR - RED)/(NIR + RED)\n",
    "    return round(ndvi,3)"
   ]
  },
  {
   "cell_type": "code",
   "execution_count": 15,
   "id": "bb352952-a5d8-44dc-993e-4b731a189809",
   "metadata": {},
   "outputs": [
    {
     "name": "stdout",
     "output_type": "stream",
     "text": [
      "-0.143\n"
     ]
    }
   ],
   "source": [
    "ndvi = indice_ndvi(0.4, 0.3)\n",
    "print(ndvi)"
   ]
  },
  {
   "cell_type": "code",
   "execution_count": 16,
   "id": "e87c81d6-924b-413c-b992-34c1c5af629b",
   "metadata": {},
   "outputs": [
    {
     "name": "stdout",
     "output_type": "stream",
     "text": [
      "Si es verdadero es bosque: False\n"
     ]
    }
   ],
   "source": [
    "print(\"Si es verdadero es bosque: \" + str(ndvi >= 0.4))"
   ]
  },
  {
   "cell_type": "code",
   "execution_count": 23,
   "id": "4b80a849-5a40-4c32-a6c3-57be302141af",
   "metadata": {},
   "outputs": [],
   "source": [
    "def promediolista(Lista):\n",
    "    median = sum(Lista)/len(Lista)\n",
    "    return round(median,3)"
   ]
  },
  {
   "cell_type": "code",
   "execution_count": 18,
   "id": "33bcc00c-14cf-4304-8785-d2b8e89f8231",
   "metadata": {},
   "outputs": [],
   "source": [
    "datos = [10,15,13,16,12.5,18]"
   ]
  },
  {
   "cell_type": "code",
   "execution_count": 24,
   "id": "f4948456-c52d-4000-9d91-45abb6aad905",
   "metadata": {},
   "outputs": [
    {
     "data": {
      "text/plain": [
       "14.083"
      ]
     },
     "execution_count": 24,
     "metadata": {},
     "output_type": "execute_result"
    }
   ],
   "source": [
    "media = promediolista(datos)\n",
    "media"
   ]
  },
  {
   "cell_type": "code",
   "execution_count": 25,
   "id": "a1abfe6d-4edc-41c2-8801-585e82a10a0b",
   "metadata": {},
   "outputs": [
    {
     "name": "stdout",
     "output_type": "stream",
     "text": [
      "media de la lista:  14.083\n"
     ]
    }
   ],
   "source": [
    "print(\"media de la lista: \", media)"
   ]
  },
  {
   "cell_type": "markdown",
   "id": "cc4c250c-c8c6-40fb-b8a7-4220f5ee3c5e",
   "metadata": {},
   "source": [
    "## Agregar algunas declaraciones condicionales"
   ]
  },
  {
   "cell_type": "code",
   "execution_count": 39,
   "id": "55b2c3c5-4983-4d0f-adc7-5de4cd28d3b0",
   "metadata": {},
   "outputs": [],
   "source": [
    "def temp_calculator(temp_k, convert_to):\n",
    "    # chequear convertir C o F\n",
    "    if convert_to == \"C\":\n",
    "        # Convertir el valor a Celsius\n",
    "        def kelvins_to_celsius(temp_kelvins):\n",
    "            return round(temp_kelvins - 273.15,3)\n",
    "        converted_temp = kelvins_to_celsius(temp_kelvins=temp_k)\n",
    "    elif convert_to == \"F\":\n",
    "        # Convertir el valor a Fahrenheit\n",
    "        def celsius_to_fahr(temp_celsius):\n",
    "            return round(9/5*temp_celsius + 32,3)\n",
    "        converted_temp = celsius_to_fahr(temp_celsius=temp_k)\n",
    "    # correr resultados\n",
    "    return converted_temp"
   ]
  },
  {
   "cell_type": "code",
   "execution_count": 36,
   "id": "f19a750b-7724-44f9-bab6-6f7072b09b6a",
   "metadata": {},
   "outputs": [],
   "source": [
    "temp_kelvin = 300"
   ]
  },
  {
   "cell_type": "code",
   "execution_count": 40,
   "id": "bebb108e-d42a-496f-8f8d-81ee9d771ca2",
   "metadata": {},
   "outputs": [
    {
     "data": {
      "text/plain": [
       "572.0"
      ]
     },
     "execution_count": 40,
     "metadata": {},
     "output_type": "execute_result"
    }
   ],
   "source": [
    "temperature_c = temp_calculator(temp_k=temp_kelvin, convert_to=\"F\")\n",
    "temperature_c"
   ]
  },
  {
   "cell_type": "code",
   "execution_count": null,
   "id": "2c9e8712-c7af-47d6-ab72-0cae782f733c",
   "metadata": {},
   "outputs": [],
   "source": []
  }
 ],
 "metadata": {
  "kernelspec": {
   "display_name": "Python 3 (ipykernel)",
   "language": "python",
   "name": "python3"
  },
  "language_info": {
   "codemirror_mode": {
    "name": "ipython",
    "version": 3
   },
   "file_extension": ".py",
   "mimetype": "text/x-python",
   "name": "python",
   "nbconvert_exporter": "python",
   "pygments_lexer": "ipython3",
   "version": "3.9.5"
  }
 },
 "nbformat": 4,
 "nbformat_minor": 5
}
