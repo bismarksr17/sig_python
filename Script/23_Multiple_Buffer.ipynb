{
 "cells": [
  {
   "cell_type": "markdown",
   "id": "16618e65-1b69-470e-aff1-59b0f2b72189",
   "metadata": {},
   "source": [
    "# Multiple Buffer"
   ]
  },
  {
   "cell_type": "code",
   "execution_count": 1,
   "id": "6551039f-2ce5-48be-a3f2-06aa4cadbaec",
   "metadata": {},
   "outputs": [],
   "source": [
    "import geopandas as gpd\n",
    "import os"
   ]
  },
  {
   "cell_type": "code",
   "execution_count": 2,
   "id": "9fd8df4d-fd2f-4747-9d81-efbe0b705e15",
   "metadata": {},
   "outputs": [],
   "source": [
    "os.chdir(r\"E:\\Python\\02_SIG_Python\\Datos_Espacial\\Geoprocesamiento\")"
   ]
  },
  {
   "cell_type": "code",
   "execution_count": 3,
   "id": "8797190f-47e9-4718-8dcd-cfdf2f6a7b6f",
   "metadata": {},
   "outputs": [],
   "source": [
    "Puntos = gpd.read_file(\"Puntos.shp\")"
   ]
  },
  {
   "cell_type": "code",
   "execution_count": 14,
   "id": "b78e9ef0-fb89-430c-be59-46b0d09fe1fa",
   "metadata": {},
   "outputs": [
    {
     "name": "stdout",
     "output_type": "stream",
     "text": [
      "Distancia_200\n",
      "Distancia_400\n",
      "Distancia_600\n",
      "Distancia_800\n",
      "Distancia_1000\n",
      "Distancia_1200\n",
      "Distancia_1400\n",
      "Distancia_1600\n",
      "Distancia_1800\n",
      "Distancia_2000\n"
     ]
    }
   ],
   "source": [
    "for lista_distancia in range(200, 2001,200):\n",
    "    print(\"Distancia_\" + str(lista_distancia))"
   ]
  },
  {
   "cell_type": "code",
   "execution_count": 11,
   "id": "7c08e01e-f3ae-494e-bb5f-6a0a09d5d608",
   "metadata": {},
   "outputs": [
    {
     "data": {
      "text/plain": [
       "2000"
      ]
     },
     "execution_count": 11,
     "metadata": {},
     "output_type": "execute_result"
    }
   ],
   "source": [
    "lista_distancia"
   ]
  },
  {
   "cell_type": "code",
   "execution_count": 10,
   "id": "7d1c2f12-80b6-441e-81df-c422da32fb16",
   "metadata": {},
   "outputs": [],
   "source": [
    "#lista_distancia = [100,200,300,400,500,600,700,800,900,1000]"
   ]
  },
  {
   "cell_type": "code",
   "execution_count": 15,
   "id": "63cfcbd1-4214-4813-9542-1e3ccffcab06",
   "metadata": {},
   "outputs": [
    {
     "name": "stdout",
     "output_type": "stream",
     "text": [
      "Proceso de: Puntos_200\n",
      "Proceso de: Puntos_400\n",
      "Proceso de: Puntos_600\n",
      "Proceso de: Puntos_800\n",
      "Proceso de: Puntos_1000\n",
      "Proceso de: Puntos_1200\n",
      "Proceso de: Puntos_1400\n",
      "Proceso de: Puntos_1600\n",
      "Proceso de: Puntos_1800\n",
      "Proceso de: Puntos_2000\n"
     ]
    }
   ],
   "source": [
    "for dis in range(200, 2001,200):\n",
    "    # Procesamiento de buffer\n",
    "    punto_buffer = Puntos.buffer(dis)\n",
    "    # Determinar el nombre\n",
    "    name = \"Puntos_\" + str(dis)\n",
    "    # Guardar en disco\n",
    "    punto_buffer.to_file(name)\n",
    "    # Imprimer proceso\n",
    "    print(\"Proceso de:\",name)"
   ]
  },
  {
   "cell_type": "code",
   "execution_count": null,
   "id": "6c4af418-08e3-4d81-8f92-95cec63562bd",
   "metadata": {},
   "outputs": [],
   "source": []
  }
 ],
 "metadata": {
  "kernelspec": {
   "display_name": "Python 3 (ipykernel)",
   "language": "python",
   "name": "python3"
  },
  "language_info": {
   "codemirror_mode": {
    "name": "ipython",
    "version": 3
   },
   "file_extension": ".py",
   "mimetype": "text/x-python",
   "name": "python",
   "nbconvert_exporter": "python",
   "pygments_lexer": "ipython3",
   "version": "3.9.5"
  }
 },
 "nbformat": 4,
 "nbformat_minor": 5
}
