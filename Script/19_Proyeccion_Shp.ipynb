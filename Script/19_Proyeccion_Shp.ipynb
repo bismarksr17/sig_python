{
 "cells": [
  {
   "cell_type": "markdown",
   "id": "fdfcd282-a66d-4d8e-bdb3-eea9c3269c3d",
   "metadata": {},
   "source": [
    "# Sistemas de referencia de coordenadas"
   ]
  },
  {
   "cell_type": "markdown",
   "id": "862467b3-7d85-440a-9024-bc1654a989ff",
   "metadata": {},
   "source": [
    "Los sistemas de referencia de coordenadas (CRS) son importantes porque las formas geométricas en un GeoDataFrame son simplemente una colección de coordenadas en un espacio arbitrario. Un CRS le dice a Python cómo se relacionan esas coordenadas con los lugares de la Tierra. Una proyección de mapa (o un sistema de coordenadas proyectadas) es una transformación sistemática de las latitudes y longitudes en una superficie plana donde las unidades se representan comúnmente como metros (en lugar de grados decimales). Esta transformación se utiliza para representar la tierra tridimensional en un mapa bidimensional plano."
   ]
  },
  {
   "cell_type": "markdown",
   "id": "b246493f-5cea-4ec0-b3e9-31647d32de19",
   "metadata": {},
   "source": [
    "## Gestión de sistemas de referencia de coordenadas en pyproj y geopandas"
   ]
  },
  {
   "cell_type": "code",
   "execution_count": 1,
   "id": "bad7f282-e5c6-43c0-8af8-51e4ff4f32b8",
   "metadata": {},
   "outputs": [],
   "source": [
    "# Importar paquete\n",
    "import geopandas as gpd\n",
    "\n",
    "# Cargar archivo\n",
    "fp = r\"E:\\Python\\02_SIG_Python\\Resultado\\Poligono_creado.shp\"\n",
    "data = gpd.read_file(fp)"
   ]
  },
  {
   "cell_type": "code",
   "execution_count": 2,
   "id": "72958e25-2fe9-4289-ac9b-65f4e2394423",
   "metadata": {},
   "outputs": [
    {
     "data": {
      "text/html": [
       "<div>\n",
       "<style scoped>\n",
       "    .dataframe tbody tr th:only-of-type {\n",
       "        vertical-align: middle;\n",
       "    }\n",
       "\n",
       "    .dataframe tbody tr th {\n",
       "        vertical-align: top;\n",
       "    }\n",
       "\n",
       "    .dataframe thead th {\n",
       "        text-align: right;\n",
       "    }\n",
       "</style>\n",
       "<table border=\"1\" class=\"dataframe\">\n",
       "  <thead>\n",
       "    <tr style=\"text-align: right;\">\n",
       "      <th></th>\n",
       "      <th>Nombre</th>\n",
       "      <th>geometry</th>\n",
       "    </tr>\n",
       "  </thead>\n",
       "  <tbody>\n",
       "    <tr>\n",
       "      <th>0</th>\n",
       "      <td>GEOMATICA</td>\n",
       "      <td>POLYGON ((-75.03761 -8.30069, -75.02323 -8.298...</td>\n",
       "    </tr>\n",
       "  </tbody>\n",
       "</table>\n",
       "</div>"
      ],
      "text/plain": [
       "      Nombre                                           geometry\n",
       "0  GEOMATICA  POLYGON ((-75.03761 -8.30069, -75.02323 -8.298..."
      ]
     },
     "execution_count": 2,
     "metadata": {},
     "output_type": "execute_result"
    }
   ],
   "source": [
    "data"
   ]
  },
  {
   "cell_type": "code",
   "execution_count": 3,
   "id": "7793e9f8-f9aa-4edc-b390-c951dec2b67a",
   "metadata": {},
   "outputs": [
    {
     "data": {
      "text/plain": [
       "<Geographic 2D CRS: EPSG:4326>\n",
       "Name: WGS 84\n",
       "Axis Info [ellipsoidal]:\n",
       "- Lat[north]: Geodetic latitude (degree)\n",
       "- Lon[east]: Geodetic longitude (degree)\n",
       "Area of Use:\n",
       "- name: World.\n",
       "- bounds: (-180.0, -90.0, 180.0, 90.0)\n",
       "Datum: World Geodetic System 1984 ensemble\n",
       "- Ellipsoid: WGS 84\n",
       "- Prime Meridian: Greenwich"
      ]
     },
     "execution_count": 3,
     "metadata": {},
     "output_type": "execute_result"
    }
   ],
   "source": [
    "# Verificar proyeccion\n",
    "data.crs"
   ]
  },
  {
   "cell_type": "code",
   "execution_count": 4,
   "id": "b439e83b-8869-4f03-ab86-aa4e87c62196",
   "metadata": {},
   "outputs": [
    {
     "data": {
      "text/plain": [
       "'WGS 84'"
      ]
     },
     "execution_count": 4,
     "metadata": {},
     "output_type": "execute_result"
    }
   ],
   "source": [
    "data.crs.name"
   ]
  },
  {
   "cell_type": "code",
   "execution_count": 5,
   "id": "c501d1f1-c964-4e2d-b1ef-0cab37696b0c",
   "metadata": {},
   "outputs": [
    {
     "data": {
      "text/plain": [
       "0    POLYGON ((-75.03761 -8.30069, -75.02323 -8.298...\n",
       "Name: geometry, dtype: geometry"
      ]
     },
     "execution_count": 5,
     "metadata": {},
     "output_type": "execute_result"
    }
   ],
   "source": [
    "data[\"geometry\"].head()"
   ]
  },
  {
   "cell_type": "markdown",
   "id": "10a8f3db-1f3e-44f0-a204-46b17c5fbf55",
   "metadata": {},
   "source": [
    "## Reproyeccion a UTM"
   ]
  },
  {
   "cell_type": "code",
   "execution_count": 6,
   "id": "f72e9f15-fb69-46be-987a-0087a0fe1680",
   "metadata": {},
   "outputs": [],
   "source": [
    "# Hagamos una copia de seguridad de nuestros datos\n",
    "data_wgs84 = data.copy()\n",
    "\n",
    "# Reproject the data\n",
    "data_utm = data.to_crs(epsg=32718)"
   ]
  },
  {
   "cell_type": "code",
   "execution_count": 7,
   "id": "ca981e6b-1756-4450-8e32-e283cbf7afde",
   "metadata": {},
   "outputs": [
    {
     "data": {
      "text/plain": [
       "0    POLYGON ((495858.502 9082459.632, 497442.080 9...\n",
       "Name: geometry, dtype: geometry"
      ]
     },
     "execution_count": 7,
     "metadata": {},
     "output_type": "execute_result"
    }
   ],
   "source": [
    "# Verificar las nuevas coordenadas UTM\n",
    "data_utm[\"geometry\"].head()"
   ]
  },
  {
   "cell_type": "code",
   "execution_count": 8,
   "id": "50d3bbc9-1b44-4617-86d8-fbbce60bd9d3",
   "metadata": {},
   "outputs": [
    {
     "data": {
      "text/plain": [
       "<Derived Projected CRS: EPSG:32718>\n",
       "Name: WGS 84 / UTM zone 18S\n",
       "Axis Info [cartesian]:\n",
       "- E[east]: Easting (metre)\n",
       "- N[north]: Northing (metre)\n",
       "Area of Use:\n",
       "- name: Between 78°W and 72°W, southern hemisphere between 80°S and equator, onshore and offshore. Argentina. Brazil. Chile. Colombia. Ecuador. Peru.\n",
       "- bounds: (-78.0, -80.0, -72.0, 0.0)\n",
       "Coordinate Operation:\n",
       "- name: UTM zone 18S\n",
       "- method: Transverse Mercator\n",
       "Datum: World Geodetic System 1984 ensemble\n",
       "- Ellipsoid: WGS 84\n",
       "- Prime Meridian: Greenwich"
      ]
     },
     "execution_count": 8,
     "metadata": {},
     "output_type": "execute_result"
    }
   ],
   "source": [
    "data_utm.crs"
   ]
  },
  {
   "cell_type": "markdown",
   "id": "79edd76c-df1d-4c3c-b0ef-c7b5612fefd4",
   "metadata": {},
   "source": [
    "## Generar mapa visualizacion"
   ]
  },
  {
   "cell_type": "code",
   "execution_count": 9,
   "id": "21310f7b-1b6a-4043-93cf-ead12a8e4fbc",
   "metadata": {},
   "outputs": [],
   "source": [
    "import matplotlib.pyplot as plt"
   ]
  },
  {
   "cell_type": "code",
   "execution_count": 10,
   "id": "67600a4b-93d1-4340-a42e-c7d9cddf2db4",
   "metadata": {},
   "outputs": [
    {
     "data": {
      "image/png": "[encoded data removed]",
      "text/plain": [
       "<Figure size 1000x1000 with 2 Axes>"
      ]
     },
     "metadata": {},
     "output_type": "display_data"
    }
   ],
   "source": [
    "# Make subplots that are next to each other\n",
    "fig, (ax1, ax2) = plt.subplots(nrows=1, ncols=2, figsize=(10, 10))\n",
    "\n",
    "# Plot the data in WGS84 CRS\n",
    "data_wgs84.plot(ax=ax1, facecolor=\"gray\")\n",
    "\n",
    "# Add title\n",
    "ax1.set_title(\"WGS 84\")\n",
    "\n",
    "# Plot the one with ETRS-LAEA projection\n",
    "data_utm.plot(ax=ax2, facecolor=\"blue\")\n",
    "\n",
    "# Add title\n",
    "ax2.set_title(\"UTM WGS 84 Zona 18S\")\n",
    "\n",
    "# Set aspect ratio as 1\n",
    "ax1.set_aspect(aspect=1)\n",
    "ax2.set_aspect(aspect=1)\n",
    "\n",
    "# Remove empty white space around the plot\n",
    "plt.tight_layout()"
   ]
  },
  {
   "cell_type": "markdown",
   "id": "a10e8b3c-dae2-4582-b3dd-48713459f913",
   "metadata": {},
   "source": [
    "## Exportar el reproyectado"
   ]
  },
  {
   "cell_type": "code",
   "execution_count": 11,
   "id": "c047ce6c-f13c-4813-a485-564439ca5d0f",
   "metadata": {},
   "outputs": [],
   "source": [
    "import os"
   ]
  },
  {
   "cell_type": "code",
   "execution_count": 12,
   "id": "bb050d3d-4b19-46b6-a001-3256773215c1",
   "metadata": {},
   "outputs": [
    {
     "data": {
      "text/plain": [
       "'C:\\\\Users\\\\GEOMATICA\\\\PYTHON\\\\02_SIG'"
      ]
     },
     "execution_count": 12,
     "metadata": {},
     "output_type": "execute_result"
    }
   ],
   "source": [
    "os.getcwd()"
   ]
  },
  {
   "cell_type": "code",
   "execution_count": 13,
   "id": "6aa78731-8076-4dde-bfec-afba4f2bb7fa",
   "metadata": {},
   "outputs": [
    {
     "data": {
      "text/plain": [
       "'E:\\\\Python\\\\02_SIG_Python\\\\Resultado'"
      ]
     },
     "execution_count": 13,
     "metadata": {},
     "output_type": "execute_result"
    }
   ],
   "source": [
    "ruta_archivos = r\"E:\\Python\\02_SIG_Python\\Resultado\"\n",
    "os.chdir(ruta_archivos) # Cambiar ruta trabajo\n",
    "os.getcwd() # Consultar ruta trabajo"
   ]
  },
  {
   "cell_type": "code",
   "execution_count": 14,
   "id": "90b81e6e-d481-4f4c-be7b-427e4618787f",
   "metadata": {},
   "outputs": [],
   "source": [
    "# Ouput filepath\n",
    "outfp = \"Poligono_UTM_18S.shp\"\n",
    "\n",
    "# Save to disk\n",
    "data_utm.to_file(outfp)"
   ]
  },
  {
   "cell_type": "markdown",
   "id": "307ad447-a9c0-4ef8-98c1-19c48dcc51fc",
   "metadata": {},
   "source": [
    "## Manejo de diferentes formatos de CRS"
   ]
  },
  {
   "cell_type": "code",
   "execution_count": 15,
   "id": "1e543d50-1e35-4c59-acbb-1cecd07d0c5a",
   "metadata": {},
   "outputs": [],
   "source": [
    "# Import CRS class from pyproj\n",
    "from pyproj import CRS"
   ]
  },
  {
   "cell_type": "markdown",
   "id": "5369a87a-0e02-41c6-94b2-1f92c4bf9aee",
   "metadata": {},
   "source": [
    "### Crear un diccionario Projeccion"
   ]
  },
  {
   "cell_type": "code",
   "execution_count": 16,
   "id": "edfaa1eb-57d0-4019-bb35-38331dd8c7f8",
   "metadata": {},
   "outputs": [],
   "source": [
    "# PROJ dictionary:\n",
    "crs_dict = data_wgs84.crs"
   ]
  },
  {
   "cell_type": "code",
   "execution_count": 17,
   "id": "60e93de1-c8d0-4bc7-9404-137e89d2f79d",
   "metadata": {},
   "outputs": [
    {
     "name": "stdout",
     "output_type": "stream",
     "text": [
      "PROJ dictionary:\n",
      " epsg:4326\n"
     ]
    }
   ],
   "source": [
    "print(\"PROJ dictionary:\\n\", crs_dict)"
   ]
  },
  {
   "cell_type": "code",
   "execution_count": 18,
   "id": "bc0dbe94-e48e-43a8-a1f6-36d3e6e3888f",
   "metadata": {},
   "outputs": [],
   "source": [
    "# pyproj CRS object:\n",
    "crs_object = CRS(data_wgs84.crs)"
   ]
  },
  {
   "cell_type": "code",
   "execution_count": 21,
   "id": "3a5edd90-383d-41a1-8b70-2d66152ba8ef",
   "metadata": {},
   "outputs": [
    {
     "data": {
      "text/plain": [
       "<Geographic 2D CRS: EPSG:4326>\n",
       "Name: WGS 84\n",
       "Axis Info [ellipsoidal]:\n",
       "- Lat[north]: Geodetic latitude (degree)\n",
       "- Lon[east]: Geodetic longitude (degree)\n",
       "Area of Use:\n",
       "- name: World.\n",
       "- bounds: (-180.0, -90.0, 180.0, 90.0)\n",
       "Datum: World Geodetic System 1984 ensemble\n",
       "- Ellipsoid: WGS 84\n",
       "- Prime Meridian: Greenwich"
      ]
     },
     "execution_count": 21,
     "metadata": {},
     "output_type": "execute_result"
    }
   ],
   "source": [
    "crs_object"
   ]
  },
  {
   "cell_type": "code",
   "execution_count": 22,
   "id": "cd0d29f3-ed9c-413c-a3fb-85e15157b39a",
   "metadata": {},
   "outputs": [
    {
     "name": "stdout",
     "output_type": "stream",
     "text": [
      "CRS object:\n",
      " GEOGCRS[\"WGS 84\",ENSEMBLE[\"World Geodetic System 1984 ensemble\",MEMBER[\"World Geodetic System 1984 (Transit)\"],MEMBER[\"World Geodetic System 1984 (G730)\"],MEMBER[\"World Geodetic System 1984 (G873)\"],MEMBER[\"World Geodetic System 1984 (G1150)\"],MEMBER[\"World Geodetic System 1984 (G1674)\"],MEMBER[\"World Geodetic System 1984 (G1762)\"],MEMBER[\"World Geodetic System 1984 (G2139)\"],ELLIPSOID[\"WGS 84\",6378137,298.257223563,LENGTHUNIT[\"metre\",1]],ENSEMBLEACCURACY[2.0]],PRIMEM[\"Greenwich\",0,ANGLEUNIT[\"degree\",0.0174532925199433]],CS[ellipsoidal,2],AXIS[\"geodetic latitude (Lat)\",north,ORDER[1],ANGLEUNIT[\"degree\",0.0174532925199433]],AXIS[\"geodetic longitude (Lon)\",east,ORDER[2],ANGLEUNIT[\"degree\",0.0174532925199433]],USAGE[SCOPE[\"Horizontal component of 3D system.\"],AREA[\"World.\"],BBOX[-90,-180,90,180]],ID[\"EPSG\",4326]]\n"
     ]
    }
   ],
   "source": [
    "print(\"CRS object:\\n\",crs_object)"
   ]
  },
  {
   "cell_type": "markdown",
   "id": "e21a78e3-9cdf-49aa-9b06-8df5c7a14762",
   "metadata": {},
   "source": [
    "### Determinar codigo EPSG"
   ]
  },
  {
   "cell_type": "code",
   "execution_count": 23,
   "id": "10dcfab7-d424-4ff1-b497-a4e016a9bbd6",
   "metadata": {},
   "outputs": [],
   "source": [
    "# Determinar codigo EPSG\n",
    "crs_epsg = CRS(data_wgs84.crs).to_epsg(min_confidence=25)"
   ]
  },
  {
   "cell_type": "code",
   "execution_count": 24,
   "id": "99c28eda-9a4f-44b6-aaa8-dfb1b074bbf4",
   "metadata": {},
   "outputs": [
    {
     "name": "stdout",
     "output_type": "stream",
     "text": [
      "EPSG code: \n",
      " 4326\n"
     ]
    }
   ],
   "source": [
    "print(\"EPSG code: \\n\",crs_epsg)"
   ]
  },
  {
   "cell_type": "markdown",
   "id": "788ee8bd-1826-499c-9112-300ccbb3055e",
   "metadata": {},
   "source": [
    "### Generar el string Proyection 4"
   ]
  },
  {
   "cell_type": "code",
   "execution_count": 26,
   "id": "8444dbb5-dcd4-4dd2-8778-2631c73b20bb",
   "metadata": {},
   "outputs": [
    {
     "name": "stderr",
     "output_type": "stream",
     "text": [
      "c:\\python395\\lib\\site-packages\\pyproj\\crs\\crs.py:1286: UserWarning: You will likely lose important projection information when converting to a PROJ string from another format. See: https://proj.org/faq.html#what-is-the-best-format-for-describing-coordinate-reference-systems\n",
      "  proj = self._crs.to_proj4(version=version)\n"
     ]
    }
   ],
   "source": [
    "# Generar el string Proyection 4\n",
    "crs_proj4 = CRS(data_wgs84.crs).to_proj4()"
   ]
  },
  {
   "cell_type": "code",
   "execution_count": 29,
   "id": "1c680a8c-0b72-4ea0-bf03-e2d7f854c828",
   "metadata": {},
   "outputs": [
    {
     "name": "stdout",
     "output_type": "stream",
     "text": [
      "PROJ string: \n",
      " +proj=longlat +datum=WGS84 +no_defs +type=crs\n"
     ]
    }
   ],
   "source": [
    "print(\"PROJ string: \\n\", crs_proj4)"
   ]
  },
  {
   "cell_type": "markdown",
   "id": "e5b1b821-f9e6-439f-bc9e-9919919f92bb",
   "metadata": {},
   "source": [
    "### Descripcion mas a detalle proyeccion"
   ]
  },
  {
   "cell_type": "code",
   "execution_count": 30,
   "id": "9becc2f7-ff3f-49e6-8d1e-c2b07858c963",
   "metadata": {},
   "outputs": [
    {
     "name": "stdout",
     "output_type": "stream",
     "text": [
      "Name: WGS 84\n",
      "Coordinate system: ellipsoidal\n",
      "Bounds: (-180.0, -90.0, 180.0, 90.0)\n"
     ]
    }
   ],
   "source": [
    "# Name\n",
    "print(\"Name:\", crs_object.name)\n",
    "\n",
    "# Coordinate system\n",
    "print(\"Coordinate system:\", crs_object.coordinate_system)\n",
    "\n",
    "# Bounds of the area where CRS is used\n",
    "print(\"Bounds:\", crs_object.area_of_use.bounds)"
   ]
  },
  {
   "cell_type": "code",
   "execution_count": null,
   "id": "d5a92dc4-7899-4ab2-aa64-b0201b91e929",
   "metadata": {},
   "outputs": [],
   "source": []
  }
 ],
 "metadata": {
  "kernelspec": {
   "display_name": "Python 3 (ipykernel)",
   "language": "python",
   "name": "python3"
  },
  "language_info": {
   "codemirror_mode": {
    "name": "ipython",
    "version": 3
   },
   "file_extension": ".py",
   "mimetype": "text/x-python",
   "name": "python",
   "nbconvert_exporter": "python",
   "pygments_lexer": "ipython3",
   "version": "3.9.5"
  }
 },
 "nbformat": 4,
 "nbformat_minor": 5
}
