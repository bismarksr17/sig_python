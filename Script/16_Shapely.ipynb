{
 "cells": [
  {
   "cell_type": "markdown",
   "id": "c4f2eb52-4bc7-4577-9a93-c2ee003c00c0",
   "metadata": {},
   "source": [
    "# Shapely y objeto de geometría"
   ]
  },
  {
   "cell_type": "code",
   "execution_count": 2,
   "id": "69d70389-204a-479b-b53b-913c2eec553f",
   "metadata": {},
   "outputs": [],
   "source": [
    "# Importar necesario la geometria\n",
    "from shapely.geometry import Point, LineString, Polygon"
   ]
  },
  {
   "cell_type": "markdown",
   "id": "8e56d70f-8d9a-4ced-abfa-b6f42e969654",
   "metadata": {},
   "source": [
    "## Tipo Punto"
   ]
  },
  {
   "cell_type": "code",
   "execution_count": 3,
   "id": "2481b1c0-0e34-4d4e-b8f0-799857045ad0",
   "metadata": {},
   "outputs": [],
   "source": [
    "# Crear geometria de puntos con coordenadas\n",
    "point1 = Point(-6.459569, -76.364112)\n",
    "point2 = Point(7.2, -25.1)\n",
    "point3 = Point(9.26, -2.456)\n",
    "point3D = Point(9.26, -2.456, 0.57)"
   ]
  },
  {
   "cell_type": "code",
   "execution_count": 6,
   "id": "e5875aaf-1b0e-401e-bbe0-9d437abda4e1",
   "metadata": {},
   "outputs": [
    {
     "data": {
      "image/svg+xml": [
       "<svg xmlns=\"http://www.w3.org/2000/svg\" xmlns:xlink=\"http://www.w3.org/1999/xlink\" width=\"100.0\" height=\"100.0\" viewBox=\"-7.459569 -77.364112 2.0 2.0\" preserveAspectRatio=\"xMinYMin meet\"><g transform=\"matrix(1,0,0,-1,0,-152.728224)\"><circle cx=\"-6.459569\" cy=\"-76.364112\" r=\"0.06\" stroke=\"#555555\" stroke-width=\"0.02\" fill=\"#66cc99\" opacity=\"0.6\" /></g></svg>"
      ],
      "text/plain": [
       "<shapely.geometry.point.Point at 0x2655e419ca0>"
      ]
     },
     "execution_count": 6,
     "metadata": {},
     "output_type": "execute_result"
    }
   ],
   "source": [
    "point1"
   ]
  },
  {
   "cell_type": "code",
   "execution_count": 9,
   "id": "391a8362-a9f2-438c-a24b-383e47dd7c20",
   "metadata": {},
   "outputs": [
    {
     "name": "stdout",
     "output_type": "stream",
     "text": [
      "POINT (-6.459569 -76.36411200000001)\n",
      "POINT Z (9.26 -2.456 0.57)\n"
     ]
    }
   ],
   "source": [
    "print(point1)\n",
    "print(point3D)"
   ]
  },
  {
   "cell_type": "code",
   "execution_count": 10,
   "id": "d0963227-279f-4398-9346-afedf502ebc5",
   "metadata": {},
   "outputs": [
    {
     "data": {
      "text/plain": [
       "shapely.geometry.point.Point"
      ]
     },
     "execution_count": 10,
     "metadata": {},
     "output_type": "execute_result"
    }
   ],
   "source": [
    "type(point1)"
   ]
  },
  {
   "cell_type": "markdown",
   "id": "0529b0f4-dec7-41ff-adb6-95998504af0f",
   "metadata": {},
   "source": [
    "### Funcion y atributo punto¶"
   ]
  },
  {
   "cell_type": "code",
   "execution_count": 11,
   "id": "f1f8f096-e52c-4d47-8de8-012bb2d2cfa3",
   "metadata": {},
   "outputs": [
    {
     "data": {
      "text/plain": [
       "'Point'"
      ]
     },
     "execution_count": 11,
     "metadata": {},
     "output_type": "execute_result"
    }
   ],
   "source": [
    "# Tipo de geometria\n",
    "point1.geom_type"
   ]
  },
  {
   "cell_type": "code",
   "execution_count": 16,
   "id": "95591f33-f083-4e5c-b696-dcfb7f44e36d",
   "metadata": {},
   "outputs": [
    {
     "data": {
      "text/plain": [
       "[-6.459569, -76.364112]"
      ]
     },
     "execution_count": 16,
     "metadata": {},
     "output_type": "execute_result"
    }
   ],
   "source": [
    "# Devuelve la coordenada XY Tuple\n",
    "list(point1.coords[0])"
   ]
  },
  {
   "cell_type": "code",
   "execution_count": 17,
   "id": "44bb2a97-b213-41ba-a01c-7a77bb80e687",
   "metadata": {},
   "outputs": [],
   "source": [
    "# Seleccion de coordenada separada\n",
    "x = point1.x\n",
    "y = point1.y"
   ]
  },
  {
   "cell_type": "code",
   "execution_count": 18,
   "id": "27348304-8037-47a2-923d-8d750430d691",
   "metadata": {},
   "outputs": [
    {
     "name": "stdout",
     "output_type": "stream",
     "text": [
      "-6.459569 -76.364112\n"
     ]
    }
   ],
   "source": [
    "print(x,y)"
   ]
  },
  {
   "cell_type": "code",
   "execution_count": 20,
   "id": "7e614f26-3587-413d-95ff-65f1ff149cd4",
   "metadata": {},
   "outputs": [
    {
     "name": "stdout",
     "output_type": "stream",
     "text": [
      "POINT (-6.459569 -76.36411200000001)\n",
      "POINT (7.2 -25.1)\n"
     ]
    }
   ],
   "source": [
    "# chequear datos ingreso\n",
    "print(point1)\n",
    "print(point2)"
   ]
  },
  {
   "cell_type": "code",
   "execution_count": 22,
   "id": "04a6dc6a-2ab9-41bb-a3b0-8594a55d4ec9",
   "metadata": {},
   "outputs": [
    {
     "name": "stdout",
     "output_type": "stream",
     "text": [
      "Distancia de punto 1 al punto 2:  53.053\n"
     ]
    }
   ],
   "source": [
    "# Calcular distancia de un punto a otro\n",
    "dist = point1.distance(point2)\n",
    "\n",
    "# Print out a nicely formatted info message\n",
    "print(\"Distancia de punto 1 al punto 2: \", round(dist,3))"
   ]
  },
  {
   "cell_type": "markdown",
   "id": "a2f7204a-e366-400a-9c97-1d62dc186bce",
   "metadata": {},
   "source": [
    "## Tipo Linea"
   ]
  },
  {
   "cell_type": "code",
   "execution_count": 29,
   "id": "7c2b1f1d-d9fa-449e-b292-e14709faa96e",
   "metadata": {},
   "outputs": [],
   "source": [
    "# Crear una linea mediante puntos\n",
    "line = LineString([point1, point2, point3])"
   ]
  },
  {
   "cell_type": "code",
   "execution_count": 30,
   "id": "e4cae3c1-ef3c-4fcd-9a8c-9435581620a1",
   "metadata": {},
   "outputs": [
    {
     "data": {
      "image/svg+xml": [
       "<svg xmlns=\"http://www.w3.org/2000/svg\" xmlns:xlink=\"http://www.w3.org/1999/xlink\" width=\"100.0\" height=\"100.0\" viewBox=\"-9.415893480000001 -79.32043648000001 21.632217960000002 79.82076096000002\" preserveAspectRatio=\"xMinYMin meet\"><g transform=\"matrix(1,0,0,-1,0,-78.82011200000001)\"><polyline fill=\"none\" stroke=\"#66cc99\" stroke-width=\"1.5964152192000003\" points=\"-6.459569,-76.364112 7.2,-25.1 9.26,-2.456\" opacity=\"0.8\" /></g></svg>"
      ],
      "text/plain": [
       "<shapely.geometry.linestring.LineString at 0x2655e78bb80>"
      ]
     },
     "execution_count": 30,
     "metadata": {},
     "output_type": "execute_result"
    }
   ],
   "source": [
    "line"
   ]
  },
  {
   "cell_type": "code",
   "execution_count": 32,
   "id": "1ae88492-f7a3-41ea-85a4-a2230dcd410a",
   "metadata": {},
   "outputs": [],
   "source": [
    "# Es posible ingresar al coordenadas en tuples para crear linea\n",
    "line2 = LineString([(2.2, 4.2), (7.2, -25.1), (9.26, -2.456)])"
   ]
  },
  {
   "cell_type": "code",
   "execution_count": 35,
   "id": "0d2e4d3b-1427-4215-ae31-52fce3b3f7c6",
   "metadata": {},
   "outputs": [
    {
     "data": {
      "image/svg+xml": [
       "<svg xmlns=\"http://www.w3.org/2000/svg\" xmlns:xlink=\"http://www.w3.org/1999/xlink\" width=\"100.0\" height=\"100.0\" viewBox=\"1.028 -26.272000000000002 9.404 31.644000000000002\" preserveAspectRatio=\"xMinYMin meet\"><g transform=\"matrix(1,0,0,-1,0,-20.900000000000002)\"><polyline fill=\"none\" stroke=\"#66cc99\" stroke-width=\"0.63288\" points=\"2.2,4.2 7.2,-25.1 9.26,-2.456\" opacity=\"0.8\" /></g></svg>"
      ],
      "text/plain": [
       "<shapely.geometry.linestring.LineString at 0x2655ceafe20>"
      ]
     },
     "execution_count": 35,
     "metadata": {},
     "output_type": "execute_result"
    }
   ],
   "source": [
    "line2"
   ]
  },
  {
   "cell_type": "code",
   "execution_count": 36,
   "id": "eadf3ac6-d0c7-4ea5-8d7f-5f5c8cb34aa8",
   "metadata": {},
   "outputs": [
    {
     "data": {
      "text/plain": [
       "False"
      ]
     },
     "execution_count": 36,
     "metadata": {},
     "output_type": "execute_result"
    }
   ],
   "source": [
    "# Comprobar si las líneas son idénticas\n",
    "line == line2"
   ]
  },
  {
   "cell_type": "code",
   "execution_count": 37,
   "id": "85842993-8217-46aa-94aa-1594fa5b51e7",
   "metadata": {},
   "outputs": [
    {
     "name": "stdout",
     "output_type": "stream",
     "text": [
      "LINESTRING (-6.459569 -76.36411200000001, 7.2 -25.1, 9.26 -2.456)\n"
     ]
    }
   ],
   "source": [
    "print(line)"
   ]
  },
  {
   "cell_type": "code",
   "execution_count": 38,
   "id": "9128eb6b-65dc-4fb8-81db-3fbdeda5c05a",
   "metadata": {},
   "outputs": [
    {
     "data": {
      "text/plain": [
       "shapely.geometry.linestring.LineString"
      ]
     },
     "execution_count": 38,
     "metadata": {},
     "output_type": "execute_result"
    }
   ],
   "source": [
    "# tipo de dato linea\n",
    "type(line)"
   ]
  },
  {
   "cell_type": "code",
   "execution_count": 39,
   "id": "de5e4e3e-f5ad-4099-9cf4-28dee908e9dd",
   "metadata": {},
   "outputs": [
    {
     "data": {
      "text/plain": [
       "'LineString'"
      ]
     },
     "execution_count": 39,
     "metadata": {},
     "output_type": "execute_result"
    }
   ],
   "source": [
    "# chequear geometria\n",
    "line.geom_type"
   ]
  },
  {
   "cell_type": "markdown",
   "id": "209efd43-ebba-4766-b2e2-8c177da3bdc6",
   "metadata": {
    "tags": []
   },
   "source": [
    "### Funcion y atributo de la Linea"
   ]
  },
  {
   "cell_type": "code",
   "execution_count": 42,
   "id": "96b6c7ee-fe41-4c79-817e-9810f601a8cf",
   "metadata": {},
   "outputs": [
    {
     "data": {
      "text/plain": [
       "[(-6.459569, -76.364112), (7.2, -25.1), (9.26, -2.456)]"
      ]
     },
     "execution_count": 42,
     "metadata": {},
     "output_type": "execute_result"
    }
   ],
   "source": [
    "# Verificar coordenadas vertice linea tuples\n",
    "list(line.coords)"
   ]
  },
  {
   "cell_type": "code",
   "execution_count": 52,
   "id": "2852dc23-d5d3-459d-9e90-fac25e5b8b75",
   "metadata": {},
   "outputs": [],
   "source": [
    "# Extraer la coordenada X y Y\n",
    "\n",
    "# extrare una lista de todas las X\n",
    "xcoords = list(line.xy[0])\n",
    "\n",
    "# extrare una lista de todas las Y\n",
    "ycoords = list(line.xy[1])"
   ]
  },
  {
   "cell_type": "code",
   "execution_count": 53,
   "id": "9c85dd46-2f81-4aed-9d86-f006f0540692",
   "metadata": {},
   "outputs": [
    {
     "name": "stdout",
     "output_type": "stream",
     "text": [
      "[-6.459569, 7.2, 9.26]\n",
      "[-76.364112, -25.1, -2.456]\n"
     ]
    }
   ],
   "source": [
    "print(xcoords)\n",
    "print(ycoords)"
   ]
  },
  {
   "cell_type": "code",
   "execution_count": 55,
   "id": "481ee601-6559-45d2-9ff9-4b60816be870",
   "metadata": {},
   "outputs": [
    {
     "name": "stdout",
     "output_type": "stream",
     "text": [
      "Longitud de la linea: 75.79\n"
     ]
    }
   ],
   "source": [
    "# Determinar la longitud linea\n",
    "l_length = line.length\n",
    "print(\"Longitud de la linea:\", round(l_length,3))"
   ]
  },
  {
   "cell_type": "code",
   "execution_count": 65,
   "id": "4da5bc49-563e-4aaa-af00-32ceb50690c5",
   "metadata": {},
   "outputs": [
    {
     "name": "stdout",
     "output_type": "stream",
     "text": [
      "POINT (2.728195985173412 -39.64562698963649)\n"
     ]
    },
    {
     "data": {
      "image/svg+xml": [
       "<svg xmlns=\"http://www.w3.org/2000/svg\" xmlns:xlink=\"http://www.w3.org/1999/xlink\" width=\"100.0\" height=\"100.0\" viewBox=\"1.7281959851734117 -40.64562698963649 2.0 2.0\" preserveAspectRatio=\"xMinYMin meet\"><g transform=\"matrix(1,0,0,-1,0,-79.29125397927298)\"><circle cx=\"2.7281959851734117\" cy=\"-39.64562698963649\" r=\"0.06\" stroke=\"#555555\" stroke-width=\"0.02\" fill=\"#66cc99\" opacity=\"0.6\" /></g></svg>"
      ],
      "text/plain": [
       "<shapely.geometry.point.Point at 0x2655ceafd90>"
      ]
     },
     "execution_count": 65,
     "metadata": {},
     "output_type": "execute_result"
    }
   ],
   "source": [
    "# Determinar el centroide de la linea\n",
    "centro = line.centroid\n",
    "print(centro)\n",
    "centro"
   ]
  },
  {
   "cell_type": "markdown",
   "id": "c2cbbfde-942f-42ff-88d2-72d393eb6af1",
   "metadata": {},
   "source": [
    "## Tipo Poligono"
   ]
  },
  {
   "cell_type": "code",
   "execution_count": 78,
   "id": "e113f3de-42cb-4f4e-b773-c9996a6f074a",
   "metadata": {},
   "outputs": [],
   "source": [
    "# Crear poligono mediante cordenada, lista de listas\n",
    "poly = Polygon([[2.2, 4.2], [7.2, -25.1], [9.26, -2.456]])"
   ]
  },
  {
   "cell_type": "code",
   "execution_count": 79,
   "id": "64a1152f-0912-4eef-b447-38e4c9977346",
   "metadata": {},
   "outputs": [],
   "source": [
    "# lista de tuplas\n",
    "poly = Polygon([(2.2, 4.2), (7.2, -25.1), (9.26, -2.456)])"
   ]
  },
  {
   "cell_type": "code",
   "execution_count": 80,
   "id": "ba0ed658-ef5f-41f6-a89c-d3eeb4b0399b",
   "metadata": {},
   "outputs": [],
   "source": [
    "# Crear poligono basado informacion Shapely punto\n",
    "poly2 = Polygon([[p.x, p.y] for p in [point1, point2, point3]])"
   ]
  },
  {
   "cell_type": "code",
   "execution_count": 81,
   "id": "6979bdec-48b1-4ade-bf3c-0d5613d781dc",
   "metadata": {},
   "outputs": [
    {
     "data": {
      "text/plain": [
       "[[-6.459569, -76.364112], [7.2, -25.1], [9.26, -2.456]]"
      ]
     },
     "execution_count": 81,
     "metadata": {},
     "output_type": "execute_result"
    }
   ],
   "source": [
    "[[p.x, p.y] for p in [point1, point2, point3]]"
   ]
  },
  {
   "cell_type": "code",
   "execution_count": 82,
   "id": "73c31a3f-f159-4d51-afce-a2e59ae90cf4",
   "metadata": {},
   "outputs": [
    {
     "data": {
      "text/plain": [
       "False"
      ]
     },
     "execution_count": 82,
     "metadata": {},
     "output_type": "execute_result"
    }
   ],
   "source": [
    "# Verificar si considen\n",
    "poly == poly2"
   ]
  },
  {
   "cell_type": "code",
   "execution_count": 83,
   "id": "0ab2bbf3-d05a-470d-a603-2c19601cbf1c",
   "metadata": {},
   "outputs": [
    {
     "data": {
      "image/svg+xml": [
       "<svg xmlns=\"http://www.w3.org/2000/svg\" xmlns:xlink=\"http://www.w3.org/1999/xlink\" width=\"100.0\" height=\"100.0\" viewBox=\"1.028 -26.272000000000002 9.404 31.644000000000002\" preserveAspectRatio=\"xMinYMin meet\"><g transform=\"matrix(1,0,0,-1,0,-20.900000000000002)\"><path fill-rule=\"evenodd\" fill=\"#66cc99\" stroke=\"#555555\" stroke-width=\"0.63288\" opacity=\"0.6\" d=\"M 2.2,4.2 L 7.2,-25.1 L 9.26,-2.456 L 2.2,4.2 z\" /></g></svg>"
      ],
      "text/plain": [
       "<shapely.geometry.polygon.Polygon at 0x2655e74ca60>"
      ]
     },
     "execution_count": 83,
     "metadata": {},
     "output_type": "execute_result"
    }
   ],
   "source": [
    "poly"
   ]
  },
  {
   "cell_type": "code",
   "execution_count": 85,
   "id": "97d54b2d-45d1-4198-8a67-8d9ed78ac017",
   "metadata": {},
   "outputs": [
    {
     "name": "stdout",
     "output_type": "stream",
     "text": [
      "POLYGON ((2.2 4.2, 7.2 -25.1, 9.26 -2.456, 2.2 4.2))\n"
     ]
    }
   ],
   "source": [
    "print(poly)"
   ]
  },
  {
   "cell_type": "code",
   "execution_count": 86,
   "id": "56701fee-d638-4cdb-9dea-8ff9a65077de",
   "metadata": {},
   "outputs": [
    {
     "data": {
      "text/plain": [
       "shapely.geometry.polygon.Polygon"
      ]
     },
     "execution_count": 86,
     "metadata": {},
     "output_type": "execute_result"
    }
   ],
   "source": [
    "# Tipo dato\n",
    "type(poly)"
   ]
  },
  {
   "cell_type": "code",
   "execution_count": 87,
   "id": "3243c8a5-27d7-470a-ad9b-737ae118680b",
   "metadata": {},
   "outputs": [
    {
     "data": {
      "text/plain": [
       "'Polygon'"
      ]
     },
     "execution_count": 87,
     "metadata": {},
     "output_type": "execute_result"
    }
   ],
   "source": [
    "# Tipo geometria\n",
    "poly.geom_type"
   ]
  },
  {
   "cell_type": "code",
   "execution_count": 88,
   "id": "e38925ba-e029-4c06-8e14-73b7786f32b8",
   "metadata": {},
   "outputs": [],
   "source": [
    "# Definir un borde\n",
    "border = [(-180, 90), (-180, -90), (180, -90), (180, 90)]"
   ]
  },
  {
   "cell_type": "code",
   "execution_count": 97,
   "id": "1e49b5ad-7451-4c01-ac76-bc62a4578a27",
   "metadata": {},
   "outputs": [
    {
     "name": "stdout",
     "output_type": "stream",
     "text": [
      "POLYGON ((-180 90, -180 -90, 180 -90, 180 90, -180 90))\n"
     ]
    }
   ],
   "source": [
    "# Outer polygon\n",
    "world = Polygon(shell=border)\n",
    "print(world)"
   ]
  },
  {
   "cell_type": "code",
   "execution_count": 98,
   "id": "5690c98d-bea8-49b0-9416-05926cf0fb3c",
   "metadata": {},
   "outputs": [
    {
     "data": {
      "image/svg+xml": [
       "<svg xmlns=\"http://www.w3.org/2000/svg\" xmlns:xlink=\"http://www.w3.org/1999/xlink\" width=\"300\" height=\"208.8\" viewBox=\"-194.4 -104.4 388.8 208.8\" preserveAspectRatio=\"xMinYMin meet\"><g transform=\"matrix(1,0,0,-1,0,0.0)\"><path fill-rule=\"evenodd\" fill=\"#66cc99\" stroke=\"#555555\" stroke-width=\"2.592\" opacity=\"0.6\" d=\"M -180.0,90.0 L -180.0,-90.0 L 180.0,-90.0 L 180.0,90.0 L -180.0,90.0 z\" /></g></svg>"
      ],
      "text/plain": [
       "<shapely.geometry.polygon.Polygon at 0x2655e78bd90>"
      ]
     },
     "execution_count": 98,
     "metadata": {},
     "output_type": "execute_result"
    }
   ],
   "source": [
    "world"
   ]
  },
  {
   "cell_type": "code",
   "execution_count": 99,
   "id": "a204ebbd-4a59-4146-917f-5e051218273e",
   "metadata": {},
   "outputs": [],
   "source": [
    "# Crear un poligono que superponga al anterior y eliminar\n",
    "hole = [[(-170, 80), (-170, -80), (170, -80), (170, 80)]]"
   ]
  },
  {
   "cell_type": "code",
   "execution_count": 108,
   "id": "e159847b-66b9-4e63-9355-6f87d2c93423",
   "metadata": {},
   "outputs": [
    {
     "data": {
      "text/plain": [
       "[[(-170, 80), (-170, -80), (170, -80), (170, 80)]]"
      ]
     },
     "execution_count": 108,
     "metadata": {},
     "output_type": "execute_result"
    }
   ],
   "source": [
    "hole"
   ]
  },
  {
   "cell_type": "code",
   "execution_count": 109,
   "id": "07d694f0-4bb6-48b3-b27a-c282f28adb73",
   "metadata": {},
   "outputs": [],
   "source": [
    "poly_hole = [(-170, 80), (-170, -80), (170, -80), (170, 80)]"
   ]
  },
  {
   "cell_type": "code",
   "execution_count": 111,
   "id": "17e36be7-1884-42e9-aabf-af2f45fafbf6",
   "metadata": {},
   "outputs": [],
   "source": [
    "hole_p = Polygon(poly_hole)"
   ]
  },
  {
   "cell_type": "code",
   "execution_count": 112,
   "id": "f34bada2-fed9-4c32-beb3-52b9dbfb36ac",
   "metadata": {},
   "outputs": [
    {
     "data": {
      "image/svg+xml": [
       "<svg xmlns=\"http://www.w3.org/2000/svg\" xmlns:xlink=\"http://www.w3.org/1999/xlink\" width=\"300\" height=\"187.2\" viewBox=\"-183.6 -93.6 367.2 187.2\" preserveAspectRatio=\"xMinYMin meet\"><g transform=\"matrix(1,0,0,-1,0,0.0)\"><path fill-rule=\"evenodd\" fill=\"#66cc99\" stroke=\"#555555\" stroke-width=\"2.448\" opacity=\"0.6\" d=\"M -170.0,80.0 L -170.0,-80.0 L 170.0,-80.0 L 170.0,80.0 L -170.0,80.0 z\" /></g></svg>"
      ],
      "text/plain": [
       "<shapely.geometry.polygon.Polygon at 0x2655e575e50>"
      ]
     },
     "execution_count": 112,
     "metadata": {},
     "output_type": "execute_result"
    }
   ],
   "source": [
    "hole_p"
   ]
  },
  {
   "cell_type": "code",
   "execution_count": 113,
   "id": "308c7d7a-eaf2-4576-86a8-df91cfd4c78d",
   "metadata": {},
   "outputs": [
    {
     "name": "stdout",
     "output_type": "stream",
     "text": [
      "POLYGON ((-180 90, -180 -90, 180 -90, 180 90, -180 90), (-170 80, -170 -80, 170 -80, 170 80, -170 80))\n"
     ]
    }
   ],
   "source": [
    "# Ahora podemos construir nuestra polígono con el agujero dentro.\n",
    "frame = Polygon(shell=border, holes=hole)\n",
    "print(frame)"
   ]
  },
  {
   "cell_type": "code",
   "execution_count": 114,
   "id": "e9dbd496-12f5-4dec-a6ef-22a5dad33a64",
   "metadata": {},
   "outputs": [
    {
     "data": {
      "image/svg+xml": [
       "<svg xmlns=\"http://www.w3.org/2000/svg\" xmlns:xlink=\"http://www.w3.org/1999/xlink\" width=\"300\" height=\"208.8\" viewBox=\"-194.4 -104.4 388.8 208.8\" preserveAspectRatio=\"xMinYMin meet\"><g transform=\"matrix(1,0,0,-1,0,0.0)\"><path fill-rule=\"evenodd\" fill=\"#66cc99\" stroke=\"#555555\" stroke-width=\"2.592\" opacity=\"0.6\" d=\"M -180.0,90.0 L -180.0,-90.0 L 180.0,-90.0 L 180.0,90.0 L -180.0,90.0 z M -170.0,80.0 L -170.0,-80.0 L 170.0,-80.0 L 170.0,80.0 L -170.0,80.0 z\" /></g></svg>"
      ],
      "text/plain": [
       "<shapely.geometry.polygon.Polygon at 0x2655f04bc40>"
      ]
     },
     "execution_count": 114,
     "metadata": {},
     "output_type": "execute_result"
    }
   ],
   "source": [
    "frame"
   ]
  },
  {
   "cell_type": "markdown",
   "id": "ad21e51a-d8e1-42d8-9e16-396ff230e944",
   "metadata": {},
   "source": [
    "### Funcion y atributo de poligono"
   ]
  },
  {
   "cell_type": "code",
   "execution_count": 66,
   "id": "56a2a2bc-22a9-4945-b586-5aaa7f8a8b4a",
   "metadata": {},
   "outputs": [
    {
     "name": "stdout",
     "output_type": "stream",
     "text": [
      "centroide del poligono: POINT (0 0)\n",
      "Área del poligono: 64800.0 Grado\n",
      "Borde del poligono: (-180.0, -90.0, 180.0, 90.0)\n",
      "Poligono Exterior: LINEARRING (-180 90, -180 -90, 180 -90, 180 90, -180 90)\n",
      "Longitud del poligono exterior: 1080.0 Grado\n"
     ]
    }
   ],
   "source": [
    "# Imprimir geometrias del poligono\n",
    "print(\"centroide del poligono:\",world.centroid)\n",
    "print(\"Área del poligono:\", world.area, \"Grado\")\n",
    "print(\"Borde del poligono:\", world.bounds)\n",
    "print(\"Poligono Exterior:\", world.exterior)\n",
    "print(\"Longitud del poligono exterior:\",world.exterior.length, \"Grado\")"
   ]
  },
  {
   "cell_type": "code",
   "execution_count": 115,
   "id": "43caf213-7cce-4625-ba25-4db4a2577eaa",
   "metadata": {},
   "outputs": [],
   "source": [
    "pentagono = Polygon([(30, 2.01), \n",
    "                     (31.91, 0.62),\n",
    "                     (31.18, -1.63),\n",
    "                     (28.82, -1.63),\n",
    "                     (28.09, 0.62)])"
   ]
  },
  {
   "cell_type": "code",
   "execution_count": 116,
   "id": "88db97cb-d5ca-4367-9bd4-f12f3e300aaa",
   "metadata": {},
   "outputs": [
    {
     "data": {
      "image/svg+xml": [
       "<svg xmlns=\"http://www.w3.org/2000/svg\" xmlns:xlink=\"http://www.w3.org/1999/xlink\" width=\"100.0\" height=\"100.0\" viewBox=\"27.9372 -1.7828 4.125600000000002 3.9455999999999998\" preserveAspectRatio=\"xMinYMin meet\"><g transform=\"matrix(1,0,0,-1,0,0.3799999999999999)\"><path fill-rule=\"evenodd\" fill=\"#66cc99\" stroke=\"#555555\" stroke-width=\"0.08251200000000004\" opacity=\"0.6\" d=\"M 30.0,2.01 L 31.91,0.62 L 31.18,-1.63 L 28.82,-1.63 L 28.09,0.62 L 30.0,2.01 z\" /></g></svg>"
      ],
      "text/plain": [
       "<shapely.geometry.polygon.Polygon at 0x2655f04b850>"
      ]
     },
     "execution_count": 116,
     "metadata": {},
     "output_type": "execute_result"
    }
   ],
   "source": [
    "pentagono"
   ]
  },
  {
   "cell_type": "code",
   "execution_count": 118,
   "id": "82faf878-6643-4aa1-9c87-40d99f52cf31",
   "metadata": {},
   "outputs": [
    {
     "data": {
      "image/svg+xml": [
       "<svg xmlns=\"http://www.w3.org/2000/svg\" xmlns:xlink=\"http://www.w3.org/1999/xlink\" width=\"100.0\" height=\"100.0\" viewBox=\"-0.16 -0.16 4.32 4.32\" preserveAspectRatio=\"xMinYMin meet\"><g transform=\"matrix(1,0,0,-1,0,4.0)\"><path fill-rule=\"evenodd\" fill=\"#66cc99\" stroke=\"#555555\" stroke-width=\"0.0864\" opacity=\"0.6\" d=\"M 0.0,0.0 L 2.0,4.0 L 4.0,0.0 L 0.0,0.0 z\" /></g></svg>"
      ],
      "text/plain": [
       "<shapely.geometry.polygon.Polygon at 0x2655f04bbe0>"
      ]
     },
     "execution_count": 118,
     "metadata": {},
     "output_type": "execute_result"
    }
   ],
   "source": [
    "# Triangulo\n",
    "Polygon([(0,0), (2,4), (4,0)])"
   ]
  },
  {
   "cell_type": "code",
   "execution_count": 119,
   "id": "3a07b7cc-4afd-4b30-bb8d-1301057411df",
   "metadata": {},
   "outputs": [
    {
     "data": {
      "image/svg+xml": [
       "<svg xmlns=\"http://www.w3.org/2000/svg\" xmlns:xlink=\"http://www.w3.org/1999/xlink\" width=\"100.0\" height=\"100.0\" viewBox=\"-10.8 -10.8 21.6 21.6\" preserveAspectRatio=\"xMinYMin meet\"><g transform=\"matrix(1,0,0,-1,0,0.0)\"><path fill-rule=\"evenodd\" fill=\"#66cc99\" stroke=\"#555555\" stroke-width=\"0.43200000000000005\" opacity=\"0.6\" d=\"M 10.0,0.0 L 9.95184726672197,-0.980171403295605 L 9.807852804032306,-1.9509032201612808 L 9.56940335732209,-2.902846772544621 L 9.23879532511287,-3.826834323650894 L 8.819212643483553,-4.713967368259972 L 8.314696123025456,-5.555702330196017 L 7.730104533627374,-6.343932841636449 L 7.071067811865481,-7.071067811865469 L 6.3439328416364615,-7.7301045336273635 L 5.555702330196031,-8.314696123025447 L 4.713967368259986,-8.819212643483546 L 3.8268343236509086,-9.238795325112862 L 2.902846772544636,-9.569403357322084 L 1.9509032201612964,-9.807852804032303 L 0.9801714032956209,-9.951847266721966 L 1.6155445744325867e-14,-10.0 L -0.9801714032955888,-9.95184726672197 L -1.9509032201612646,-9.807852804032308 L -2.902846772544605,-9.569403357322095 L -3.8268343236508784,-9.238795325112875 L -4.713967368259957,-8.81921264348356 L -5.555702330196005,-8.314696123025463 L -6.343932841636439,-7.730104533627382 L -7.071067811865462,-7.071067811865489 L -7.730104533627359,-6.343932841636468 L -8.314696123025444,-5.555702330196036 L -8.819212643483542,-4.71396736825999 L -9.238795325112862,-3.8268343236509113 L -9.569403357322084,-2.9028467725446365 L -9.807852804032303,-1.9509032201612948 L -9.951847266721968,-0.9801714032956171 L -10.0,-1.0106430996148605e-14 L -9.95184726672197,0.980171403295597 L -9.807852804032306,1.950903220161275 L -9.569403357322091,2.902846772544617 L -9.23879532511287,3.826834323650892 L -8.819212643483553,4.713967368259972 L -8.314696123025454,5.55570233019602 L -7.730104533627371,6.343932841636453 L -7.071067811865477,7.071067811865475 L -6.343932841636459,7.730104533627367 L -5.55570233019603,8.314696123025447 L -4.713967368259987,8.819212643483546 L -3.8268343236509117,9.238795325112862 L -2.902846772544641,9.569403357322084 L -1.9509032201613041,9.8078528040323 L -0.980171403295631,9.951847266721966 L -2.848232278972479e-14,10.0 L 0.9801714032955743,9.951847266721972 L 1.9509032201612482,9.807852804032311 L 2.902846772544587,9.569403357322098 L 3.826834323650859,9.238795325112884 L 4.713967368259937,8.81921264348357 L 5.555702330195982,8.31469612302548 L 6.3439328416364145,7.730104533627403 L 7.0710678118654355,7.071067811865515 L 7.730104533627332,6.343932841636501 L 8.314696123025417,5.555702330196074 L 8.81921264348352,4.713967368260034 L 9.238795325112841,3.826834323650962 L 9.569403357322066,2.9028467725446925 L 9.80785280403229,1.950903220161357 L 9.95184726672196,0.9801714032956848 L 10.0,8.238535137130597e-14 L 10.0,0.0 z\" /></g></svg>"
      ],
      "text/plain": [
       "<shapely.geometry.polygon.Polygon at 0x2655e6a19a0>"
      ]
     },
     "execution_count": 119,
     "metadata": {},
     "output_type": "execute_result"
    }
   ],
   "source": [
    "# Circulo y realizar un buffer de 1\n",
    "point = Point((0,0))\n",
    "point.buffer(10)"
   ]
  },
  {
   "cell_type": "markdown",
   "id": "c369f944-28d8-4b6a-b550-418c43aeff50",
   "metadata": {},
   "source": [
    "# Geometry collections (optional)"
   ]
  },
  {
   "cell_type": "markdown",
   "id": "0cc18fb3-e314-48cb-a292-39b4d51787c3",
   "metadata": {},
   "source": [
    "En algunas ocasiones es útil almacenar múltiples geometrías (por ejemplo, varios puntos o varios polígonos) en una sola entidad. Un ejemplo práctico sería un país que está compuesto por varias islas. En tal caso, todos estos polígonos comparten los mismos atributos a nivel de país y podría ser razonable almacenar ese país como una colección de geometría que contiene todos los polígonos. La tabla de atributos contendría entonces una fila de información con atributos a nivel de país, y la geometría relacionada con esos atributos representaría varios polígonos."
   ]
  },
  {
   "cell_type": "code",
   "execution_count": 124,
   "id": "46f8fd16-081d-4cc4-a67c-7bd6b42f0e3d",
   "metadata": {},
   "outputs": [],
   "source": [
    "# Crear geometria colleccion\n",
    "from shapely.geometry import MultiPoint, MultiLineString, MultiPolygon"
   ]
  },
  {
   "cell_type": "code",
   "execution_count": 125,
   "id": "e9fde2a0-326f-43a1-8788-95210a68fef8",
   "metadata": {},
   "outputs": [],
   "source": [
    "# Crear multipuntos\n",
    "multi_point = MultiPoint([point1, point2, point3])"
   ]
  },
  {
   "cell_type": "code",
   "execution_count": 126,
   "id": "9232c4dd-9e10-4793-b17c-284003e0b403",
   "metadata": {},
   "outputs": [
    {
     "data": {
      "image/svg+xml": [
       "<svg xmlns=\"http://www.w3.org/2000/svg\" xmlns:xlink=\"http://www.w3.org/1999/xlink\" width=\"100.0\" height=\"100.0\" viewBox=\"-9.415893480000001 -79.32043648000001 21.632217960000002 79.82076096000002\" preserveAspectRatio=\"xMinYMin meet\"><g transform=\"matrix(1,0,0,-1,0,-78.82011200000001)\"><g><circle cx=\"-6.459569\" cy=\"-76.364112\" r=\"2.3946228288\" stroke=\"#555555\" stroke-width=\"0.7982076096000001\" fill=\"#66cc99\" opacity=\"0.6\" /><circle cx=\"7.2\" cy=\"-25.1\" r=\"2.3946228288\" stroke=\"#555555\" stroke-width=\"0.7982076096000001\" fill=\"#66cc99\" opacity=\"0.6\" /><circle cx=\"9.26\" cy=\"-2.456\" r=\"2.3946228288\" stroke=\"#555555\" stroke-width=\"0.7982076096000001\" fill=\"#66cc99\" opacity=\"0.6\" /></g></g></svg>"
      ],
      "text/plain": [
       "<shapely.geometry.multipoint.MultiPoint at 0x2655e7c9460>"
      ]
     },
     "execution_count": 126,
     "metadata": {},
     "output_type": "execute_result"
    }
   ],
   "source": [
    "multi_point"
   ]
  },
  {
   "cell_type": "code",
   "execution_count": 127,
   "id": "0de78547-39b3-4eab-bb89-1f9f3469dd32",
   "metadata": {},
   "outputs": [],
   "source": [
    "# es posible crear mediante tuples inside\n",
    "multi_point2 = MultiPoint([(2.2, 4.2), (7.2, -25.1), (9.26, -2.456)])"
   ]
  },
  {
   "cell_type": "code",
   "execution_count": 128,
   "id": "82eef4f9-e60b-4c64-a298-1ed1c9b4216a",
   "metadata": {},
   "outputs": [
    {
     "data": {
      "image/svg+xml": [
       "<svg xmlns=\"http://www.w3.org/2000/svg\" xmlns:xlink=\"http://www.w3.org/1999/xlink\" width=\"100.0\" height=\"100.0\" viewBox=\"1.028 -26.272000000000002 9.404 31.644000000000002\" preserveAspectRatio=\"xMinYMin meet\"><g transform=\"matrix(1,0,0,-1,0,-20.900000000000002)\"><g><circle cx=\"2.2\" cy=\"4.2\" r=\"0.9493199999999999\" stroke=\"#555555\" stroke-width=\"0.31644\" fill=\"#66cc99\" opacity=\"0.6\" /><circle cx=\"7.2\" cy=\"-25.1\" r=\"0.9493199999999999\" stroke=\"#555555\" stroke-width=\"0.31644\" fill=\"#66cc99\" opacity=\"0.6\" /><circle cx=\"9.26\" cy=\"-2.456\" r=\"0.9493199999999999\" stroke=\"#555555\" stroke-width=\"0.31644\" fill=\"#66cc99\" opacity=\"0.6\" /></g></g></svg>"
      ],
      "text/plain": [
       "<shapely.geometry.multipoint.MultiPoint at 0x2655e543220>"
      ]
     },
     "execution_count": 128,
     "metadata": {},
     "output_type": "execute_result"
    }
   ],
   "source": [
    "multi_point2"
   ]
  },
  {
   "cell_type": "code",
   "execution_count": 129,
   "id": "b030ced9-8078-4e23-8cbc-a368a8ad5df7",
   "metadata": {},
   "outputs": [],
   "source": [
    "# También podemos crear un MultiLineString con dos líneas\n",
    "line1 = LineString([point1, point2])\n",
    "line2 = LineString([point2, point3])\n",
    "multi_line = MultiLineString([line1, line2])"
   ]
  },
  {
   "cell_type": "code",
   "execution_count": 131,
   "id": "41593c47-d734-46fd-b12b-7e12715a7441",
   "metadata": {},
   "outputs": [
    {
     "data": {
      "image/svg+xml": [
       "<svg xmlns=\"http://www.w3.org/2000/svg\" xmlns:xlink=\"http://www.w3.org/1999/xlink\" width=\"100.0\" height=\"100.0\" viewBox=\"-9.415893480000001 -79.32043648000001 21.632217960000002 79.82076096000002\" preserveAspectRatio=\"xMinYMin meet\"><g transform=\"matrix(1,0,0,-1,0,-78.82011200000001)\"><g><polyline fill=\"none\" stroke=\"#66cc99\" stroke-width=\"1.5964152192000003\" points=\"-6.459569,-76.364112 7.2,-25.1\" opacity=\"0.8\" /><polyline fill=\"none\" stroke=\"#66cc99\" stroke-width=\"1.5964152192000003\" points=\"7.2,-25.1 9.26,-2.456\" opacity=\"0.8\" /></g></g></svg>"
      ],
      "text/plain": [
       "<shapely.geometry.multilinestring.MultiLineString at 0x2655e697f70>"
      ]
     },
     "execution_count": 131,
     "metadata": {},
     "output_type": "execute_result"
    }
   ],
   "source": [
    "multi_line"
   ]
  },
  {
   "cell_type": "code",
   "execution_count": 132,
   "id": "56bc60ba-5bab-4a6d-840f-42aab4b235a9",
   "metadata": {},
   "outputs": [
    {
     "name": "stdout",
     "output_type": "stream",
     "text": [
      "MULTIPOINT (-6.459569 -76.36411200000001, 7.2 -25.1, 9.26 -2.456)\n",
      "MULTILINESTRING ((-6.459569 -76.36411200000001, 7.2 -25.1), (7.2 -25.1, 9.26 -2.456))\n"
     ]
    }
   ],
   "source": [
    "# imprimimos los objetos\n",
    "print(multi_point)\n",
    "print(multi_line)"
   ]
  },
  {
   "cell_type": "code",
   "execution_count": 134,
   "id": "08a13fe2-ee6f-442b-9421-961ef65a43ce",
   "metadata": {},
   "outputs": [
    {
     "name": "stdout",
     "output_type": "stream",
     "text": [
      "POLYGON ((-180 90, -180 -90, 0 -90, 0 90, -180 90), (-170 80, -170 -80, -10 -80, -10 80, -170 80))\n"
     ]
    }
   ],
   "source": [
    "# Crear coordenadas exteriores\n",
    "west_exterior = [(-180, 90), (-180, -90), (0, -90), (0, 90)]\n",
    "\n",
    "# Hale poligono para recortar\n",
    "west_hole = [[(-170, 80), (-170, -80), (-10, -80), (-10, 80)]]\n",
    "\n",
    "# Crear poligono cortando lo superpuesto\n",
    "west_poly = Polygon(shell=west_exterior, holes=west_hole)\n",
    "\n",
    "# print objeto creado\n",
    "print(west_poly)"
   ]
  },
  {
   "cell_type": "code",
   "execution_count": 135,
   "id": "a4e102a9-7fe0-4a4c-b6df-4f4aa511fe14",
   "metadata": {},
   "outputs": [
    {
     "data": {
      "image/svg+xml": [
       "<svg xmlns=\"http://www.w3.org/2000/svg\" xmlns:xlink=\"http://www.w3.org/1999/xlink\" width=\"194.39999999999998\" height=\"194.4\" viewBox=\"-187.2 -97.2 194.39999999999998 194.4\" preserveAspectRatio=\"xMinYMin meet\"><g transform=\"matrix(1,0,0,-1,0,0.0)\"><path fill-rule=\"evenodd\" fill=\"#66cc99\" stroke=\"#555555\" stroke-width=\"2.0\" opacity=\"0.6\" d=\"M -180.0,90.0 L -180.0,-90.0 L 0.0,-90.0 L 0.0,90.0 L -180.0,90.0 z M -170.0,80.0 L -170.0,-80.0 L -10.0,-80.0 L -10.0,80.0 L -170.0,80.0 z\" /></g></svg>"
      ],
      "text/plain": [
       "<shapely.geometry.polygon.Polygon at 0x2655e545850>"
      ]
     },
     "execution_count": 135,
     "metadata": {},
     "output_type": "execute_result"
    }
   ],
   "source": [
    "west_poly"
   ]
  },
  {
   "cell_type": "code",
   "execution_count": 136,
   "id": "80eb87eb-17ca-4aa8-a758-1a3c69f66003",
   "metadata": {},
   "outputs": [],
   "source": [
    "from shapely.geometry import box"
   ]
  },
  {
   "cell_type": "code",
   "execution_count": 138,
   "id": "b6443e38-40b4-415e-b49f-c9c26c9722a1",
   "metadata": {},
   "outputs": [
    {
     "name": "stdout",
     "output_type": "stream",
     "text": [
      "POLYGON ((180 -90, 180 90, 0 90, 0 -90, 180 -90))\n"
     ]
    }
   ],
   "source": [
    "# Especificar la extension (coordenadas esquina inferior izquierda y de la esquina superior derecha)\n",
    "min_x, min_y = 0, -90\n",
    "max_x, max_y = 180, 90\n",
    "\n",
    "# Crear un poligono mediante shapely\n",
    "east_poly = box(minx=min_x, miny=min_y, maxx=max_x, maxy=max_y)\n",
    "\n",
    "# print objeto creado\n",
    "print(east_poly)"
   ]
  },
  {
   "cell_type": "code",
   "execution_count": 139,
   "id": "8e74d5a8-dc47-43bc-bc52-8babb421c2b9",
   "metadata": {},
   "outputs": [
    {
     "data": {
      "image/svg+xml": [
       "<svg xmlns=\"http://www.w3.org/2000/svg\" xmlns:xlink=\"http://www.w3.org/1999/xlink\" width=\"194.39999999999998\" height=\"194.4\" viewBox=\"-7.2 -97.2 194.39999999999998 194.4\" preserveAspectRatio=\"xMinYMin meet\"><g transform=\"matrix(1,0,0,-1,0,0.0)\"><path fill-rule=\"evenodd\" fill=\"#66cc99\" stroke=\"#555555\" stroke-width=\"2.0\" opacity=\"0.6\" d=\"M 180.0,-90.0 L 180.0,90.0 L 0.0,90.0 L 0.0,-90.0 L 180.0,-90.0 z\" /></g></svg>"
      ],
      "text/plain": [
       "<shapely.geometry.polygon.Polygon at 0x2655e548730>"
      ]
     },
     "execution_count": 139,
     "metadata": {},
     "output_type": "execute_result"
    }
   ],
   "source": [
    "east_poly"
   ]
  },
  {
   "cell_type": "code",
   "execution_count": 146,
   "id": "f8a2e2a4-922f-45f4-b36e-87219ca2b863",
   "metadata": {},
   "outputs": [
    {
     "name": "stdout",
     "output_type": "stream",
     "text": [
      "MULTIPOLYGON (((-180 90, -180 -90, 0 -90, 0 90, -180 90), (-170 80, -170 -80, -10 -80, -10 80, -170 80)), ((180 -90, 180 90, 0 90, 0 -90, 180 -90)))\n"
     ]
    }
   ],
   "source": [
    "# Vamos a crear nuestro MultiPolygon. \n",
    "# Podemos pasar múltiples objetos Polygon a nuestro MultiPolygon como una lista\n",
    "multi_poly = MultiPolygon([west_poly, east_poly])\n",
    "\n",
    "# print objeto creado\n",
    "print(multi_poly)"
   ]
  },
  {
   "cell_type": "code",
   "execution_count": 145,
   "id": "c02d382e-e2a7-43d3-a884-c9529a81e84b",
   "metadata": {},
   "outputs": [
    {
     "data": {
      "image/svg+xml": [
       "<svg xmlns=\"http://www.w3.org/2000/svg\" xmlns:xlink=\"http://www.w3.org/1999/xlink\" width=\"300\" height=\"208.8\" viewBox=\"-194.4 -104.4 388.8 208.8\" preserveAspectRatio=\"xMinYMin meet\"><g transform=\"matrix(1,0,0,-1,0,0.0)\"><g><path fill-rule=\"evenodd\" fill=\"#ff3333\" stroke=\"#555555\" stroke-width=\"2.592\" opacity=\"0.6\" d=\"M -180.0,90.0 L -180.0,-90.0 L 0.0,-90.0 L 0.0,90.0 L -180.0,90.0 z M -170.0,80.0 L -170.0,-80.0 L -10.0,-80.0 L -10.0,80.0 L -170.0,80.0 z\" /><path fill-rule=\"evenodd\" fill=\"#ff3333\" stroke=\"#555555\" stroke-width=\"2.592\" opacity=\"0.6\" d=\"M 180.0,-90.0 L 180.0,90.0 L 0.0,90.0 L 0.0,-90.0 L 180.0,-90.0 z\" /></g></g></svg>"
      ],
      "text/plain": [
       "<shapely.geometry.multipolygon.MultiPolygon at 0x2655e5510d0>"
      ]
     },
     "execution_count": 145,
     "metadata": {},
     "output_type": "execute_result"
    }
   ],
   "source": [
    "multi_poly"
   ]
  },
  {
   "cell_type": "markdown",
   "id": "df1de9af-8758-4a0b-8188-9ccb74207654",
   "metadata": {},
   "source": [
    "# Envolvente convexos PUNTO, LINEA y POLIGONO"
   ]
  },
  {
   "cell_type": "code",
   "execution_count": 147,
   "id": "65e4af07-4b71-420b-8602-14d78e7c3a66",
   "metadata": {},
   "outputs": [
    {
     "data": {
      "image/svg+xml": [
       "<svg xmlns=\"http://www.w3.org/2000/svg\" xmlns:xlink=\"http://www.w3.org/1999/xlink\" width=\"100.0\" height=\"100.0\" viewBox=\"-9.415893480000001 -79.32043648000001 21.632217960000002 79.82076096000002\" preserveAspectRatio=\"xMinYMin meet\"><g transform=\"matrix(1,0,0,-1,0,-78.82011200000001)\"><g><circle cx=\"-6.459569\" cy=\"-76.364112\" r=\"2.3946228288\" stroke=\"#555555\" stroke-width=\"0.7982076096000001\" fill=\"#66cc99\" opacity=\"0.6\" /><circle cx=\"7.2\" cy=\"-25.1\" r=\"2.3946228288\" stroke=\"#555555\" stroke-width=\"0.7982076096000001\" fill=\"#66cc99\" opacity=\"0.6\" /><circle cx=\"9.26\" cy=\"-2.456\" r=\"2.3946228288\" stroke=\"#555555\" stroke-width=\"0.7982076096000001\" fill=\"#66cc99\" opacity=\"0.6\" /></g></g></svg>"
      ],
      "text/plain": [
       "<shapely.geometry.multipoint.MultiPoint at 0x2655e7c9460>"
      ]
     },
     "execution_count": 147,
     "metadata": {},
     "output_type": "execute_result"
    }
   ],
   "source": [
    "# Verificar puntos\n",
    "multi_point"
   ]
  },
  {
   "cell_type": "code",
   "execution_count": 148,
   "id": "9d649798-3f13-46f7-ab68-5adc39b17c4b",
   "metadata": {},
   "outputs": [
    {
     "data": {
      "image/svg+xml": [
       "<svg xmlns=\"http://www.w3.org/2000/svg\" xmlns:xlink=\"http://www.w3.org/1999/xlink\" width=\"100.0\" height=\"100.0\" viewBox=\"-9.415893480000001 -79.32043648000001 21.632217960000002 79.82076096000002\" preserveAspectRatio=\"xMinYMin meet\"><g transform=\"matrix(1,0,0,-1,0,-78.82011200000001)\"><path fill-rule=\"evenodd\" fill=\"#66cc99\" stroke=\"#555555\" stroke-width=\"1.5964152192000003\" opacity=\"0.6\" d=\"M -6.459569,-76.364112 L 9.26,-2.456 L 7.2,-25.1 L -6.459569,-76.364112 z\" /></g></svg>"
      ],
      "text/plain": [
       "<shapely.geometry.polygon.Polygon at 0x2655e5416d0>"
      ]
     },
     "execution_count": 148,
     "metadata": {},
     "output_type": "execute_result"
    }
   ],
   "source": [
    "# Convex Hull (crear un poligono convex)\n",
    "multi_point.convex_hull"
   ]
  },
  {
   "cell_type": "code",
   "execution_count": 149,
   "id": "ce9f9716-70b0-47a3-b18a-6d10072739b0",
   "metadata": {},
   "outputs": [
    {
     "data": {
      "image/svg+xml": [
       "<svg xmlns=\"http://www.w3.org/2000/svg\" xmlns:xlink=\"http://www.w3.org/1999/xlink\" width=\"100.0\" height=\"100.0\" viewBox=\"-9.415893480000001 -79.32043648000001 21.632217960000002 79.82076096000002\" preserveAspectRatio=\"xMinYMin meet\"><g transform=\"matrix(1,0,0,-1,0,-78.82011200000001)\"><path fill-rule=\"evenodd\" fill=\"#66cc99\" stroke=\"#555555\" stroke-width=\"1.5964152192000003\" opacity=\"0.6\" d=\"M -6.459569,-76.364112 L 9.26,-76.364112 L 9.26,-2.456 L -6.459569,-2.456 L -6.459569,-76.364112 z\" /></g></svg>"
      ],
      "text/plain": [
       "<shapely.geometry.polygon.Polygon at 0x2655e6da4c0>"
      ]
     },
     "execution_count": 149,
     "metadata": {},
     "output_type": "execute_result"
    }
   ],
   "source": [
    "# Envelope (Crea un rectangulo de los extremos): \n",
    "multi_point.envelope"
   ]
  },
  {
   "cell_type": "markdown",
   "id": "ea0e93e0-f244-4df8-a934-4d39a03e81f5",
   "metadata": {},
   "source": [
    "## Otros atributos útiles"
   ]
  },
  {
   "cell_type": "code",
   "execution_count": 155,
   "id": "3184a1ae-35df-4a86-b453-57d5958deeb3",
   "metadata": {},
   "outputs": [
    {
     "name": "stdout",
     "output_type": "stream",
     "text": [
      "Numero de objetos en MultiLine: 75.79024740423142\n",
      "Numero de objetos en MultiPolygon: 2080.0\n"
     ]
    }
   ],
   "source": [
    "print(\"Numero de objetos en MultiLine:\", multi_line.length)\n",
    "print(\"Numero de objetos en MultiPolygon:\", multi_poly.length)"
   ]
  },
  {
   "cell_type": "code",
   "execution_count": 168,
   "id": "f6d8b334-8ce7-4363-896f-fff6221c2abb",
   "metadata": {},
   "outputs": [
    {
     "name": "stdout",
     "output_type": "stream",
     "text": [
      "Area de todos los MultiPolygon: 39200.0\n",
      "Area del primer poligono: 6800.0\n",
      "Area del segundo poligono: 32400.0\n"
     ]
    }
   ],
   "source": [
    "# Determinar area:\n",
    "print(\"Area de todos los MultiPolygon:\", multi_poly.area)\n",
    "print(\"Area del primer poligono:\", multi_poly.geoms[0].area)\n",
    "print(\"Area del segundo poligono:\", multi_poly.geoms[1].area)"
   ]
  },
  {
   "cell_type": "code",
   "execution_count": 170,
   "id": "47af4420-9350-4948-82b6-7f35661817be",
   "metadata": {},
   "outputs": [
    {
     "data": {
      "image/svg+xml": [
       "<svg xmlns=\"http://www.w3.org/2000/svg\" xmlns:xlink=\"http://www.w3.org/1999/xlink\" width=\"194.39999999999998\" height=\"194.4\" viewBox=\"-187.2 -97.2 194.39999999999998 194.4\" preserveAspectRatio=\"xMinYMin meet\"><g transform=\"matrix(1,0,0,-1,0,0.0)\"><path fill-rule=\"evenodd\" fill=\"#66cc99\" stroke=\"#555555\" stroke-width=\"2.0\" opacity=\"0.6\" d=\"M -180.0,90.0 L -180.0,-90.0 L 0.0,-90.0 L 0.0,90.0 L -180.0,90.0 z M -170.0,80.0 L -170.0,-80.0 L -10.0,-80.0 L -10.0,80.0 L -170.0,80.0 z\" /></g></svg>"
      ],
      "text/plain": [
       "<shapely.geometry.polygon.Polygon at 0x2655f069b80>"
      ]
     },
     "execution_count": 170,
     "metadata": {},
     "output_type": "execute_result"
    }
   ],
   "source": [
    "multi_poly.geoms[0]"
   ]
  },
  {
   "cell_type": "code",
   "execution_count": null,
   "id": "5199e46a-dde9-4f54-9a23-460b9713b7e4",
   "metadata": {},
   "outputs": [],
   "source": []
  }
 ],
 "metadata": {
  "kernelspec": {
   "display_name": "Python 3 (ipykernel)",
   "language": "python",
   "name": "python3"
  },
  "language_info": {
   "codemirror_mode": {
    "name": "ipython",
    "version": 3
   },
   "file_extension": ".py",
   "mimetype": "text/x-python",
   "name": "python",
   "nbconvert_exporter": "python",
   "pygments_lexer": "ipython3",
   "version": "3.9.5"
  }
 },
 "nbformat": 4,
 "nbformat_minor": 5
}
