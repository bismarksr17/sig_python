{
 "cells": [
  {
   "cell_type": "markdown",
   "id": "679b6ff4-4129-41ea-809b-bc1eabfce090",
   "metadata": {},
   "source": [
    "# Operadores de decisión"
   ]
  },
  {
   "cell_type": "markdown",
   "id": "d00e5985-1961-440e-9996-38fe81c7c4fd",
   "metadata": {},
   "source": [
    "## `if`\n",
    "\n",
    "Cuando queremos comprobar si se cumple alguna condición, utilizamos el operador de decisión `if`. La sintaxis que debemos seguir es la siguiente:"
   ]
  },
  {
   "cell_type": "code",
   "execution_count": null,
   "id": "71db5a6f-af21-42de-988d-55890c95ef65",
   "metadata": {},
   "outputs": [],
   "source": [
    "if condicion:\n",
    "    consecuencia"
   ]
  },
  {
   "cell_type": "code",
   "execution_count": 5,
   "id": "43530ef3-58fe-4efa-bac0-f43688af7a5b",
   "metadata": {},
   "outputs": [
    {
     "name": "stdout",
     "output_type": "stream",
     "text": [
      "Es una temperatura adecuado 25 Grados\n"
     ]
    }
   ],
   "source": [
    "# Ejemplo 1\n",
    "Temp = 25\n",
    "if (Temp >= 16 and Temp <= 31):\n",
    "    print(\"Es una temperatura adecuado\", Temp, \"Grados\")"
   ]
  },
  {
   "cell_type": "code",
   "execution_count": 6,
   "id": "b17b0a1f-f5f9-4bfd-b752-bffd3a2f0203",
   "metadata": {},
   "outputs": [
    {
     "name": "stdout",
     "output_type": "stream",
     "text": [
      "Temperatura adecuado\n"
     ]
    }
   ],
   "source": [
    "# Ejemplo 2\n",
    "if (Temp >= 32 or Temp <= 25):\n",
    "    print(\"Temperatura adecuado\")"
   ]
  },
  {
   "cell_type": "markdown",
   "id": "1cbb0b70-4b6c-4d7d-9810-30c64ab0bde6",
   "metadata": {},
   "source": [
    "## `else`\n",
    "\n",
    "Ahora, nos podríamos preguntar qué le podríamos decir al usuario en el caso en que no satisfaga la condición. Ahí es donde entra en juego el operador de decisión `else`. Esta vez, la sintaxis a seguir es la siguiente:"
   ]
  },
  {
   "cell_type": "code",
   "execution_count": null,
   "id": "287d3d28-55e6-49d1-9ed3-8d6b930c599b",
   "metadata": {},
   "outputs": [],
   "source": [
    "if condición:\n",
    "    consecuencia_si_es_verdad\n",
    "else:\n",
    "    consecuencia_si_es_falsa"
   ]
  },
  {
   "cell_type": "code",
   "execution_count": 9,
   "id": "f3085109-802c-4c89-8f24-418d8676b67f",
   "metadata": {},
   "outputs": [
    {
     "name": "stdout",
     "output_type": "stream",
     "text": [
      "No es una temperatura adecuada\n"
     ]
    }
   ],
   "source": [
    "# Ejemplo 3\n",
    "Temp = 5\n",
    "if (Temp >= 16 and Temp <= 30):\n",
    "    print(\"Es una temperatura adecuado\")\n",
    "else:\n",
    "    print(\"No es una temperatura adecuada\")"
   ]
  },
  {
   "cell_type": "code",
   "execution_count": 11,
   "id": "80306c47-4e59-455e-a7dd-f95b8fa8bbec",
   "metadata": {},
   "outputs": [
    {
     "name": "stdout",
     "output_type": "stream",
     "text": [
      "Falso\n"
     ]
    }
   ],
   "source": [
    "# Ejmplo 4\n",
    "Temp = 10\n",
    "if (Temp >= 16):\n",
    "    print(\"Verdadero\")\n",
    "else:\n",
    "    print(\"Falso\")"
   ]
  },
  {
   "cell_type": "markdown",
   "id": "9091dce9-2a4f-4f74-be80-a7562dbe23d6",
   "metadata": {},
   "source": [
    "## `elif`\n",
    "\n",
    "Ahora, en vez de comprobar si se cumple o no una condición, nos podríamos preguntar cómo haríamos para comprobar más de una condición. podríamos hacerlo utilizando el operador de decisión `elif`.\n",
    "\n",
    "El operador `elif` funciona del siguiente modo: se empieza con un operador `if`; si la condición de este no se cumple, pasamos a la siguiente condición posible precedida de un `elif`; si esta tampoco se cumple, pasamos al siguiente `elif`; seguimos así hasta que o bien se satisface alguna condición y realizamos su consecuencia, o hasta llegar al `else`, que implica que no se ha satisfecho ninguna de las condiciones anteriores.\n",
    "\n",
    "La sintaxis del operador de decisión `elif` es la siguiente:"
   ]
  },
  {
   "cell_type": "code",
   "execution_count": null,
   "id": "9a46ae0f-a28b-4e71-b46a-19029087e971",
   "metadata": {},
   "outputs": [],
   "source": [
    "if condición_1:\n",
    "    consecuencia\n",
    "elif condición_2:\n",
    "    consecuencia\n",
    "elif condición_3:\n",
    "    consecuencia\n",
    "    . \n",
    "    . \n",
    "    . \n",
    "else:\n",
    "    consecuencia"
   ]
  },
  {
   "cell_type": "code",
   "execution_count": 14,
   "id": "88d7bc63-0654-4b01-b60b-08d18c9bd1ec",
   "metadata": {},
   "outputs": [
    {
     "name": "stdout",
     "output_type": "stream",
     "text": [
      "Temperatura no es adecuado para la especie\n"
     ]
    }
   ],
   "source": [
    "# Ejemplo 5\n",
    "Temp = 5\n",
    "\n",
    "if Temp > 40:\n",
    "    print(\"Temperatura muy alta\")\n",
    "elif (Temp >= 16 and Temp <= 40):\n",
    "    print(\"Temperatura adecuado para la especie\")\n",
    "else:\n",
    "    print(\"Temperatura no es adecuado para la especie\")"
   ]
  },
  {
   "cell_type": "code",
   "execution_count": 18,
   "id": "2b9487ce-395d-4b9b-abc5-8cd62d772fa4",
   "metadata": {
    "tags": []
   },
   "outputs": [
    {
     "name": "stdout",
     "output_type": "stream",
     "text": [
      "Temperatura alta mayor a 40 ,porque el valor es: 50\n"
     ]
    }
   ],
   "source": [
    "# Ejmplo 6\n",
    "Temp = 50\n",
    "if Temp >= 40:\n",
    "    print(\"Temperatura alta mayor a 40\", \",porque el valor es:\", Temp)\n",
    "elif Temp >= 30:\n",
    "    print(\"Temperatura alta mayor a 30\", \",porque el valor es:\", Temp)\n",
    "elif Temp >= 20:\n",
    "    print(\"Temperatura alta mayor a 20\", \",porque el valor es:\", Temp)\n",
    "elif Temp >=10:\n",
    "    print(\"Temperatura alta mayor a 10\", \",porque el valor es:\", Temp)\n",
    "else:\n",
    "    print(\"Temperatura menor a 10\", \",porque el valor es:\", Temp)"
   ]
  },
  {
   "cell_type": "markdown",
   "id": "224b95c4-9a76-4526-afaa-979168bec252",
   "metadata": {},
   "source": [
    "### Combinando condiciones\n",
    "\n",
    "\n",
    "También podemos usar `and` y `or`para combinar múltiples condiciones en valores booleanos.\n",
    "\n",
    "| Palabra clave   |Ejemplo   | Descripcion                          |\n",
    "| --------- |--------- |------------------------------------- |\n",
    "|  and      | a and b  | Verdadero si tanto a como b son verdaderos       |\n",
    "|  or       | a or b   | Verdadero si a o b es Verdadero        |"
   ]
  },
  {
   "cell_type": "code",
   "execution_count": 19,
   "id": "699af757-d08a-45e9-8849-21ec065ca91e",
   "metadata": {},
   "outputs": [
    {
     "name": "stdout",
     "output_type": "stream",
     "text": [
      "Al menos una parte no es cierta.\n"
     ]
    }
   ],
   "source": [
    "if (1 > 0) and (-1 > 0):\n",
    "    print(\"Ambas partes son ciertas\")\n",
    "else:\n",
    "    print(\"Al menos una parte no es cierta.\")"
   ]
  },
  {
   "cell_type": "code",
   "execution_count": 23,
   "id": "894f4e64-4140-4dcd-8d78-cc0538359357",
   "metadata": {},
   "outputs": [
    {
     "name": "stdout",
     "output_type": "stream",
     "text": [
      "Al menos una prueba es verdadera\n"
     ]
    }
   ],
   "source": [
    "if (1 < 0) or (-1 < 0):\n",
    "    print(\"Al menos una prueba es verdadera\")"
   ]
  },
  {
   "cell_type": "markdown",
   "id": "7c1ceeb0-4c1e-4482-8941-14eb099afdd8",
   "metadata": {},
   "source": [
    "### Combinación de bucles for y sentencias condicionales\n",
    "\n",
    "Finalmente, también podemos combinar bucles for y sentencias condicionales. Repitamos una lista de temperaturas y verifiquemos si la temperatura es alta o no:"
   ]
  },
  {
   "cell_type": "code",
   "execution_count": 24,
   "id": "0da8af22-9c52-4923-8878-ed929da1d9ae",
   "metadata": {},
   "outputs": [
    {
     "name": "stdout",
     "output_type": "stream",
     "text": [
      "0 ºC no esta caliente\n",
      "12 ºC no esta caliente\n",
      "17 ºC no esta caliente\n",
      "28 ºC esta caliente\n",
      "30 ºC esta caliente\n"
     ]
    }
   ],
   "source": [
    "temperatura = [0, 12, 17, 28, 30]\n",
    "\n",
    "# For each temperature, if the temperature is greater than 25, print \"..is hot\"\n",
    "for temperatura in temperatura:\n",
    "    if temperatura > 25:\n",
    "        print(temperatura, \"ºC esta caliente\")\n",
    "    else:\n",
    "        print(temperatura, \"ºC no esta caliente\")"
   ]
  },
  {
   "cell_type": "code",
   "execution_count": null,
   "id": "43b7310c-7175-41ad-b7ce-94982a435c84",
   "metadata": {},
   "outputs": [],
   "source": []
  }
 ],
 "metadata": {
  "kernelspec": {
   "display_name": "Python 3 (ipykernel)",
   "language": "python",
   "name": "python3"
  },
  "language_info": {
   "codemirror_mode": {
    "name": "ipython",
    "version": 3
   },
   "file_extension": ".py",
   "mimetype": "text/x-python",
   "name": "python",
   "nbconvert_exporter": "python",
   "pygments_lexer": "ipython3",
   "version": "3.9.5"
  }
 },
 "nbformat": 4,
 "nbformat_minor": 5
}
