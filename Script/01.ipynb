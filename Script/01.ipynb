{
 "cells": [
  {
   "cell_type": "code",
   "execution_count": 1,
   "id": "f152b2d1-c77e-48fa-bf81-de15eff13552",
   "metadata": {},
   "outputs": [],
   "source": [
    "import os"
   ]
  },
  {
   "cell_type": "code",
   "execution_count": 2,
   "id": "12d9782f-9b36-4ee8-9206-190e57c26fc3",
   "metadata": {},
   "outputs": [
    {
     "data": {
      "text/plain": [
       "'D:\\\\PYTHON\\\\sig_python\\\\Script'"
      ]
     },
     "execution_count": 2,
     "metadata": {},
     "output_type": "execute_result"
    }
   ],
   "source": [
    "os.getcwd()"
   ]
  },
  {
   "cell_type": "code",
   "execution_count": 33,
   "id": "9230bf11-437d-40a7-918e-2bfcee19a2e1",
   "metadata": {},
   "outputs": [],
   "source": [
    "os.chdir(r'D:\\OneDrive - Ingenio Azucarero Guabira S.A\\CAPACITACIONES\\SIG con Python\\02_SIG_Python\\Datos_Espaciales')"
   ]
  },
  {
   "cell_type": "code",
   "execution_count": 8,
   "id": "770e6647-7039-4654-adf7-f931d26d9b5c",
   "metadata": {},
   "outputs": [
    {
     "data": {
      "text/plain": [
       "['Excel', 'Formato', 'Geoprocesamiento', 'PRACTICA']"
      ]
     },
     "execution_count": 8,
     "metadata": {},
     "output_type": "execute_result"
    }
   ],
   "source": [
    "os.listdir()"
   ]
  },
  {
   "cell_type": "code",
   "execution_count": 9,
   "id": "88737076-e38a-4882-95d1-94344f003515",
   "metadata": {},
   "outputs": [
    {
     "data": {
      "text/plain": [
       "'D:\\\\OneDrive - Ingenio Azucarero Guabira S.A\\\\CAPACITACIONES\\\\SIG con Python\\\\02_SIG_Python\\\\Datos_Espaciales'"
      ]
     },
     "execution_count": 9,
     "metadata": {},
     "output_type": "execute_result"
    }
   ],
   "source": [
    "os.getcwd()"
   ]
  },
  {
   "cell_type": "code",
   "execution_count": 36,
   "id": "257bf980-523a-40e8-a543-6200bc41fedb",
   "metadata": {},
   "outputs": [],
   "source": [
    "new_dir = os.path.normpath((os.getcwd() + '/PRACTICA'))"
   ]
  },
  {
   "cell_type": "code",
   "execution_count": 28,
   "id": "a9d87f53-2fe7-4007-88a3-76df2894a36f",
   "metadata": {},
   "outputs": [
    {
     "data": {
      "text/plain": [
       "<function nt.listdir(path=None)>"
      ]
     },
     "execution_count": 31,
     "metadata": {},
     "output_type": "execute_result"
    }
   ],
   "source": [
    "new_dir"
   ]
  },
  {
   "cell_type": "code",
   "execution_count": 26,
   "id": "5ca0ec49-ebca-46f2-b588-da32e1a354b0",
   "metadata": {},
   "outputs": [],
   "source": [
    "os.makedirs(new_dir)"
   ]
  },
  {
   "cell_type": "code",
   "execution_count": 37,
   "id": "86ed4ff8-a18e-4ccd-8a01-c3ab2495d976",
   "metadata": {},
   "outputs": [
    {
     "data": {
      "text/plain": [
       "['new_dir',\n",
       " 'Predio.cpg',\n",
       " 'Predio.dbf',\n",
       " 'Predio.prj',\n",
       " 'Predio.sbn',\n",
       " 'Predio.sbx',\n",
       " 'Predio.shp',\n",
       " 'Predio.shx']"
      ]
     },
     "execution_count": 37,
     "metadata": {},
     "output_type": "execute_result"
    }
   ],
   "source": [
    "os.chdir(new_dir)\n",
    "os.listdir()"
   ]
  },
  {
   "cell_type": "code",
   "execution_count": 38,
   "id": "f474906c-fa19-4ef9-98a1-8e602b4b90cb",
   "metadata": {},
   "outputs": [],
   "source": [
    "import glob"
   ]
  },
  {
   "cell_type": "code",
   "execution_count": 40,
   "id": "4ff712d2-cc6a-4d1e-97c5-7d58d825afef",
   "metadata": {},
   "outputs": [],
   "source": [
    "lista = glob.glob(r'D:\\OneDrive - Ingenio Azucarero Guabira S.A\\CAPACITACIONES\\SIG con Python\\02_SIG_Python\\Datos_Espaciales\\Geoprocesamiento\\*.shp')"
   ]
  },
  {
   "cell_type": "code",
   "execution_count": 41,
   "id": "64fc2195-4ba5-449e-8a55-f87125d611d2",
   "metadata": {},
   "outputs": [
    {
     "data": {
      "text/plain": [
       "['D:\\\\OneDrive - Ingenio Azucarero Guabira S.A\\\\CAPACITACIONES\\\\SIG con Python\\\\02_SIG_Python\\\\Datos_Espaciales\\\\Geoprocesamiento\\\\LINEA.shp',\n",
       " 'D:\\\\OneDrive - Ingenio Azucarero Guabira S.A\\\\CAPACITACIONES\\\\SIG con Python\\\\02_SIG_Python\\\\Datos_Espaciales\\\\Geoprocesamiento\\\\POLIGONO1.shp',\n",
       " 'D:\\\\OneDrive - Ingenio Azucarero Guabira S.A\\\\CAPACITACIONES\\\\SIG con Python\\\\02_SIG_Python\\\\Datos_Espaciales\\\\Geoprocesamiento\\\\POLIGONO2.shp',\n",
       " 'D:\\\\OneDrive - Ingenio Azucarero Guabira S.A\\\\CAPACITACIONES\\\\SIG con Python\\\\02_SIG_Python\\\\Datos_Espaciales\\\\Geoprocesamiento\\\\Predios.shp',\n",
       " 'D:\\\\OneDrive - Ingenio Azucarero Guabira S.A\\\\CAPACITACIONES\\\\SIG con Python\\\\02_SIG_Python\\\\Datos_Espaciales\\\\Geoprocesamiento\\\\Puntos.shp']"
      ]
     },
     "execution_count": 41,
     "metadata": {},
     "output_type": "execute_result"
    }
   ],
   "source": [
    "lista"
   ]
  },
  {
   "cell_type": "code",
   "execution_count": null,
   "id": "36e897b3-44d2-487c-a5e2-dabbb429907f",
   "metadata": {},
   "outputs": [],
   "source": []
  },
  {
   "cell_type": "code",
   "execution_count": null,
   "id": "67fc6933-d6fe-436e-9434-aed4b5d8df35",
   "metadata": {},
   "outputs": [],
   "source": []
  }
 ],
 "metadata": {
  "kernelspec": {
   "display_name": "Python 3 (ipykernel)",
   "language": "python",
   "name": "python3"
  },
  "language_info": {
   "codemirror_mode": {
    "name": "ipython",
    "version": 3
   },
   "file_extension": ".py",
   "mimetype": "text/x-python",
   "name": "python",
   "nbconvert_exporter": "python",
   "pygments_lexer": "ipython3",
   "version": "3.9.5"
  }
 },
 "nbformat": 4,
 "nbformat_minor": 5
}
