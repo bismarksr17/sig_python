{
 "cells": [
  {
   "cell_type": "markdown",
   "id": "de5de894-4f22-4c84-ac68-c13cb650be9a",
   "metadata": {},
   "source": [
    "# Introducción a Geopandas"
   ]
  },
  {
   "cell_type": "markdown",
   "id": "8604178f-cd45-414e-96eb-08c97f2078e5",
   "metadata": {},
   "source": [
    "es un proyecto de código abierto para facilitar el trabajo con datos geoespaciales en python. GeoPandas amplía los tipos de datos utilizados por pandas para permitir operaciones espaciales en tipos geométricos. Las operaciones geométricas son realizadas por shapely. Geopandas depende además de fiona para el acceso a los archivos y de matplotlib para el trazado.\n",
    "\n",
    "Hay varios formatos de datos GIS diferentes disponibles, como Shapefile, GeoJSON, KML y GPKG. Geopandas es capaz de leer datos de todos estos formatos (y muchos más)."
   ]
  },
  {
   "cell_type": "markdown",
   "id": "f92c21a8-07a6-47ea-8e95-3aefd1711bac",
   "metadata": {},
   "source": [
    "El objetivo de GeoPandas es facilitar el trabajo con datos geoespaciales en python. Combina las capacidades de pandas y shapely, proporcionando operaciones geoespaciales en pandas y una interfaz de alto nivel para múltiples geometrías para shapely. GeoPandas le permite realizar fácilmente operaciones en python que de otro modo requerirían una base de datos espacial como PostGIS."
   ]
  },
  {
   "cell_type": "code",
   "execution_count": 26,
   "id": "8b3abc4e-6632-4ddd-ad09-c2bf056c07eb",
   "metadata": {},
   "outputs": [],
   "source": [
    "import geopandas as gpd"
   ]
  },
  {
   "cell_type": "code",
   "execution_count": 27,
   "id": "8eb99e12-e747-493c-8577-e8ff133b7e4a",
   "metadata": {},
   "outputs": [],
   "source": [
    "newdata = gpd.GeoDataFrame()"
   ]
  },
  {
   "cell_type": "code",
   "execution_count": 28,
   "id": "2fc49db6-e243-4eaf-a91f-ab1f321b7a19",
   "metadata": {},
   "outputs": [
    {
     "data": {
      "text/plain": [
       "geopandas.geodataframe.GeoDataFrame"
      ]
     },
     "execution_count": 28,
     "metadata": {},
     "output_type": "execute_result"
    }
   ],
   "source": [
    "type(newdata)"
   ]
  },
  {
   "cell_type": "code",
   "execution_count": 29,
   "id": "e34ba26a-1b36-418f-87d1-add72b6f1990",
   "metadata": {},
   "outputs": [
    {
     "data": {
      "text/html": [
       "<div>\n",
       "<style scoped>\n",
       "    .dataframe tbody tr th:only-of-type {\n",
       "        vertical-align: middle;\n",
       "    }\n",
       "\n",
       "    .dataframe tbody tr th {\n",
       "        vertical-align: top;\n",
       "    }\n",
       "\n",
       "    .dataframe thead th {\n",
       "        text-align: right;\n",
       "    }\n",
       "</style>\n",
       "<table border=\"1\" class=\"dataframe\">\n",
       "  <thead>\n",
       "    <tr style=\"text-align: right;\">\n",
       "      <th></th>\n",
       "    </tr>\n",
       "  </thead>\n",
       "  <tbody>\n",
       "  </tbody>\n",
       "</table>\n",
       "</div>"
      ],
      "text/plain": [
       "Empty GeoDataFrame\n",
       "Columns: []\n",
       "Index: []"
      ]
     },
     "execution_count": 29,
     "metadata": {},
     "output_type": "execute_result"
    }
   ],
   "source": [
    "newdata"
   ]
  },
  {
   "cell_type": "code",
   "execution_count": 30,
   "id": "157f9040-10e1-480d-a48c-b14ebe9ee758",
   "metadata": {},
   "outputs": [],
   "source": [
    "# crear una geometria dentro geodataframe\n",
    "newdata[\"geometry\"] = None"
   ]
  },
  {
   "cell_type": "code",
   "execution_count": 31,
   "id": "0a000edb-d104-4c21-8481-39c9b00c3ac7",
   "metadata": {},
   "outputs": [
    {
     "data": {
      "text/html": [
       "<div>\n",
       "<style scoped>\n",
       "    .dataframe tbody tr th:only-of-type {\n",
       "        vertical-align: middle;\n",
       "    }\n",
       "\n",
       "    .dataframe tbody tr th {\n",
       "        vertical-align: top;\n",
       "    }\n",
       "\n",
       "    .dataframe thead th {\n",
       "        text-align: right;\n",
       "    }\n",
       "</style>\n",
       "<table border=\"1\" class=\"dataframe\">\n",
       "  <thead>\n",
       "    <tr style=\"text-align: right;\">\n",
       "      <th></th>\n",
       "      <th>geometry</th>\n",
       "    </tr>\n",
       "  </thead>\n",
       "  <tbody>\n",
       "  </tbody>\n",
       "</table>\n",
       "</div>"
      ],
      "text/plain": [
       "Empty GeoDataFrame\n",
       "Columns: [geometry]\n",
       "Index: []"
      ]
     },
     "execution_count": 31,
     "metadata": {},
     "output_type": "execute_result"
    }
   ],
   "source": [
    "newdata"
   ]
  },
  {
   "cell_type": "code",
   "execution_count": 32,
   "id": "e82af631-e899-466b-94f6-a3a14256b6b9",
   "metadata": {},
   "outputs": [],
   "source": [
    "# Importar shapely\n",
    "from shapely.geometry import Polygon"
   ]
  },
  {
   "cell_type": "code",
   "execution_count": 33,
   "id": "ef621041-45e7-4af8-a6aa-49661c7849f9",
   "metadata": {},
   "outputs": [],
   "source": [
    "# Coordenadas en grados decimales\n",
    "coordinates = [(-75.037610,  -8.300693),\n",
    "               (-75.023229,  -8.298556),\n",
    "               (-75.022900,  -8.308375),\n",
    "               (-75.037684,  -8.308330),]"
   ]
  },
  {
   "cell_type": "code",
   "execution_count": 34,
   "id": "1cde05e3-a04b-4b71-9639-6175c554526d",
   "metadata": {},
   "outputs": [
    {
     "data": {
      "text/plain": [
       "list"
      ]
     },
     "execution_count": 34,
     "metadata": {},
     "output_type": "execute_result"
    }
   ],
   "source": [
    "type(coordinates)"
   ]
  },
  {
   "cell_type": "code",
   "execution_count": 35,
   "id": "33764725-a7e5-404e-8782-6a5fbc519e19",
   "metadata": {},
   "outputs": [],
   "source": [
    "# Crear poligono mediante shapely de una lista\n",
    "poly = Polygon(coordinates)"
   ]
  },
  {
   "cell_type": "code",
   "execution_count": 36,
   "id": "1838c52f-03fb-4b4e-88ff-3e432c254ec1",
   "metadata": {},
   "outputs": [
    {
     "name": "stdout",
     "output_type": "stream",
     "text": [
      "POLYGON ((-75.03761 -8.300693, -75.023229 -8.298556, -75.0229 -8.308375, -75.037684 -8.30833, -75.03761 -8.300693))\n"
     ]
    }
   ],
   "source": [
    "# Check el poligono\n",
    "print(poly)"
   ]
  },
  {
   "cell_type": "code",
   "execution_count": 37,
   "id": "79f8eca4-a9f0-4afe-8916-d02aadd5f9b9",
   "metadata": {},
   "outputs": [
    {
     "data": {
      "image/svg+xml": [
       "<svg xmlns=\"http://www.w3.org/2000/svg\" xmlns:xlink=\"http://www.w3.org/1999/xlink\" width=\"100.0\" height=\"100.0\" viewBox=\"-75.03827536 -8.30896636 0.01596671999999444 0.011001719999999438\" preserveAspectRatio=\"xMinYMin meet\"><g transform=\"matrix(1,0,0,-1,0,-16.606931)\"><path fill-rule=\"evenodd\" fill=\"#66cc99\" stroke=\"#555555\" stroke-width=\"0.0003193343999998888\" opacity=\"0.6\" d=\"M -75.03761,-8.300693 L -75.023229,-8.298556 L -75.0229,-8.308375 L -75.037684,-8.30833 L -75.03761,-8.300693 z\" /></g></svg>"
      ],
      "text/plain": [
       "<shapely.geometry.polygon.Polygon at 0x22b068a0850>"
      ]
     },
     "execution_count": 37,
     "metadata": {},
     "output_type": "execute_result"
    }
   ],
   "source": [
    "poly"
   ]
  },
  {
   "cell_type": "code",
   "execution_count": 38,
   "id": "b775325d-4a09-406c-adac-fb8e67c2f2f4",
   "metadata": {},
   "outputs": [],
   "source": [
    "# Insertar el poligono en la geometria columna 0\n",
    "newdata.at[0, \"geometry\"] = poly"
   ]
  },
  {
   "cell_type": "code",
   "execution_count": 39,
   "id": "558bc2a1-cdfa-4bd1-a989-7ff4c6a9b194",
   "metadata": {},
   "outputs": [
    {
     "data": {
      "text/html": [
       "<div>\n",
       "<style scoped>\n",
       "    .dataframe tbody tr th:only-of-type {\n",
       "        vertical-align: middle;\n",
       "    }\n",
       "\n",
       "    .dataframe tbody tr th {\n",
       "        vertical-align: top;\n",
       "    }\n",
       "\n",
       "    .dataframe thead th {\n",
       "        text-align: right;\n",
       "    }\n",
       "</style>\n",
       "<table border=\"1\" class=\"dataframe\">\n",
       "  <thead>\n",
       "    <tr style=\"text-align: right;\">\n",
       "      <th></th>\n",
       "      <th>geometry</th>\n",
       "    </tr>\n",
       "  </thead>\n",
       "  <tbody>\n",
       "    <tr>\n",
       "      <th>0</th>\n",
       "      <td>POLYGON ((-75.03761 -8.30069, -75.02323 -8.298...</td>\n",
       "    </tr>\n",
       "  </tbody>\n",
       "</table>\n",
       "</div>"
      ],
      "text/plain": [
       "                                            geometry\n",
       "0  POLYGON ((-75.03761 -8.30069, -75.02323 -8.298..."
      ]
     },
     "execution_count": 39,
     "metadata": {},
     "output_type": "execute_result"
    }
   ],
   "source": [
    "newdata"
   ]
  },
  {
   "cell_type": "markdown",
   "id": "fdef6374-c855-434c-b5d4-9f9814ac6c35",
   "metadata": {},
   "source": [
    "## Crear un nueva columna y insertar dato"
   ]
  },
  {
   "cell_type": "code",
   "execution_count": 40,
   "id": "d47230bb-b9f3-48d3-b9ed-0ab11599e49f",
   "metadata": {},
   "outputs": [
    {
     "name": "stdout",
     "output_type": "stream",
     "text": [
      "                                            geometry     Nombre\n",
      "0  POLYGON ((-75.03761 -8.30069, -75.02323 -8.298...  GEOMATICA\n"
     ]
    }
   ],
   "source": [
    "newdata.at[0, \"Nombre\"] = \"GEOMATICA\"\n",
    "\n",
    "# Let's check the data\n",
    "print(newdata)"
   ]
  },
  {
   "cell_type": "markdown",
   "id": "749988e5-27c7-4dd5-93c9-50497bb51e7c",
   "metadata": {},
   "source": [
    "## Verificación de la proyeccion"
   ]
  },
  {
   "cell_type": "code",
   "execution_count": 41,
   "id": "ba2df9ed-239b-469d-a306-ca9f0db6af09",
   "metadata": {},
   "outputs": [
    {
     "name": "stdout",
     "output_type": "stream",
     "text": [
      "None\n"
     ]
    }
   ],
   "source": [
    "print(newdata.crs)"
   ]
  },
  {
   "cell_type": "code",
   "execution_count": 42,
   "id": "5ddfc23e-162e-45d2-b55d-8c2ec0b94f07",
   "metadata": {},
   "outputs": [],
   "source": [
    "newdata = gpd.GeoDataFrame.set_crs(newdata, crs=4326)"
   ]
  },
  {
   "cell_type": "code",
   "execution_count": 43,
   "id": "72d345e8-dd1c-4309-8b3c-5f0aba3601d5",
   "metadata": {},
   "outputs": [
    {
     "data": {
      "text/plain": [
       "'WGS 84'"
      ]
     },
     "execution_count": 43,
     "metadata": {},
     "output_type": "execute_result"
    }
   ],
   "source": [
    "newdata.crs.name"
   ]
  },
  {
   "cell_type": "code",
   "execution_count": 44,
   "id": "55eca243-de00-401c-bacd-473777562b6b",
   "metadata": {},
   "outputs": [
    {
     "data": {
      "text/plain": [
       "<AxesSubplot: >"
      ]
     },
     "execution_count": 44,
     "metadata": {},
     "output_type": "execute_result"
    },
    {
     "data": {
      "image/png": "[encoded data removed]",
      "text/plain": [
       "<Figure size 640x480 with 1 Axes>"
      ]
     },
     "metadata": {},
     "output_type": "display_data"
    }
   ],
   "source": [
    "newdata.plot()"
   ]
  },
  {
   "cell_type": "markdown",
   "id": "dda95dfa-16ba-4138-9ea8-727c71dbc2e2",
   "metadata": {},
   "source": [
    "## Ruta a exportar shapefile"
   ]
  },
  {
   "cell_type": "code",
   "execution_count": 45,
   "id": "60ae4d73-c5c9-49f7-ab05-7b5726246fe1",
   "metadata": {},
   "outputs": [],
   "source": [
    "import os"
   ]
  },
  {
   "cell_type": "code",
   "execution_count": 46,
   "id": "82ee482d-9563-426f-b280-a8663a34e5ec",
   "metadata": {},
   "outputs": [
    {
     "data": {
      "text/plain": [
       "'E:\\\\Python\\\\02_SIG_Python\\\\Resultado'"
      ]
     },
     "execution_count": 46,
     "metadata": {},
     "output_type": "execute_result"
    }
   ],
   "source": [
    "os.getcwd()"
   ]
  },
  {
   "cell_type": "code",
   "execution_count": 47,
   "id": "c304f9f2-ee60-4a1a-9f32-259394dcc3e5",
   "metadata": {},
   "outputs": [
    {
     "data": {
      "text/plain": [
       "'E:\\\\Python\\\\02_SIG_Python\\\\Resultado'"
      ]
     },
     "execution_count": 47,
     "metadata": {},
     "output_type": "execute_result"
    }
   ],
   "source": [
    "ruta_archivos = r\"E:\\Python\\02_SIG_Python\\Resultado\"\n",
    "os.chdir(ruta_archivos) # Cambiar ruta trabajo\n",
    "os.getcwd() # Consultar ruta trabajo"
   ]
  },
  {
   "cell_type": "code",
   "execution_count": 49,
   "id": "230986db-8413-429d-8bc0-283da04d874c",
   "metadata": {},
   "outputs": [],
   "source": [
    "# Determine the output path for the Shapefile\n",
    "outfp = \"Poligono_creado.shp\"\n",
    "\n",
    "# Exportar el dato shapefile\n",
    "newdata.to_file(outfp)"
   ]
  },
  {
   "cell_type": "code",
   "execution_count": null,
   "id": "ae9c1452-314d-4bac-8af0-3188ae048bbc",
   "metadata": {},
   "outputs": [],
   "source": []
  }
 ],
 "metadata": {
  "kernelspec": {
   "display_name": "Python 3 (ipykernel)",
   "language": "python",
   "name": "python3"
  },
  "language_info": {
   "codemirror_mode": {
    "name": "ipython",
    "version": 3
   },
   "file_extension": ".py",
   "mimetype": "text/x-python",
   "name": "python",
   "nbconvert_exporter": "python",
   "pygments_lexer": "ipython3",
   "version": "3.9.5"
  }
 },
 "nbformat": 4,
 "nbformat_minor": 5
}
