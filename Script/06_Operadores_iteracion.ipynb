{
 "cells": [
  {
   "cell_type": "markdown",
   "id": "ce79c12d-a186-4a0f-a6f8-8fb9ee2e613e",
   "metadata": {},
   "source": [
    "# Operadores de iteración"
   ]
  },
  {
   "cell_type": "markdown",
   "id": "d1c4f387-7aeb-4460-a26a-93ffcca8ed3e",
   "metadata": {},
   "source": [
    "## El bucle `while`\n",
    "\n",
    "La idea del bucle `while` es: mientras la condición sea cierta, seguimos realizando las líneas del interior del bucle. Una vez la condición deja de ser verdadera, salimos del bucle.\n",
    "\n",
    "Su estructura es la siguiente"
   ]
  },
  {
   "cell_type": "code",
   "execution_count": null,
   "id": "7e3a2ab7-d3cc-4106-903b-531e39311a67",
   "metadata": {},
   "outputs": [],
   "source": [
    "inicialización de la variable de la condición\n",
    "while condición verdadera:\n",
    "    instrucción 1\n",
    "    instrucción 2\n",
    "    .\n",
    "    .\n",
    "    instrucción n"
   ]
  },
  {
   "cell_type": "code",
   "execution_count": 1,
   "id": "368914e8-d795-4335-85be-833a62e956e1",
   "metadata": {},
   "outputs": [
    {
     "name": "stdout",
     "output_type": "stream",
     "text": [
      "Valores:  2\n",
      "Valores:  5\n",
      "Valores:  8\n",
      "Valores:  11\n",
      "Valores:  14\n",
      "Valores:  17\n",
      "Valores:  20\n",
      "Valores:  23\n",
      "Valores:  26\n",
      "Valores:  29\n"
     ]
    }
   ],
   "source": [
    "# Ejemplo 1\n",
    "i = 2\n",
    "while i <= 30: # Queremos que i como mucho valga 10\n",
    "    print(\"Valores: \",i) # Imprimimos los números\n",
    "    i += 3 # Incrementamos una unidad en cada iteración"
   ]
  },
  {
   "cell_type": "markdown",
   "id": "683413a4-e21d-4356-83f0-6ceb9af34f5a",
   "metadata": {},
   "source": [
    "### Combinación `while ... else`\n",
    "\n",
    "Podemos combinar un bucle `while` con el operador `else` para ejecutar un bloque de código una vez la condición del `while` haya dejado de ser verdadera."
   ]
  },
  {
   "cell_type": "code",
   "execution_count": 4,
   "id": "9d15cbbc-68ab-4905-aefd-e6ba5b7447cb",
   "metadata": {},
   "outputs": [
    {
     "name": "stdout",
     "output_type": "stream",
     "text": [
      "Iniciar el proceso\n",
      "Valor: 10\n",
      "Valor: 9\n",
      "Valor: 8\n",
      "Valor: 7\n",
      "Valor: 6\n",
      "Valor: 5\n",
      "Valor: 4\n",
      "Valor: 3\n",
      "Valor: 2\n",
      "Valor: 1\n",
      "Fin del proceso\n"
     ]
    }
   ],
   "source": [
    "# Ejmeplo 2\n",
    "i = 10\n",
    "print(\"Iniciar el proceso\")\n",
    "while i > 0:\n",
    "    print(\"Valor:\",i)\n",
    "    i -= 1\n",
    "else:\n",
    "    print(\"Fin del proceso\")"
   ]
  },
  {
   "cell_type": "markdown",
   "id": "1b9b5149-00ca-4b6e-b2ee-d84656e276f5",
   "metadata": {},
   "source": [
    "## Bucle `for`\n",
    "\n",
    "La idea del bucle `for` es: para todos los elementos de la clave, seguimos realizando las líneas del bucle. Una vez nos quedemos sin elementos, salimos del bucle.\n",
    "\n",
    "Su estructura es la siguiente"
   ]
  },
  {
   "cell_type": "code",
   "execution_count": null,
   "id": "4984b7f3-64cc-4308-b0f2-47972867622e",
   "metadata": {},
   "outputs": [],
   "source": [
    "for clave:\n",
    "    instrucción 1\n",
    "    instrucción 2\n",
    "    .\n",
    "    .\n",
    "    .\n",
    "    instrucción n"
   ]
  },
  {
   "cell_type": "code",
   "execution_count": 5,
   "id": "29c64f66-3364-4fe3-b0db-a8009c5a159b",
   "metadata": {},
   "outputs": [
    {
     "name": "stdout",
     "output_type": "stream",
     "text": [
      "G\n",
      "E\n",
      "O\n",
      "M\n",
      "A\n",
      "T\n",
      "I\n",
      "C\n",
      "A\n"
     ]
    }
   ],
   "source": [
    "s = \"GEOMATICA\"\n",
    "for c in s:\n",
    "    print(c)"
   ]
  },
  {
   "cell_type": "code",
   "execution_count": 6,
   "id": "412df8d5-cf3f-447c-a216-3086a96ba0ee",
   "metadata": {},
   "outputs": [],
   "source": [
    "Nombres = [\"Nino\",\"Frank\",\"July\",\"Moddy\",\n",
    "          \"Cesar\",\"Ghiro\",\"Jesica\"]"
   ]
  },
  {
   "cell_type": "code",
   "execution_count": 7,
   "id": "b5c914e7-fcb5-476d-9b71-3f0723c0e808",
   "metadata": {},
   "outputs": [
    {
     "name": "stdout",
     "output_type": "stream",
     "text": [
      "Nombre es: Nino\n",
      "Nombre es: Frank\n",
      "Nombre es: July\n",
      "Nombre es: Moddy\n",
      "Nombre es: Cesar\n",
      "Nombre es: Ghiro\n",
      "Nombre es: Jesica\n"
     ]
    }
   ],
   "source": [
    "for name in Nombres:\n",
    "    print(\"Nombre es:\",name)"
   ]
  },
  {
   "cell_type": "markdown",
   "id": "0a7f42bf-7b80-494c-b9c9-6ff0d63007d2",
   "metadata": {},
   "source": [
    "### Función `range()`\n",
    "\n",
    "La función `range()` tiene 3 posibles argumentos: \n",
    " \n",
    " - `start` \n",
    " - `stop` \n",
    " - `step`\n",
    "\n",
    "Veremos el uso de la función `range()` con un ejemplo. Recuperemos el ejemplo en que queríamos imprimir los 10 primeros números naturales:"
   ]
  },
  {
   "cell_type": "code",
   "execution_count": 11,
   "id": "a1d7e3ae-b012-410b-ac37-aff87f0b6228",
   "metadata": {},
   "outputs": [
    {
     "name": "stdout",
     "output_type": "stream",
     "text": [
      "Valores: -100\n",
      "Valores: -95\n",
      "Valores: -90\n",
      "Valores: -85\n",
      "Valores: -80\n",
      "Valores: -75\n",
      "Valores: -70\n",
      "Valores: -65\n",
      "Valores: -60\n",
      "Valores: -55\n",
      "Valores: -50\n",
      "Valores: -45\n",
      "Valores: -40\n",
      "Valores: -35\n",
      "Valores: -30\n",
      "Valores: -25\n",
      "Valores: -20\n",
      "Valores: -15\n",
      "Valores: -10\n",
      "Valores: -5\n",
      "Valores: 0\n"
     ]
    }
   ],
   "source": [
    "for i in range(-100, 1, 5):\n",
    "    print(\"Valores:\",i)"
   ]
  },
  {
   "cell_type": "code",
   "execution_count": 13,
   "id": "748a167e-7786-499f-a1f0-55d1da028fe6",
   "metadata": {},
   "outputs": [
    {
     "name": "stdout",
     "output_type": "stream",
     "text": [
      "0\n",
      "1\n",
      "2\n",
      "3\n",
      "4\n",
      "5\n",
      "6\n",
      "7\n",
      "8\n",
      "9\n",
      "10\n"
     ]
    }
   ],
   "source": [
    "for x in range(11):\n",
    "    print(x)"
   ]
  },
  {
   "cell_type": "code",
   "execution_count": 15,
   "id": "c7dee9e4-d07d-49f9-9511-0137e7c25adf",
   "metadata": {},
   "outputs": [
    {
     "name": "stdout",
     "output_type": "stream",
     "text": [
      "10\n",
      "8\n",
      "6\n",
      "4\n",
      "2\n",
      "0\n"
     ]
    }
   ],
   "source": [
    "for i in range(10, -1, -2):\n",
    "    print(i)"
   ]
  },
  {
   "cell_type": "markdown",
   "id": "db848b89-599b-4b25-904d-448fdda2afbd",
   "metadata": {},
   "source": [
    "## Bucles anidados\n",
    "\n",
    "Se trata de bucles dentro de bucles"
   ]
  },
  {
   "cell_type": "code",
   "execution_count": 20,
   "id": "31fbe5b1-0dc8-474a-a824-5375f0bbfa0c",
   "metadata": {},
   "outputs": [
    {
     "name": "stdout",
     "output_type": "stream",
     "text": [
      "\n",
      "Tabla de multiplicar del 10\n",
      "Tabla de multiplicar del 10\n",
      "Tabla de multiplicar del 10\n"
     ]
    }
   ],
   "source": [
    "a = 10\n",
    "print(\"\\nTabla de multiplicar del {}\".format(a))\n",
    "print(\"Tabla de multiplicar del\", a)\n",
    "print(\"Tabla de multiplicar del \" + str(a))"
   ]
  },
  {
   "cell_type": "code",
   "execution_count": 21,
   "id": "3924f03b-836d-4921-8957-820d38508545",
   "metadata": {},
   "outputs": [
    {
     "name": "stdout",
     "output_type": "stream",
     "text": [
      "2 x 5 = 10\n",
      "2 x 5 = 10\n",
      "2 x 5 = 10\n"
     ]
    }
   ],
   "source": [
    "a = 2\n",
    "b = 5\n",
    "print(\"{} x {} = {}\".format(a, b, a *b))\n",
    "print(a,\"x\",b,\"=\",a*b)\n",
    "print(str(a)+\" x \"+str(b)+\" = \"+str(a*b))"
   ]
  },
  {
   "cell_type": "code",
   "execution_count": 25,
   "id": "0f3bbf7e-cee0-4f7f-be9f-2b444116d71f",
   "metadata": {},
   "outputs": [
    {
     "name": "stdout",
     "output_type": "stream",
     "text": [
      "\n",
      "Tabla de multiplicar del 2\n",
      "2 x 1 = 2\n",
      "2 x 2 = 4\n",
      "2 x 3 = 6\n",
      "2 x 4 = 8\n",
      "2 x 5 = 10\n",
      "2 x 6 = 12\n",
      "2 x 7 = 14\n",
      "2 x 8 = 16\n",
      "2 x 9 = 18\n",
      "2 x 10 = 20\n",
      "\n",
      "Tabla de multiplicar del 3\n",
      "3 x 1 = 3\n",
      "3 x 2 = 6\n",
      "3 x 3 = 9\n",
      "3 x 4 = 12\n",
      "3 x 5 = 15\n",
      "3 x 6 = 18\n",
      "3 x 7 = 21\n",
      "3 x 8 = 24\n",
      "3 x 9 = 27\n",
      "3 x 10 = 30\n",
      "\n",
      "Tabla de multiplicar del 4\n",
      "4 x 1 = 4\n",
      "4 x 2 = 8\n",
      "4 x 3 = 12\n",
      "4 x 4 = 16\n",
      "4 x 5 = 20\n",
      "4 x 6 = 24\n",
      "4 x 7 = 28\n",
      "4 x 8 = 32\n",
      "4 x 9 = 36\n",
      "4 x 10 = 40\n",
      "\n",
      "Tabla de multiplicar del 5\n",
      "5 x 1 = 5\n",
      "5 x 2 = 10\n",
      "5 x 3 = 15\n",
      "5 x 4 = 20\n",
      "5 x 5 = 25\n",
      "5 x 6 = 30\n",
      "5 x 7 = 35\n",
      "5 x 8 = 40\n",
      "5 x 9 = 45\n",
      "5 x 10 = 50\n",
      "\n",
      "Tabla de multiplicar del 6\n",
      "6 x 1 = 6\n",
      "6 x 2 = 12\n",
      "6 x 3 = 18\n",
      "6 x 4 = 24\n",
      "6 x 5 = 30\n",
      "6 x 6 = 36\n",
      "6 x 7 = 42\n",
      "6 x 8 = 48\n",
      "6 x 9 = 54\n",
      "6 x 10 = 60\n",
      "\n",
      "Tabla de multiplicar del 7\n",
      "7 x 1 = 7\n",
      "7 x 2 = 14\n",
      "7 x 3 = 21\n",
      "7 x 4 = 28\n",
      "7 x 5 = 35\n",
      "7 x 6 = 42\n",
      "7 x 7 = 49\n",
      "7 x 8 = 56\n",
      "7 x 9 = 63\n",
      "7 x 10 = 70\n"
     ]
    }
   ],
   "source": [
    "for i in range(2, 8):\n",
    "    print(\"\\nTabla de multiplicar del {}\".format(i))\n",
    "    for j in range(1, 11):\n",
    "        print(\"{} x {} = {}\".format(i, j, i * j))"
   ]
  },
  {
   "cell_type": "code",
   "execution_count": null,
   "id": "44fec810-8133-4209-a6a8-d988cc2a3567",
   "metadata": {},
   "outputs": [],
   "source": []
  }
 ],
 "metadata": {
  "kernelspec": {
   "display_name": "Python 3 (ipykernel)",
   "language": "python",
   "name": "python3"
  },
  "language_info": {
   "codemirror_mode": {
    "name": "ipython",
    "version": 3
   },
   "file_extension": ".py",
   "mimetype": "text/x-python",
   "name": "python",
   "nbconvert_exporter": "python",
   "pygments_lexer": "ipython3",
   "version": "3.9.5"
  }
 },
 "nbformat": 4,
 "nbformat_minor": 5
}
