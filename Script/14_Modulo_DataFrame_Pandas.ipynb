{
 "cells": [
  {
   "cell_type": "markdown",
   "id": "40a5c596-81f7-41a8-aaa8-96980258cb95",
   "metadata": {},
   "source": [
    "# Módulos `Pandas` - DataFrame"
   ]
  },
  {
   "cell_type": "markdown",
   "id": "7ef491e4-11c4-4a23-80cf-994b6c54342f",
   "metadata": {},
   "source": [
    "**Dataframe.** Es una estructura bidimensional mutable de datos con los ejes etiquetados donde\n",
    "\n",
    "- cada fila representa una observación diferente\n",
    "- cada columna representa una variable diferente\n",
    "\n",
    "En `Python`, para definir un dataframe, en primer lugar necesitamos importar el módulo `pandas`."
   ]
  },
  {
   "cell_type": "code",
   "execution_count": 1,
   "id": "a3279545-d5d5-47f7-baa2-a396867b8a4c",
   "metadata": {},
   "outputs": [],
   "source": [
    "import pandas as pd"
   ]
  },
  {
   "cell_type": "code",
   "execution_count": 2,
   "id": "9e7e7066-a01d-4815-a419-5195ae15b456",
   "metadata": {},
   "outputs": [
    {
     "data": {
      "text/plain": [
       "'1.4.4'"
      ]
     },
     "execution_count": 2,
     "metadata": {},
     "output_type": "execute_result"
    }
   ],
   "source": [
    "pd.__version__"
   ]
  },
  {
   "cell_type": "markdown",
   "id": "969390e2-7723-4abb-aaea-8163ace0a4ff",
   "metadata": {},
   "source": [
    "## Crear dataframe"
   ]
  },
  {
   "cell_type": "markdown",
   "id": "c7ef9cae-a769-495a-b797-22af2c69a4e7",
   "metadata": {},
   "source": [
    "### Crear dataframe a partir diccionario\n",
    "Para ello, primero creamos un diccionario donde las claves serán los nombres de las columnas y los valores serán listas, con tantos elementos como número de filas queramos.\n",
    "\n",
    "Finalmente, convertimos ese diccionario a dataframe con la función `DataFrame()` de `pandas`:"
   ]
  },
  {
   "cell_type": "code",
   "execution_count": 3,
   "id": "6854fddb-b293-4326-bee9-ec3189c00de6",
   "metadata": {},
   "outputs": [
    {
     "name": "stdout",
     "output_type": "stream",
     "text": [
      "   x   y\n",
      "0  1   2\n",
      "1  2   4\n",
      "2  3   6\n",
      "3  4   8\n",
      "4  5  10\n",
      "Tipo de clase:  <class 'pandas.core.frame.DataFrame'>\n"
     ]
    }
   ],
   "source": [
    "dic = {\"x\": [1, 2, 3, 4, 5], \"y\": [2, 4, 6, 8, 10]}\n",
    "\n",
    "df1 = pd.DataFrame(data = dic)\n",
    "print(df1)\n",
    "print(\"Tipo de clase: \", type(df1))"
   ]
  },
  {
   "cell_type": "code",
   "execution_count": 4,
   "id": "bab2fe81-ff2a-4a59-89ab-41d3d3b66266",
   "metadata": {},
   "outputs": [
    {
     "data": {
      "text/html": [
       "<div>\n",
       "<style scoped>\n",
       "    .dataframe tbody tr th:only-of-type {\n",
       "        vertical-align: middle;\n",
       "    }\n",
       "\n",
       "    .dataframe tbody tr th {\n",
       "        vertical-align: top;\n",
       "    }\n",
       "\n",
       "    .dataframe thead th {\n",
       "        text-align: right;\n",
       "    }\n",
       "</style>\n",
       "<table border=\"1\" class=\"dataframe\">\n",
       "  <thead>\n",
       "    <tr style=\"text-align: right;\">\n",
       "      <th></th>\n",
       "      <th>x</th>\n",
       "      <th>y</th>\n",
       "    </tr>\n",
       "  </thead>\n",
       "  <tbody>\n",
       "    <tr>\n",
       "      <th>0</th>\n",
       "      <td>1</td>\n",
       "      <td>2</td>\n",
       "    </tr>\n",
       "    <tr>\n",
       "      <th>1</th>\n",
       "      <td>2</td>\n",
       "      <td>4</td>\n",
       "    </tr>\n",
       "  </tbody>\n",
       "</table>\n",
       "</div>"
      ],
      "text/plain": [
       "   x  y\n",
       "0  1  2\n",
       "1  2  4"
      ]
     },
     "execution_count": 4,
     "metadata": {},
     "output_type": "execute_result"
    }
   ],
   "source": [
    "df1.head(2)"
   ]
  },
  {
   "cell_type": "markdown",
   "id": "338cc5e6-c22b-46e7-8f94-407d53912e5c",
   "metadata": {},
   "source": [
    "Como habíamos dicho, hemos creado un dataframe de 5 filas y dos columnas, llamadas `x` e `y` respectivamente."
   ]
  },
  {
   "cell_type": "markdown",
   "id": "a055e81f-0747-48d4-9014-e4022d75ff31",
   "metadata": {},
   "source": [
    "**¡Cuidado!.** Al construir un dataframe a partir de un diccionario (o cualquier objeto de `Python` que contenga algún diccionario), los nombres de las columnas son las claves del diccionario. Si quisiésemos cambiarlos con el parámetro `columns` directamente, nos pasaría lo siguiente:"
   ]
  },
  {
   "cell_type": "code",
   "execution_count": 5,
   "id": "87a485e0-2f64-409b-b8a0-f6cbc6e59947",
   "metadata": {},
   "outputs": [
    {
     "name": "stdout",
     "output_type": "stream",
     "text": [
      "   b1  b\n",
      "0   7  4\n",
      "1   8  5\n",
      "2   9  6\n"
     ]
    }
   ],
   "source": [
    "d = {\"a\": [1, 2, 3],\n",
    "     \"b\": [4, 5, 6],\n",
    "     \"b1\": [7, 8, 9]}\n",
    "\n",
    "df = pd.DataFrame(d, columns = [\"b1\", \"b\"]) \n",
    "print(df)"
   ]
  },
  {
   "cell_type": "markdown",
   "id": "185f2461-359c-493d-b83a-b5d4fae22955",
   "metadata": {},
   "source": [
    "\n",
    "### Crear dataframe a partir lista\n",
    "\n",
    "Vamos a crear el mismo dataframe de 5 filas y 2 columnas, pero esta vez a partir de una lista de listas.\n",
    "\n",
    "En este caso, podemos hacerlo directamente con la función `DataFrame()` de `pandas`, usando los parámetros `data` y `columns`"
   ]
  },
  {
   "cell_type": "code",
   "execution_count": 6,
   "id": "4f696de4-ce2c-4732-96d0-4477e34d81ed",
   "metadata": {},
   "outputs": [
    {
     "name": "stdout",
     "output_type": "stream",
     "text": [
      "   x   y\n",
      "0  1   2\n",
      "1  2   4\n",
      "2  3   6\n",
      "3  4   8\n",
      "4  5  10\n",
      "Tipo de clase:  <class 'list'>\n"
     ]
    }
   ],
   "source": [
    "lista = [[1, 2], [2, 4], [3, 6], [4, 8], [5, 10]]\n",
    "\n",
    "df2 = pd.DataFrame(data = lista,\n",
    "                   columns = [\"x\", \"y\"])\n",
    "print(df2)\n",
    "print(\"Tipo de clase: \", type(lista))"
   ]
  },
  {
   "cell_type": "markdown",
   "id": "6edf9fee-44f5-4caa-8277-51d492072ccc",
   "metadata": {},
   "source": [
    "Al parámetro `data` le hemos proporcionado una lista de 5 listas, donde cada una de las sublistas tiene 2 elementos: el perteneciente a la primera columna en la posición 0, y el perteneciente a la segunda columna en la posición 1.\n",
    "\n",
    "Al parámetro `columns` le hemos proporcionado el nombre de las 2 columnas."
   ]
  },
  {
   "cell_type": "markdown",
   "id": "743ebb9e-c24b-4528-b5b0-ad71ca8c1446",
   "metadata": {},
   "source": [
    "### Crear dataframe segun formato CSV\n",
    "\n",
    "Vamos a cargar el archivo llamado `Datos_CSV.csv` que tenemos guardado en la carpeta Directorio local.\n",
    "\n",
    "Para ello, lo primero que tenemos que hacer es import os para agregar el directorio disco local y \n",
    "\n",
    "A continuación, navegamos por nuestro Google Drive hasta encontrar el archivo csv en cuestión. De sus opciones, seleccionamos copiar ruta. Esa ruta será la que pasemos por parámetro a la función `read_csv()`\n"
   ]
  },
  {
   "cell_type": "code",
   "execution_count": 7,
   "id": "03eeecd9-c984-4c68-8820-4813f998322e",
   "metadata": {},
   "outputs": [],
   "source": [
    "import os"
   ]
  },
  {
   "cell_type": "code",
   "execution_count": 8,
   "id": "1552179c-c978-4e1d-a937-248e08c2f96d",
   "metadata": {},
   "outputs": [
    {
     "data": {
      "text/plain": [
       "'D:\\\\PYTHON\\\\sig_python\\\\Script'"
      ]
     },
     "execution_count": 8,
     "metadata": {},
     "output_type": "execute_result"
    }
   ],
   "source": [
    "os.getcwd()"
   ]
  },
  {
   "cell_type": "code",
   "execution_count": 103,
   "id": "cec3ad3e-8d1e-4720-bcaf-fa70291aec2f",
   "metadata": {},
   "outputs": [
    {
     "data": {
      "text/plain": [
       "'D:\\\\PYTHON\\\\sig_python\\\\Script\\\\DATOS'"
      ]
     },
     "execution_count": 103,
     "metadata": {},
     "output_type": "execute_result"
    }
   ],
   "source": [
    "os.chdir(r\"D:\\PYTHON\\sig_python\\Script\\DATOS\")\n",
    "os.getcwd()"
   ]
  },
  {
   "cell_type": "code",
   "execution_count": 104,
   "id": "c75dade5-8a2f-4467-8c94-e7551b7213fc",
   "metadata": {},
   "outputs": [],
   "source": [
    "Datos_CSV = pd.read_csv(\"Datos_CSV.csv\", delimiter=\";\")"
   ]
  },
  {
   "cell_type": "code",
   "execution_count": 105,
   "id": "1af656d0-52c2-4690-8c77-f41501a627db",
   "metadata": {},
   "outputs": [
    {
     "data": {
      "text/html": [
       "<div>\n",
       "<style scoped>\n",
       "    .dataframe tbody tr th:only-of-type {\n",
       "        vertical-align: middle;\n",
       "    }\n",
       "\n",
       "    .dataframe tbody tr th {\n",
       "        vertical-align: top;\n",
       "    }\n",
       "\n",
       "    .dataframe thead th {\n",
       "        text-align: right;\n",
       "    }\n",
       "</style>\n",
       "<table border=\"1\" class=\"dataframe\">\n",
       "  <thead>\n",
       "    <tr style=\"text-align: right;\">\n",
       "      <th></th>\n",
       "      <th>Temperatura</th>\n",
       "      <th>Pais</th>\n",
       "      <th>Precipitacion</th>\n",
       "      <th>Altitud</th>\n",
       "    </tr>\n",
       "  </thead>\n",
       "  <tbody>\n",
       "    <tr>\n",
       "      <th>0</th>\n",
       "      <td>25</td>\n",
       "      <td>Bolivia</td>\n",
       "      <td>300</td>\n",
       "      <td>1500</td>\n",
       "    </tr>\n",
       "    <tr>\n",
       "      <th>1</th>\n",
       "      <td>20</td>\n",
       "      <td>Brasil</td>\n",
       "      <td>325</td>\n",
       "      <td>1800</td>\n",
       "    </tr>\n",
       "    <tr>\n",
       "      <th>2</th>\n",
       "      <td>30</td>\n",
       "      <td>Ecuador</td>\n",
       "      <td>400</td>\n",
       "      <td>2500</td>\n",
       "    </tr>\n",
       "  </tbody>\n",
       "</table>\n",
       "</div>"
      ],
      "text/plain": [
       "   Temperatura     Pais  Precipitacion  Altitud\n",
       "0           25  Bolivia            300     1500\n",
       "1           20   Brasil            325     1800\n",
       "2           30  Ecuador            400     2500"
      ]
     },
     "execution_count": 105,
     "metadata": {},
     "output_type": "execute_result"
    }
   ],
   "source": [
    "# Emprime los 3 valores primero\n",
    "Datos_CSV.head(3)"
   ]
  },
  {
   "cell_type": "code",
   "execution_count": 106,
   "id": "0e6b3220-f05a-4580-a746-69eadac564a6",
   "metadata": {},
   "outputs": [
    {
     "data": {
      "text/html": [
       "<div>\n",
       "<style scoped>\n",
       "    .dataframe tbody tr th:only-of-type {\n",
       "        vertical-align: middle;\n",
       "    }\n",
       "\n",
       "    .dataframe tbody tr th {\n",
       "        vertical-align: top;\n",
       "    }\n",
       "\n",
       "    .dataframe thead th {\n",
       "        text-align: right;\n",
       "    }\n",
       "</style>\n",
       "<table border=\"1\" class=\"dataframe\">\n",
       "  <thead>\n",
       "    <tr style=\"text-align: right;\">\n",
       "      <th></th>\n",
       "      <th>Temperatura</th>\n",
       "      <th>Pais</th>\n",
       "      <th>Precipitacion</th>\n",
       "      <th>Altitud</th>\n",
       "    </tr>\n",
       "  </thead>\n",
       "  <tbody>\n",
       "    <tr>\n",
       "      <th>3</th>\n",
       "      <td>25</td>\n",
       "      <td>Colombia</td>\n",
       "      <td>450</td>\n",
       "      <td>3000</td>\n",
       "    </tr>\n",
       "    <tr>\n",
       "      <th>4</th>\n",
       "      <td>30</td>\n",
       "      <td>Chile</td>\n",
       "      <td>320</td>\n",
       "      <td>2600</td>\n",
       "    </tr>\n",
       "    <tr>\n",
       "      <th>5</th>\n",
       "      <td>15</td>\n",
       "      <td>Peru</td>\n",
       "      <td>352</td>\n",
       "      <td>3600</td>\n",
       "    </tr>\n",
       "    <tr>\n",
       "      <th>6</th>\n",
       "      <td>24</td>\n",
       "      <td>Ecuador</td>\n",
       "      <td>360</td>\n",
       "      <td>3500</td>\n",
       "    </tr>\n",
       "    <tr>\n",
       "      <th>7</th>\n",
       "      <td>25</td>\n",
       "      <td>Peru</td>\n",
       "      <td>385</td>\n",
       "      <td>2600</td>\n",
       "    </tr>\n",
       "  </tbody>\n",
       "</table>\n",
       "</div>"
      ],
      "text/plain": [
       "   Temperatura      Pais  Precipitacion  Altitud\n",
       "3           25  Colombia            450     3000\n",
       "4           30     Chile            320     2600\n",
       "5           15      Peru            352     3600\n",
       "6           24   Ecuador            360     3500\n",
       "7           25      Peru            385     2600"
      ]
     },
     "execution_count": 106,
     "metadata": {},
     "output_type": "execute_result"
    }
   ],
   "source": [
    "# Emprime los e valores ultimos\n",
    "Datos_CSV.tail(5)"
   ]
  },
  {
   "cell_type": "code",
   "execution_count": 107,
   "id": "5d9f0d0f-e37c-4d55-b638-81dbf6fb322c",
   "metadata": {},
   "outputs": [
    {
     "data": {
      "text/plain": [
       "pandas.core.frame.DataFrame"
      ]
     },
     "execution_count": 107,
     "metadata": {},
     "output_type": "execute_result"
    }
   ],
   "source": [
    "type(Datos_CSV)"
   ]
  },
  {
   "cell_type": "markdown",
   "id": "fbaaf1ac-7ed4-4e82-bf94-fe2476fb15e2",
   "metadata": {},
   "source": [
    "### Crear dataframe segun formato XLS o XLSX"
   ]
  },
  {
   "cell_type": "code",
   "execution_count": 108,
   "id": "99c3efc0-a107-47c0-8f9f-38babe930d55",
   "metadata": {},
   "outputs": [],
   "source": [
    "# Instalar dependencia para Excel\n",
    "#!pip install xlrd\n",
    "#!pip install openpyxl"
   ]
  },
  {
   "cell_type": "code",
   "execution_count": 109,
   "id": "18e8c6fb-a063-452c-ae7d-f41230a2aaea",
   "metadata": {},
   "outputs": [
    {
     "data": {
      "text/html": [
       "<div>\n",
       "<style scoped>\n",
       "    .dataframe tbody tr th:only-of-type {\n",
       "        vertical-align: middle;\n",
       "    }\n",
       "\n",
       "    .dataframe tbody tr th {\n",
       "        vertical-align: top;\n",
       "    }\n",
       "\n",
       "    .dataframe thead th {\n",
       "        text-align: right;\n",
       "    }\n",
       "</style>\n",
       "<table border=\"1\" class=\"dataframe\">\n",
       "  <thead>\n",
       "    <tr style=\"text-align: right;\">\n",
       "      <th></th>\n",
       "      <th>Temperatura</th>\n",
       "      <th>Pais</th>\n",
       "      <th>Precipitacion</th>\n",
       "      <th>Altitud</th>\n",
       "    </tr>\n",
       "  </thead>\n",
       "  <tbody>\n",
       "    <tr>\n",
       "      <th>0</th>\n",
       "      <td>25</td>\n",
       "      <td>Bolivia</td>\n",
       "      <td>300</td>\n",
       "      <td>1500</td>\n",
       "    </tr>\n",
       "    <tr>\n",
       "      <th>1</th>\n",
       "      <td>20</td>\n",
       "      <td>Brasil</td>\n",
       "      <td>325</td>\n",
       "      <td>1800</td>\n",
       "    </tr>\n",
       "    <tr>\n",
       "      <th>2</th>\n",
       "      <td>30</td>\n",
       "      <td>Ecuador</td>\n",
       "      <td>400</td>\n",
       "      <td>2500</td>\n",
       "    </tr>\n",
       "    <tr>\n",
       "      <th>3</th>\n",
       "      <td>25</td>\n",
       "      <td>Colombia</td>\n",
       "      <td>450</td>\n",
       "      <td>3000</td>\n",
       "    </tr>\n",
       "    <tr>\n",
       "      <th>4</th>\n",
       "      <td>30</td>\n",
       "      <td>Chile</td>\n",
       "      <td>320</td>\n",
       "      <td>2600</td>\n",
       "    </tr>\n",
       "  </tbody>\n",
       "</table>\n",
       "</div>"
      ],
      "text/plain": [
       "   Temperatura      Pais  Precipitacion  Altitud\n",
       "0           25   Bolivia            300     1500\n",
       "1           20    Brasil            325     1800\n",
       "2           30   Ecuador            400     2500\n",
       "3           25  Colombia            450     3000\n",
       "4           30     Chile            320     2600"
      ]
     },
     "execution_count": 109,
     "metadata": {},
     "output_type": "execute_result"
    }
   ],
   "source": [
    "Datos_XLS = pd.read_excel(\"Datos_EXCEL.xlsx\")\n",
    "Datos_XLS.head()"
   ]
  },
  {
   "cell_type": "markdown",
   "id": "9da084a2-c089-4d9a-9da8-6413bdc33211",
   "metadata": {},
   "source": [
    "## Dimensiones del dataframe\n",
    "\n",
    "Con el método `.shape` podemos calcular las dimensiones (número de filas y columnas) del dataframe."
   ]
  },
  {
   "cell_type": "code",
   "execution_count": 110,
   "id": "474c2f23-ab5e-4ccb-ab5f-523f32a44cbc",
   "metadata": {},
   "outputs": [
    {
     "data": {
      "text/plain": [
       "(8, 4)"
      ]
     },
     "execution_count": 110,
     "metadata": {},
     "output_type": "execute_result"
    }
   ],
   "source": [
    "Datos_XLS.shape"
   ]
  },
  {
   "cell_type": "markdown",
   "id": "ad3d49f6-2e6f-4e62-94d7-ad6279610f86",
   "metadata": {},
   "source": [
    "Como resultado obtenemos una tupla donde el primer elemento es el número de filas, que en nuestro caso es 8, mientras que el segundo elemento es el número de columnas, que en nuestro ejemplo era 4."
   ]
  },
  {
   "cell_type": "code",
   "execution_count": 111,
   "id": "0e6dbaa7-d231-414f-a8a8-202040272e54",
   "metadata": {},
   "outputs": [
    {
     "name": "stdout",
     "output_type": "stream",
     "text": [
      "El número de filas de Datos_XLS es 8\n",
      "El número de columnas de Datos_XLS es 4\n"
     ]
    }
   ],
   "source": [
    "nrows = Datos_XLS.shape[0]\n",
    "ncols = Datos_XLS.shape[1]\n",
    "print(\"El número de filas de Datos_XLS es\", nrows)\n",
    "print(\"El número de columnas de Datos_XLS es\", ncols)"
   ]
  },
  {
   "cell_type": "markdown",
   "id": "54918fac-a3e3-42a8-88fc-cc9af11a5c6a",
   "metadata": {},
   "source": [
    "Con el método `.size` calculamos el número total de valores que tienes el dataframe (número de filas por número de columnas)"
   ]
  },
  {
   "cell_type": "code",
   "execution_count": 112,
   "id": "a479386a-ad1e-47ce-8553-6b757815e2e1",
   "metadata": {},
   "outputs": [
    {
     "data": {
      "text/plain": [
       "32"
      ]
     },
     "execution_count": 112,
     "metadata": {},
     "output_type": "execute_result"
    }
   ],
   "source": [
    "Datos_XLS.size"
   ]
  },
  {
   "cell_type": "code",
   "execution_count": 113,
   "id": "a69f5cf3-dc17-4c0f-8708-be13737fe5e7",
   "metadata": {},
   "outputs": [
    {
     "data": {
      "text/plain": [
       "32"
      ]
     },
     "execution_count": 113,
     "metadata": {},
     "output_type": "execute_result"
    }
   ],
   "source": [
    "nrows * ncols"
   ]
  },
  {
   "cell_type": "code",
   "execution_count": 114,
   "id": "45d63b03-ed47-428b-b089-f9c4163e46b7",
   "metadata": {},
   "outputs": [
    {
     "data": {
      "text/plain": [
       "True"
      ]
     },
     "execution_count": 114,
     "metadata": {},
     "output_type": "execute_result"
    }
   ],
   "source": [
    "# Comparando\n",
    "nrows * ncols == Datos_XLS.size"
   ]
  },
  {
   "cell_type": "markdown",
   "id": "4fba288b-5b69-4a04-9b7e-1ee6f4abc887",
   "metadata": {},
   "source": [
    "Finalmente, con el método `.ndim` calculamos el número de dimensiones que tiene el dataframe. Éste siempre valdrá 2, pues consta de filas y columnas."
   ]
  },
  {
   "cell_type": "code",
   "execution_count": 115,
   "id": "26669226-ce4f-4681-9940-435f720b3de2",
   "metadata": {},
   "outputs": [
    {
     "data": {
      "text/plain": [
       "2"
      ]
     },
     "execution_count": 115,
     "metadata": {},
     "output_type": "execute_result"
    }
   ],
   "source": [
    "Datos_XLS.ndim"
   ]
  },
  {
   "cell_type": "markdown",
   "id": "810dd044-b47e-4e7f-9433-5dfcd588b46a",
   "metadata": {},
   "source": [
    "## Subdataframes\n",
    "\n",
    "**Subdataframe.** Dado un dataframe, un subdataframe no es más que la selección de unas filas y columnas en particular."
   ]
  },
  {
   "cell_type": "markdown",
   "id": "92174680-a7db-4eb4-b64c-005e1d2d9bb3",
   "metadata": {},
   "source": [
    "### Columnas\n",
    "\n",
    "Dado un dataframe, podemos seleccionar una columna en particular de diversas formas:\n",
    "\n",
    "- Indicando el nombre de la columna entre claudators, `[]`\n",
    "- Con el método `.columns[]`\n",
    "- Con el método `.loc[]` (por nombre o etiqueta)\n",
    "- Con el método `.iloc[]` (por posición)"
   ]
  },
  {
   "cell_type": "code",
   "execution_count": 116,
   "id": "23c847c8-1fa3-4496-8204-242b6e04ab4a",
   "metadata": {},
   "outputs": [
    {
     "data": {
      "text/html": [
       "<div>\n",
       "<style scoped>\n",
       "    .dataframe tbody tr th:only-of-type {\n",
       "        vertical-align: middle;\n",
       "    }\n",
       "\n",
       "    .dataframe tbody tr th {\n",
       "        vertical-align: top;\n",
       "    }\n",
       "\n",
       "    .dataframe thead th {\n",
       "        text-align: right;\n",
       "    }\n",
       "</style>\n",
       "<table border=\"1\" class=\"dataframe\">\n",
       "  <thead>\n",
       "    <tr style=\"text-align: right;\">\n",
       "      <th></th>\n",
       "      <th>Temperatura</th>\n",
       "      <th>Pais</th>\n",
       "      <th>Precipitacion</th>\n",
       "      <th>Altitud</th>\n",
       "    </tr>\n",
       "  </thead>\n",
       "  <tbody>\n",
       "    <tr>\n",
       "      <th>0</th>\n",
       "      <td>25</td>\n",
       "      <td>Bolivia</td>\n",
       "      <td>300</td>\n",
       "      <td>1500</td>\n",
       "    </tr>\n",
       "    <tr>\n",
       "      <th>1</th>\n",
       "      <td>20</td>\n",
       "      <td>Brasil</td>\n",
       "      <td>325</td>\n",
       "      <td>1800</td>\n",
       "    </tr>\n",
       "    <tr>\n",
       "      <th>2</th>\n",
       "      <td>30</td>\n",
       "      <td>Ecuador</td>\n",
       "      <td>400</td>\n",
       "      <td>2500</td>\n",
       "    </tr>\n",
       "    <tr>\n",
       "      <th>3</th>\n",
       "      <td>25</td>\n",
       "      <td>Colombia</td>\n",
       "      <td>450</td>\n",
       "      <td>3000</td>\n",
       "    </tr>\n",
       "    <tr>\n",
       "      <th>4</th>\n",
       "      <td>30</td>\n",
       "      <td>Chile</td>\n",
       "      <td>320</td>\n",
       "      <td>2600</td>\n",
       "    </tr>\n",
       "    <tr>\n",
       "      <th>5</th>\n",
       "      <td>15</td>\n",
       "      <td>Peru</td>\n",
       "      <td>352</td>\n",
       "      <td>3600</td>\n",
       "    </tr>\n",
       "    <tr>\n",
       "      <th>6</th>\n",
       "      <td>24</td>\n",
       "      <td>Ecuador</td>\n",
       "      <td>360</td>\n",
       "      <td>3500</td>\n",
       "    </tr>\n",
       "    <tr>\n",
       "      <th>7</th>\n",
       "      <td>25</td>\n",
       "      <td>Peru</td>\n",
       "      <td>385</td>\n",
       "      <td>2600</td>\n",
       "    </tr>\n",
       "  </tbody>\n",
       "</table>\n",
       "</div>"
      ],
      "text/plain": [
       "   Temperatura      Pais  Precipitacion  Altitud\n",
       "0           25   Bolivia            300     1500\n",
       "1           20    Brasil            325     1800\n",
       "2           30   Ecuador            400     2500\n",
       "3           25  Colombia            450     3000\n",
       "4           30     Chile            320     2600\n",
       "5           15      Peru            352     3600\n",
       "6           24   Ecuador            360     3500\n",
       "7           25      Peru            385     2600"
      ]
     },
     "execution_count": 116,
     "metadata": {},
     "output_type": "execute_result"
    }
   ],
   "source": [
    "Datos_XLS.head(8)"
   ]
  },
  {
   "cell_type": "code",
   "execution_count": 117,
   "id": "4eec314a-9480-4436-a5e0-b2d25745a535",
   "metadata": {},
   "outputs": [
    {
     "data": {
      "text/plain": [
       "['Bolivia',\n",
       " 'Brasil',\n",
       " 'Ecuador',\n",
       " 'Colombia',\n",
       " 'Chile',\n",
       " 'Peru',\n",
       " 'Ecuador',\n",
       " 'Peru']"
      ]
     },
     "execution_count": 117,
     "metadata": {},
     "output_type": "execute_result"
    }
   ],
   "source": [
    "# Seleccionamos la columna Pais\n",
    "Pais = list(Datos_XLS[\"Pais\"])\n",
    "Pais"
   ]
  },
  {
   "cell_type": "code",
   "execution_count": 118,
   "id": "6902828a-8e11-421c-887f-894629fa5c9d",
   "metadata": {},
   "outputs": [
    {
     "name": "stdout",
     "output_type": "stream",
     "text": [
      "0    25\n",
      "1    20\n",
      "2    30\n",
      "3    25\n",
      "4    30\n",
      "5    15\n",
      "6    24\n",
      "7    25\n",
      "Name: Temperatura, dtype: int64\n"
     ]
    }
   ],
   "source": [
    "# Seleccionamos la columna Pais con el método .columns[]\n",
    "print(Datos_XLS[Datos_XLS.columns[0]])"
   ]
  },
  {
   "cell_type": "code",
   "execution_count": 119,
   "id": "dad0574a-f755-41eb-b888-2e032c41d4e6",
   "metadata": {},
   "outputs": [
    {
     "name": "stdout",
     "output_type": "stream",
     "text": [
      "0     Bolivia\n",
      "1      Brasil\n",
      "2     Ecuador\n",
      "3    Colombia\n",
      "4       Chile\n",
      "5        Peru\n",
      "Name: Pais, dtype: object\n"
     ]
    }
   ],
   "source": [
    "# Seleccionamos la columna Pais con el método .loc[]\n",
    "print(Datos_XLS.loc[0:5, \"Pais\"])"
   ]
  },
  {
   "cell_type": "markdown",
   "id": "3f473cd9-f642-4199-84b7-a5c6d360e4c2",
   "metadata": {},
   "source": [
    "**Observación.** Al método `.loc[]` le hemos indicado que tome todas las filas con `:` en la primera posición y la columna `\"Pais\"` indicando el índice que ocupa como columna."
   ]
  },
  {
   "cell_type": "markdown",
   "id": "fc7aa6ee-0927-4deb-a428-b4f2d7f48286",
   "metadata": {},
   "source": [
    "Si quisiésemos seleccionar más de una columna, podríamos hacerlo con todas las opciones enumeradas anteriormente, con ligeras modificaciones en algunos casos:"
   ]
  },
  {
   "cell_type": "code",
   "execution_count": 120,
   "id": "9c14a45c-cd87-4c37-ba1a-0754c3be671c",
   "metadata": {},
   "outputs": [
    {
     "name": "stdout",
     "output_type": "stream",
     "text": [
      "   Altitud  Temperatura      Pais\n",
      "0     1500           25   Bolivia\n",
      "1     1800           20    Brasil\n",
      "2     2500           30   Ecuador\n",
      "3     3000           25  Colombia\n",
      "4     2600           30     Chile\n",
      "5     3600           15      Peru\n",
      "6     3500           24   Ecuador\n",
      "7     2600           25      Peru\n"
     ]
    }
   ],
   "source": [
    "# Seleccionamos las columnas Pais y Altitud por nombre\n",
    "print(Datos_XLS[[\"Altitud\",\"Temperatura\",\"Pais\"]])"
   ]
  },
  {
   "cell_type": "code",
   "execution_count": 121,
   "id": "793fdf7a-1784-4e06-94bf-665937a3e2ce",
   "metadata": {},
   "outputs": [
    {
     "name": "stdout",
     "output_type": "stream",
     "text": [
      "       Pais  Precipitacion  Altitud\n",
      "0   Bolivia            300     1500\n",
      "1    Brasil            325     1800\n",
      "2   Ecuador            400     2500\n",
      "3  Colombia            450     3000\n",
      "4     Chile            320     2600\n",
      "5      Peru            352     3600\n",
      "6   Ecuador            360     3500\n",
      "7      Peru            385     2600\n"
     ]
    }
   ],
   "source": [
    "# Seleccionamos las columnas Pais y Altitud con el método .columns[]\n",
    "print(Datos_XLS[Datos_XLS.columns[[1,2,3]]])"
   ]
  },
  {
   "cell_type": "code",
   "execution_count": 122,
   "id": "2039a7dc-1a00-444f-83e9-0cf68ae312ef",
   "metadata": {},
   "outputs": [
    {
     "name": "stdout",
     "output_type": "stream",
     "text": [
      "       Pais  Altitud\n",
      "2   Ecuador     2500\n",
      "3  Colombia     3000\n",
      "4     Chile     2600\n",
      "5      Peru     3600\n"
     ]
    }
   ],
   "source": [
    "# Seleccionamos las columnas Pais y Altitud con el método .loc[]\n",
    "print(Datos_XLS.loc[2:5, [\"Pais\", \"Altitud\"]])"
   ]
  },
  {
   "cell_type": "code",
   "execution_count": 123,
   "id": "91977da5-2ccc-4494-a22f-13c582da0f99",
   "metadata": {},
   "outputs": [
    {
     "name": "stdout",
     "output_type": "stream",
     "text": [
      "       Pais  Altitud  Temperatura\n",
      "0   Bolivia     1500           25\n",
      "1    Brasil     1800           20\n",
      "2   Ecuador     2500           30\n",
      "3  Colombia     3000           25\n",
      "4     Chile     2600           30\n",
      "5      Peru     3600           15\n",
      "6   Ecuador     3500           24\n",
      "7      Peru     2600           25\n"
     ]
    }
   ],
   "source": [
    "# Seleccionamos las columnas Pais y Altitud  con el método .iloc[]\n",
    "print(Datos_XLS.iloc[:, [1, 3,0]])"
   ]
  },
  {
   "cell_type": "code",
   "execution_count": 124,
   "id": "be1dcdf3-389f-4150-841e-aaad23db3e11",
   "metadata": {},
   "outputs": [
    {
     "name": "stdout",
     "output_type": "stream",
     "text": [
      "   Temperatura      Pais  Precipitacion  Altitud\n",
      "0           25   Bolivia            300     1500\n",
      "2           30   Ecuador            400     2500\n",
      "3           25  Colombia            450     3000\n",
      "4           30     Chile            320     2600\n",
      "7           25      Peru            385     2600\n"
     ]
    }
   ],
   "source": [
    "# Filtro por la temperatura >= 25\n",
    "Temp = Datos_XLS[Datos_XLS['Temperatura'] >= 25]\n",
    "print(Temp.head(10))"
   ]
  },
  {
   "cell_type": "markdown",
   "id": "1615e10f-9177-4897-90a0-9ba4741c595f",
   "metadata": {},
   "source": [
    "### Filas\n",
    "\n",
    "Dado un dataframe, podemos seleccionar una fila en particular de diversas formas:\n",
    "\n",
    "- Con el método `.loc[]` (por nombre o etiqueta)\n",
    "- Con el método `.iloc[]` (por posición)"
   ]
  },
  {
   "cell_type": "code",
   "execution_count": 125,
   "id": "4ba53b84-fd41-4c52-a1c8-646e7ee75fd5",
   "metadata": {},
   "outputs": [
    {
     "name": "stdout",
     "output_type": "stream",
     "text": [
      "Temperatura           30\n",
      "Pais             Ecuador\n",
      "Precipitacion        400\n",
      "Altitud             2500\n",
      "Name: 2, dtype: object\n"
     ]
    }
   ],
   "source": [
    "# Seleccionamos la primera observación (0) con el método .iloc[]\n",
    "print(Datos_XLS.iloc[2])"
   ]
  },
  {
   "cell_type": "code",
   "execution_count": 126,
   "id": "e41de6bb-db44-409c-94a3-e279e933ae5b",
   "metadata": {},
   "outputs": [
    {
     "name": "stdout",
     "output_type": "stream",
     "text": [
      "Temperatura        25\n",
      "Pais             Peru\n",
      "Precipitacion     385\n",
      "Altitud          2600\n",
      "Name: 7, dtype: object\n"
     ]
    }
   ],
   "source": [
    "# Seleccionamos la última observación con el método .iloc[]\n",
    "print(Datos_XLS.iloc[-1])"
   ]
  },
  {
   "cell_type": "code",
   "execution_count": 127,
   "id": "f04bca5e-0ed0-42eb-b4b0-d7e3a62b3a0d",
   "metadata": {},
   "outputs": [
    {
     "name": "stdout",
     "output_type": "stream",
     "text": [
      "   Temperatura      Pais  Precipitacion  Altitud\n",
      "1           20    Brasil            325     1800\n",
      "3           25  Colombia            450     3000\n"
     ]
    }
   ],
   "source": [
    "# Seleccionamos la segunda y cuarta observación con el método .loc[]\n",
    "print(Datos_XLS.loc[[1,3]]) # Tambien se puede buscar string \"Datos\""
   ]
  },
  {
   "cell_type": "markdown",
   "id": "01428a9c-3844-4d87-93fe-d01bf8804ff2",
   "metadata": {},
   "source": [
    "### Filas y columnas\n",
    "\n",
    "Para seleccionar un elemento en concreto, hay que indicar la fila y la columna y lo podemos hacer de dos formas:\n",
    "\n",
    "- Con el método `.loc[]` (por nombre o etiqueta)\n",
    "- Con el método `.iloc[]` (por índice)"
   ]
  },
  {
   "cell_type": "code",
   "execution_count": 128,
   "id": "ca3bf305-66b7-44f8-ae0b-cf696dc1b1d1",
   "metadata": {},
   "outputs": [
    {
     "name": "stdout",
     "output_type": "stream",
     "text": [
      "Ecuador\n"
     ]
    }
   ],
   "source": [
    "# Seleccionamos la segunda observación con el método .loc[]\n",
    "print(Datos_XLS.loc[2, \"Pais\"])"
   ]
  },
  {
   "cell_type": "code",
   "execution_count": 129,
   "id": "4544b284-4c9b-4adc-b1e2-d2b23b42c75c",
   "metadata": {},
   "outputs": [
    {
     "name": "stdout",
     "output_type": "stream",
     "text": [
      "Ecuador\n"
     ]
    }
   ],
   "source": [
    "# Seleccionamos la segunda observación con el método .iloc[]\n",
    "print(Datos_XLS.iloc[2, 1])"
   ]
  },
  {
   "cell_type": "markdown",
   "id": "11a98c6b-e544-4717-bcdb-170633581513",
   "metadata": {},
   "source": [
    "Si queremos seleccionar un subconjunto de filas y columnas, podemos utilizar los dos métodos anteriores"
   ]
  },
  {
   "cell_type": "code",
   "execution_count": 130,
   "id": "0c5c6b8b-2ff7-42aa-81b1-16b8f1c7ee5a",
   "metadata": {},
   "outputs": [
    {
     "name": "stdout",
     "output_type": "stream",
     "text": [
      "       Pais  Altitud\n",
      "2   Ecuador     2500\n",
      "3  Colombia     3000\n",
      "4     Chile     2600\n",
      "5      Peru     3600\n"
     ]
    }
   ],
   "source": [
    "# Seleccionamos la segunda y quinta fila y las columnas Pais y Altitud\n",
    "# Con el método .loc[]\n",
    "print(Datos_XLS.loc[2:5, [\"Pais\", \"Altitud\"]])"
   ]
  },
  {
   "cell_type": "code",
   "execution_count": 131,
   "id": "88bc2cdd-1d2e-45a0-814e-11cf0a113fd7",
   "metadata": {},
   "outputs": [
    {
     "name": "stdout",
     "output_type": "stream",
     "text": [
      "       Pais  Altitud\n",
      "2   Ecuador     2500\n",
      "3  Colombia     3000\n",
      "4     Chile     2600\n",
      "5      Peru     3600\n"
     ]
    }
   ],
   "source": [
    "# Con el método .iloc[]\n",
    "print(Datos_XLS.iloc[2:6, [1, 3]])"
   ]
  },
  {
   "cell_type": "markdown",
   "id": "d9a61818-0e43-4ec4-b8ee-bdd507178ff3",
   "metadata": {},
   "source": [
    "## Métodos de dataframes\n",
    "\n",
    "El método `.head()` sirve para visualizar las primeras filas del dataframe. Por defecto, se nos mostrarán las 5 primeras"
   ]
  },
  {
   "cell_type": "code",
   "execution_count": 132,
   "id": "3ea66c18-99dd-4362-b006-98f6087c3644",
   "metadata": {},
   "outputs": [
    {
     "data": {
      "text/html": [
       "<div>\n",
       "<style scoped>\n",
       "    .dataframe tbody tr th:only-of-type {\n",
       "        vertical-align: middle;\n",
       "    }\n",
       "\n",
       "    .dataframe tbody tr th {\n",
       "        vertical-align: top;\n",
       "    }\n",
       "\n",
       "    .dataframe thead th {\n",
       "        text-align: right;\n",
       "    }\n",
       "</style>\n",
       "<table border=\"1\" class=\"dataframe\">\n",
       "  <thead>\n",
       "    <tr style=\"text-align: right;\">\n",
       "      <th></th>\n",
       "      <th>Temperatura</th>\n",
       "      <th>Pais</th>\n",
       "      <th>Precipitacion</th>\n",
       "      <th>Altitud</th>\n",
       "    </tr>\n",
       "  </thead>\n",
       "  <tbody>\n",
       "    <tr>\n",
       "      <th>0</th>\n",
       "      <td>25</td>\n",
       "      <td>Bolivia</td>\n",
       "      <td>300</td>\n",
       "      <td>1500</td>\n",
       "    </tr>\n",
       "    <tr>\n",
       "      <th>1</th>\n",
       "      <td>20</td>\n",
       "      <td>Brasil</td>\n",
       "      <td>325</td>\n",
       "      <td>1800</td>\n",
       "    </tr>\n",
       "    <tr>\n",
       "      <th>2</th>\n",
       "      <td>30</td>\n",
       "      <td>Ecuador</td>\n",
       "      <td>400</td>\n",
       "      <td>2500</td>\n",
       "    </tr>\n",
       "    <tr>\n",
       "      <th>3</th>\n",
       "      <td>25</td>\n",
       "      <td>Colombia</td>\n",
       "      <td>450</td>\n",
       "      <td>3000</td>\n",
       "    </tr>\n",
       "    <tr>\n",
       "      <th>4</th>\n",
       "      <td>30</td>\n",
       "      <td>Chile</td>\n",
       "      <td>320</td>\n",
       "      <td>2600</td>\n",
       "    </tr>\n",
       "  </tbody>\n",
       "</table>\n",
       "</div>"
      ],
      "text/plain": [
       "   Temperatura      Pais  Precipitacion  Altitud\n",
       "0           25   Bolivia            300     1500\n",
       "1           20    Brasil            325     1800\n",
       "2           30   Ecuador            400     2500\n",
       "3           25  Colombia            450     3000\n",
       "4           30     Chile            320     2600"
      ]
     },
     "execution_count": 132,
     "metadata": {},
     "output_type": "execute_result"
    }
   ],
   "source": [
    "Datos_XLS.head()"
   ]
  },
  {
   "cell_type": "markdown",
   "id": "d3e7ee0e-60c4-4757-ac91-afcfda190c99",
   "metadata": {},
   "source": [
    "Si queremos que se nos muestre un número determinado de filas, tenemos que indicarlo por parámetro:"
   ]
  },
  {
   "cell_type": "code",
   "execution_count": 133,
   "id": "560615b2-ad87-497b-a39b-16d5f7ff99ac",
   "metadata": {},
   "outputs": [
    {
     "data": {
      "text/html": [
       "<div>\n",
       "<style scoped>\n",
       "    .dataframe tbody tr th:only-of-type {\n",
       "        vertical-align: middle;\n",
       "    }\n",
       "\n",
       "    .dataframe tbody tr th {\n",
       "        vertical-align: top;\n",
       "    }\n",
       "\n",
       "    .dataframe thead th {\n",
       "        text-align: right;\n",
       "    }\n",
       "</style>\n",
       "<table border=\"1\" class=\"dataframe\">\n",
       "  <thead>\n",
       "    <tr style=\"text-align: right;\">\n",
       "      <th></th>\n",
       "      <th>Temperatura</th>\n",
       "      <th>Pais</th>\n",
       "      <th>Precipitacion</th>\n",
       "      <th>Altitud</th>\n",
       "    </tr>\n",
       "  </thead>\n",
       "  <tbody>\n",
       "    <tr>\n",
       "      <th>0</th>\n",
       "      <td>25</td>\n",
       "      <td>Bolivia</td>\n",
       "      <td>300</td>\n",
       "      <td>1500</td>\n",
       "    </tr>\n",
       "    <tr>\n",
       "      <th>1</th>\n",
       "      <td>20</td>\n",
       "      <td>Brasil</td>\n",
       "      <td>325</td>\n",
       "      <td>1800</td>\n",
       "    </tr>\n",
       "    <tr>\n",
       "      <th>2</th>\n",
       "      <td>30</td>\n",
       "      <td>Ecuador</td>\n",
       "      <td>400</td>\n",
       "      <td>2500</td>\n",
       "    </tr>\n",
       "    <tr>\n",
       "      <th>3</th>\n",
       "      <td>25</td>\n",
       "      <td>Colombia</td>\n",
       "      <td>450</td>\n",
       "      <td>3000</td>\n",
       "    </tr>\n",
       "  </tbody>\n",
       "</table>\n",
       "</div>"
      ],
      "text/plain": [
       "   Temperatura      Pais  Precipitacion  Altitud\n",
       "0           25   Bolivia            300     1500\n",
       "1           20    Brasil            325     1800\n",
       "2           30   Ecuador            400     2500\n",
       "3           25  Colombia            450     3000"
      ]
     },
     "execution_count": 133,
     "metadata": {},
     "output_type": "execute_result"
    }
   ],
   "source": [
    "Datos_XLS.head(4)"
   ]
  },
  {
   "cell_type": "markdown",
   "id": "e4f341c9-39db-4fa7-999d-f39a5c91df03",
   "metadata": {},
   "source": [
    "El método `.tail()` sirve para visualizar las últimas filas del dataframe. Por defecto, se nos mostrarán las 5 últimas"
   ]
  },
  {
   "cell_type": "code",
   "execution_count": 134,
   "id": "76374380-245e-4885-8bc2-9f4f5a1925df",
   "metadata": {},
   "outputs": [
    {
     "data": {
      "text/html": [
       "<div>\n",
       "<style scoped>\n",
       "    .dataframe tbody tr th:only-of-type {\n",
       "        vertical-align: middle;\n",
       "    }\n",
       "\n",
       "    .dataframe tbody tr th {\n",
       "        vertical-align: top;\n",
       "    }\n",
       "\n",
       "    .dataframe thead th {\n",
       "        text-align: right;\n",
       "    }\n",
       "</style>\n",
       "<table border=\"1\" class=\"dataframe\">\n",
       "  <thead>\n",
       "    <tr style=\"text-align: right;\">\n",
       "      <th></th>\n",
       "      <th>Temperatura</th>\n",
       "      <th>Pais</th>\n",
       "      <th>Precipitacion</th>\n",
       "      <th>Altitud</th>\n",
       "    </tr>\n",
       "  </thead>\n",
       "  <tbody>\n",
       "    <tr>\n",
       "      <th>3</th>\n",
       "      <td>25</td>\n",
       "      <td>Colombia</td>\n",
       "      <td>450</td>\n",
       "      <td>3000</td>\n",
       "    </tr>\n",
       "    <tr>\n",
       "      <th>4</th>\n",
       "      <td>30</td>\n",
       "      <td>Chile</td>\n",
       "      <td>320</td>\n",
       "      <td>2600</td>\n",
       "    </tr>\n",
       "    <tr>\n",
       "      <th>5</th>\n",
       "      <td>15</td>\n",
       "      <td>Peru</td>\n",
       "      <td>352</td>\n",
       "      <td>3600</td>\n",
       "    </tr>\n",
       "    <tr>\n",
       "      <th>6</th>\n",
       "      <td>24</td>\n",
       "      <td>Ecuador</td>\n",
       "      <td>360</td>\n",
       "      <td>3500</td>\n",
       "    </tr>\n",
       "    <tr>\n",
       "      <th>7</th>\n",
       "      <td>25</td>\n",
       "      <td>Peru</td>\n",
       "      <td>385</td>\n",
       "      <td>2600</td>\n",
       "    </tr>\n",
       "  </tbody>\n",
       "</table>\n",
       "</div>"
      ],
      "text/plain": [
       "   Temperatura      Pais  Precipitacion  Altitud\n",
       "3           25  Colombia            450     3000\n",
       "4           30     Chile            320     2600\n",
       "5           15      Peru            352     3600\n",
       "6           24   Ecuador            360     3500\n",
       "7           25      Peru            385     2600"
      ]
     },
     "execution_count": 134,
     "metadata": {},
     "output_type": "execute_result"
    }
   ],
   "source": [
    "Datos_XLS.tail()"
   ]
  },
  {
   "cell_type": "markdown",
   "id": "6cdc0928-ce14-4aec-a176-deddb772527f",
   "metadata": {},
   "source": [
    "Si queremos que se nos muestre un número determinado de filas, tenemos que indicarlo por parámetro:"
   ]
  },
  {
   "cell_type": "code",
   "execution_count": 135,
   "id": "f9705478-9146-49f4-813b-59e97379cd71",
   "metadata": {},
   "outputs": [
    {
     "data": {
      "text/html": [
       "<div>\n",
       "<style scoped>\n",
       "    .dataframe tbody tr th:only-of-type {\n",
       "        vertical-align: middle;\n",
       "    }\n",
       "\n",
       "    .dataframe tbody tr th {\n",
       "        vertical-align: top;\n",
       "    }\n",
       "\n",
       "    .dataframe thead th {\n",
       "        text-align: right;\n",
       "    }\n",
       "</style>\n",
       "<table border=\"1\" class=\"dataframe\">\n",
       "  <thead>\n",
       "    <tr style=\"text-align: right;\">\n",
       "      <th></th>\n",
       "      <th>Temperatura</th>\n",
       "      <th>Pais</th>\n",
       "      <th>Precipitacion</th>\n",
       "      <th>Altitud</th>\n",
       "    </tr>\n",
       "  </thead>\n",
       "  <tbody>\n",
       "    <tr>\n",
       "      <th>5</th>\n",
       "      <td>15</td>\n",
       "      <td>Peru</td>\n",
       "      <td>352</td>\n",
       "      <td>3600</td>\n",
       "    </tr>\n",
       "    <tr>\n",
       "      <th>6</th>\n",
       "      <td>24</td>\n",
       "      <td>Ecuador</td>\n",
       "      <td>360</td>\n",
       "      <td>3500</td>\n",
       "    </tr>\n",
       "    <tr>\n",
       "      <th>7</th>\n",
       "      <td>25</td>\n",
       "      <td>Peru</td>\n",
       "      <td>385</td>\n",
       "      <td>2600</td>\n",
       "    </tr>\n",
       "  </tbody>\n",
       "</table>\n",
       "</div>"
      ],
      "text/plain": [
       "   Temperatura     Pais  Precipitacion  Altitud\n",
       "5           15     Peru            352     3600\n",
       "6           24  Ecuador            360     3500\n",
       "7           25     Peru            385     2600"
      ]
     },
     "execution_count": 135,
     "metadata": {},
     "output_type": "execute_result"
    }
   ],
   "source": [
    "Datos_XLS.tail(3)"
   ]
  },
  {
   "cell_type": "markdown",
   "id": "6a8dd28f-ef7d-4da0-a29f-280d7599397e",
   "metadata": {},
   "source": [
    "El método `.copy()` nos sirve para realizar una copia de un dataframe.\n",
    "\n",
    "Si simplemente realizamos"
   ]
  },
  {
   "cell_type": "code",
   "execution_count": 136,
   "id": "a123221a-423e-4ab6-a62b-6accc4075db3",
   "metadata": {},
   "outputs": [
    {
     "data": {
      "text/html": [
       "<div>\n",
       "<style scoped>\n",
       "    .dataframe tbody tr th:only-of-type {\n",
       "        vertical-align: middle;\n",
       "    }\n",
       "\n",
       "    .dataframe tbody tr th {\n",
       "        vertical-align: top;\n",
       "    }\n",
       "\n",
       "    .dataframe thead th {\n",
       "        text-align: right;\n",
       "    }\n",
       "</style>\n",
       "<table border=\"1\" class=\"dataframe\">\n",
       "  <thead>\n",
       "    <tr style=\"text-align: right;\">\n",
       "      <th></th>\n",
       "      <th>Temperatura</th>\n",
       "      <th>Pais</th>\n",
       "      <th>Precipitacion</th>\n",
       "      <th>Altitud</th>\n",
       "    </tr>\n",
       "  </thead>\n",
       "  <tbody>\n",
       "    <tr>\n",
       "      <th>0</th>\n",
       "      <td>25</td>\n",
       "      <td>Bolivia</td>\n",
       "      <td>300</td>\n",
       "      <td>1500</td>\n",
       "    </tr>\n",
       "    <tr>\n",
       "      <th>1</th>\n",
       "      <td>20</td>\n",
       "      <td>Brasil</td>\n",
       "      <td>325</td>\n",
       "      <td>1800</td>\n",
       "    </tr>\n",
       "    <tr>\n",
       "      <th>2</th>\n",
       "      <td>30</td>\n",
       "      <td>Ecuador</td>\n",
       "      <td>400</td>\n",
       "      <td>2500</td>\n",
       "    </tr>\n",
       "    <tr>\n",
       "      <th>3</th>\n",
       "      <td>25</td>\n",
       "      <td>Colombia</td>\n",
       "      <td>450</td>\n",
       "      <td>3000</td>\n",
       "    </tr>\n",
       "    <tr>\n",
       "      <th>4</th>\n",
       "      <td>30</td>\n",
       "      <td>Chile</td>\n",
       "      <td>320</td>\n",
       "      <td>2600</td>\n",
       "    </tr>\n",
       "    <tr>\n",
       "      <th>5</th>\n",
       "      <td>15</td>\n",
       "      <td>Peru</td>\n",
       "      <td>352</td>\n",
       "      <td>3600</td>\n",
       "    </tr>\n",
       "    <tr>\n",
       "      <th>6</th>\n",
       "      <td>24</td>\n",
       "      <td>Ecuador</td>\n",
       "      <td>360</td>\n",
       "      <td>3500</td>\n",
       "    </tr>\n",
       "    <tr>\n",
       "      <th>7</th>\n",
       "      <td>25</td>\n",
       "      <td>Peru</td>\n",
       "      <td>385</td>\n",
       "      <td>2600</td>\n",
       "    </tr>\n",
       "  </tbody>\n",
       "</table>\n",
       "</div>"
      ],
      "text/plain": [
       "   Temperatura      Pais  Precipitacion  Altitud\n",
       "0           25   Bolivia            300     1500\n",
       "1           20    Brasil            325     1800\n",
       "2           30   Ecuador            400     2500\n",
       "3           25  Colombia            450     3000\n",
       "4           30     Chile            320     2600\n",
       "5           15      Peru            352     3600\n",
       "6           24   Ecuador            360     3500\n",
       "7           25      Peru            385     2600"
      ]
     },
     "execution_count": 136,
     "metadata": {},
     "output_type": "execute_result"
    }
   ],
   "source": [
    "Datos = Datos_XLS\n",
    "Datos"
   ]
  },
  {
   "cell_type": "markdown",
   "id": "edadb695-7056-47da-848d-fb9be8363d29",
   "metadata": {},
   "source": [
    "El dataframe llamado `Datos` es solo una referencia del dataframe original `Datos_XLS` pues si realizamos algún cambio en `Datos`, se realiza también en `Datos_XLS`"
   ]
  },
  {
   "cell_type": "code",
   "execution_count": 137,
   "id": "d6bef56c-4f9c-4cfe-b779-abc98ed1c240",
   "metadata": {},
   "outputs": [
    {
     "data": {
      "text/html": [
       "<div>\n",
       "<style scoped>\n",
       "    .dataframe tbody tr th:only-of-type {\n",
       "        vertical-align: middle;\n",
       "    }\n",
       "\n",
       "    .dataframe tbody tr th {\n",
       "        vertical-align: top;\n",
       "    }\n",
       "\n",
       "    .dataframe thead th {\n",
       "        text-align: right;\n",
       "    }\n",
       "</style>\n",
       "<table border=\"1\" class=\"dataframe\">\n",
       "  <thead>\n",
       "    <tr style=\"text-align: right;\">\n",
       "      <th></th>\n",
       "      <th>Temperatura</th>\n",
       "      <th>Pais</th>\n",
       "      <th>Precipitacion</th>\n",
       "      <th>Altitud</th>\n",
       "    </tr>\n",
       "  </thead>\n",
       "  <tbody>\n",
       "    <tr>\n",
       "      <th>0</th>\n",
       "      <td>25</td>\n",
       "      <td>Bolivia</td>\n",
       "      <td>300</td>\n",
       "      <td>1500</td>\n",
       "    </tr>\n",
       "    <tr>\n",
       "      <th>1</th>\n",
       "      <td>20</td>\n",
       "      <td>Brasil</td>\n",
       "      <td>325</td>\n",
       "      <td>1800</td>\n",
       "    </tr>\n",
       "    <tr>\n",
       "      <th>2</th>\n",
       "      <td>30</td>\n",
       "      <td>Ecuador</td>\n",
       "      <td>400</td>\n",
       "      <td>2500</td>\n",
       "    </tr>\n",
       "    <tr>\n",
       "      <th>3</th>\n",
       "      <td>25</td>\n",
       "      <td>EEUU</td>\n",
       "      <td>450</td>\n",
       "      <td>3000</td>\n",
       "    </tr>\n",
       "    <tr>\n",
       "      <th>4</th>\n",
       "      <td>30</td>\n",
       "      <td>Chile</td>\n",
       "      <td>320</td>\n",
       "      <td>2600</td>\n",
       "    </tr>\n",
       "    <tr>\n",
       "      <th>5</th>\n",
       "      <td>15</td>\n",
       "      <td>Peru</td>\n",
       "      <td>352</td>\n",
       "      <td>3600</td>\n",
       "    </tr>\n",
       "    <tr>\n",
       "      <th>6</th>\n",
       "      <td>24</td>\n",
       "      <td>Ecuador</td>\n",
       "      <td>360</td>\n",
       "      <td>3500</td>\n",
       "    </tr>\n",
       "    <tr>\n",
       "      <th>7</th>\n",
       "      <td>25</td>\n",
       "      <td>Peru</td>\n",
       "      <td>385</td>\n",
       "      <td>2600</td>\n",
       "    </tr>\n",
       "  </tbody>\n",
       "</table>\n",
       "</div>"
      ],
      "text/plain": [
       "   Temperatura     Pais  Precipitacion  Altitud\n",
       "0           25  Bolivia            300     1500\n",
       "1           20   Brasil            325     1800\n",
       "2           30  Ecuador            400     2500\n",
       "3           25     EEUU            450     3000\n",
       "4           30    Chile            320     2600\n",
       "5           15     Peru            352     3600\n",
       "6           24  Ecuador            360     3500\n",
       "7           25     Peru            385     2600"
      ]
     },
     "execution_count": 137,
     "metadata": {},
     "output_type": "execute_result"
    }
   ],
   "source": [
    "Datos.iloc[3, 1] = \"EEUU\"\n",
    "Datos_XLS"
   ]
  },
  {
   "cell_type": "markdown",
   "id": "74c90728-9e25-478b-b885-16b40f4563ee",
   "metadata": {},
   "source": [
    "En cambio, si `Datos` es definido como"
   ]
  },
  {
   "cell_type": "code",
   "execution_count": 138,
   "id": "76480545-336d-4c55-9870-c96dc12a583d",
   "metadata": {},
   "outputs": [],
   "source": [
    "Datos = Datos_XLS.copy()"
   ]
  },
  {
   "cell_type": "markdown",
   "id": "5f6b14f4-586c-428f-8d94-cc7427e7c4d5",
   "metadata": {},
   "source": [
    "entonces ahora sí es una copia independiente del dataframe original y por muchos cambios que hagamos sobre dicha copia, el original se mantiene intacto"
   ]
  },
  {
   "cell_type": "code",
   "execution_count": 139,
   "id": "683836e4-0219-42a4-be5d-0b4ce5ea8bef",
   "metadata": {},
   "outputs": [
    {
     "data": {
      "text/html": [
       "<div>\n",
       "<style scoped>\n",
       "    .dataframe tbody tr th:only-of-type {\n",
       "        vertical-align: middle;\n",
       "    }\n",
       "\n",
       "    .dataframe tbody tr th {\n",
       "        vertical-align: top;\n",
       "    }\n",
       "\n",
       "    .dataframe thead th {\n",
       "        text-align: right;\n",
       "    }\n",
       "</style>\n",
       "<table border=\"1\" class=\"dataframe\">\n",
       "  <thead>\n",
       "    <tr style=\"text-align: right;\">\n",
       "      <th></th>\n",
       "      <th>Temperatura</th>\n",
       "      <th>Pais</th>\n",
       "      <th>Precipitacion</th>\n",
       "      <th>Altitud</th>\n",
       "    </tr>\n",
       "  </thead>\n",
       "  <tbody>\n",
       "    <tr>\n",
       "      <th>0</th>\n",
       "      <td>25</td>\n",
       "      <td>Bolivia</td>\n",
       "      <td>300</td>\n",
       "      <td>1500</td>\n",
       "    </tr>\n",
       "    <tr>\n",
       "      <th>1</th>\n",
       "      <td>20</td>\n",
       "      <td>Brasil</td>\n",
       "      <td>325</td>\n",
       "      <td>1800</td>\n",
       "    </tr>\n",
       "    <tr>\n",
       "      <th>2</th>\n",
       "      <td>30</td>\n",
       "      <td>Ecuador</td>\n",
       "      <td>400</td>\n",
       "      <td>2500</td>\n",
       "    </tr>\n",
       "    <tr>\n",
       "      <th>3</th>\n",
       "      <td>25</td>\n",
       "      <td>EEUU</td>\n",
       "      <td>450</td>\n",
       "      <td>3000</td>\n",
       "    </tr>\n",
       "    <tr>\n",
       "      <th>4</th>\n",
       "      <td>30</td>\n",
       "      <td>Chile</td>\n",
       "      <td>320</td>\n",
       "      <td>2600</td>\n",
       "    </tr>\n",
       "    <tr>\n",
       "      <th>5</th>\n",
       "      <td>15</td>\n",
       "      <td>Peru</td>\n",
       "      <td>352</td>\n",
       "      <td>3600</td>\n",
       "    </tr>\n",
       "    <tr>\n",
       "      <th>6</th>\n",
       "      <td>24</td>\n",
       "      <td>Ecuador</td>\n",
       "      <td>360</td>\n",
       "      <td>3500</td>\n",
       "    </tr>\n",
       "    <tr>\n",
       "      <th>7</th>\n",
       "      <td>25</td>\n",
       "      <td>Peru</td>\n",
       "      <td>385</td>\n",
       "      <td>2600</td>\n",
       "    </tr>\n",
       "  </tbody>\n",
       "</table>\n",
       "</div>"
      ],
      "text/plain": [
       "   Temperatura     Pais  Precipitacion  Altitud\n",
       "0           25  Bolivia            300     1500\n",
       "1           20   Brasil            325     1800\n",
       "2           30  Ecuador            400     2500\n",
       "3           25     EEUU            450     3000\n",
       "4           30    Chile            320     2600\n",
       "5           15     Peru            352     3600\n",
       "6           24  Ecuador            360     3500\n",
       "7           25     Peru            385     2600"
      ]
     },
     "execution_count": 139,
     "metadata": {},
     "output_type": "execute_result"
    }
   ],
   "source": [
    "Datos.iloc[3, 1] = \"RUSIA\"\n",
    "Datos_XLS"
   ]
  },
  {
   "cell_type": "markdown",
   "id": "8f86b441-b236-4289-a5a1-a947be4e3778",
   "metadata": {},
   "source": [
    "El método `.rename()` se puede utilizar tanto para cambiar las etiquetas de las filas como los nombres de las columnas. \n",
    "\n",
    "**¡Cuidado!** Para que los cambios se guarden en el dataframe original, necesitamos indicar `inplace = True`, de lo contrario, lo único que estamos haciendo es duplicar el dataframe, cambiando el nombre de las filas o columnas"
   ]
  },
  {
   "cell_type": "code",
   "execution_count": 140,
   "id": "15b28d32-5e76-4eb9-a4ea-22731b34bceb",
   "metadata": {},
   "outputs": [
    {
     "data": {
      "text/html": [
       "<div>\n",
       "<style scoped>\n",
       "    .dataframe tbody tr th:only-of-type {\n",
       "        vertical-align: middle;\n",
       "    }\n",
       "\n",
       "    .dataframe tbody tr th {\n",
       "        vertical-align: top;\n",
       "    }\n",
       "\n",
       "    .dataframe thead th {\n",
       "        text-align: right;\n",
       "    }\n",
       "</style>\n",
       "<table border=\"1\" class=\"dataframe\">\n",
       "  <thead>\n",
       "    <tr style=\"text-align: right;\">\n",
       "      <th></th>\n",
       "      <th>Temp</th>\n",
       "      <th>Pais</th>\n",
       "      <th>Prep</th>\n",
       "      <th>Altitud</th>\n",
       "    </tr>\n",
       "  </thead>\n",
       "  <tbody>\n",
       "    <tr>\n",
       "      <th>0</th>\n",
       "      <td>25</td>\n",
       "      <td>Bolivia</td>\n",
       "      <td>300</td>\n",
       "      <td>1500</td>\n",
       "    </tr>\n",
       "    <tr>\n",
       "      <th>1</th>\n",
       "      <td>20</td>\n",
       "      <td>Brasil</td>\n",
       "      <td>325</td>\n",
       "      <td>1800</td>\n",
       "    </tr>\n",
       "    <tr>\n",
       "      <th>2</th>\n",
       "      <td>30</td>\n",
       "      <td>Ecuador</td>\n",
       "      <td>400</td>\n",
       "      <td>2500</td>\n",
       "    </tr>\n",
       "    <tr>\n",
       "      <th>3</th>\n",
       "      <td>25</td>\n",
       "      <td>EEUU</td>\n",
       "      <td>450</td>\n",
       "      <td>3000</td>\n",
       "    </tr>\n",
       "    <tr>\n",
       "      <th>4</th>\n",
       "      <td>30</td>\n",
       "      <td>Chile</td>\n",
       "      <td>320</td>\n",
       "      <td>2600</td>\n",
       "    </tr>\n",
       "    <tr>\n",
       "      <th>5</th>\n",
       "      <td>15</td>\n",
       "      <td>Peru</td>\n",
       "      <td>352</td>\n",
       "      <td>3600</td>\n",
       "    </tr>\n",
       "    <tr>\n",
       "      <th>6</th>\n",
       "      <td>24</td>\n",
       "      <td>Ecuador</td>\n",
       "      <td>360</td>\n",
       "      <td>3500</td>\n",
       "    </tr>\n",
       "    <tr>\n",
       "      <th>7</th>\n",
       "      <td>25</td>\n",
       "      <td>Peru</td>\n",
       "      <td>385</td>\n",
       "      <td>2600</td>\n",
       "    </tr>\n",
       "  </tbody>\n",
       "</table>\n",
       "</div>"
      ],
      "text/plain": [
       "   Temp     Pais  Prep  Altitud\n",
       "0    25  Bolivia   300     1500\n",
       "1    20   Brasil   325     1800\n",
       "2    30  Ecuador   400     2500\n",
       "3    25     EEUU   450     3000\n",
       "4    30    Chile   320     2600\n",
       "5    15     Peru   352     3600\n",
       "6    24  Ecuador   360     3500\n",
       "7    25     Peru   385     2600"
      ]
     },
     "execution_count": 140,
     "metadata": {},
     "output_type": "execute_result"
    }
   ],
   "source": [
    "Datos_XLS.rename(columns = {\"Temperatura\": \"Temp\",\n",
    "                            \"Precipitacion\": \"Prep\"},\n",
    "                 inplace = True)\n",
    "Datos_XLS"
   ]
  },
  {
   "cell_type": "code",
   "execution_count": 141,
   "id": "34067506-58a6-4efe-9848-4328e58fb439",
   "metadata": {},
   "outputs": [
    {
     "data": {
      "text/html": [
       "<div>\n",
       "<style scoped>\n",
       "    .dataframe tbody tr th:only-of-type {\n",
       "        vertical-align: middle;\n",
       "    }\n",
       "\n",
       "    .dataframe tbody tr th {\n",
       "        vertical-align: top;\n",
       "    }\n",
       "\n",
       "    .dataframe thead th {\n",
       "        text-align: right;\n",
       "    }\n",
       "</style>\n",
       "<table border=\"1\" class=\"dataframe\">\n",
       "  <thead>\n",
       "    <tr style=\"text-align: right;\">\n",
       "      <th></th>\n",
       "      <th>Temp</th>\n",
       "      <th>Pais</th>\n",
       "      <th>Prep</th>\n",
       "      <th>Altitud</th>\n",
       "    </tr>\n",
       "  </thead>\n",
       "  <tbody>\n",
       "    <tr>\n",
       "      <th>Data1</th>\n",
       "      <td>25</td>\n",
       "      <td>Bolivia</td>\n",
       "      <td>300</td>\n",
       "      <td>1500</td>\n",
       "    </tr>\n",
       "    <tr>\n",
       "      <th>Data2</th>\n",
       "      <td>20</td>\n",
       "      <td>Brasil</td>\n",
       "      <td>325</td>\n",
       "      <td>1800</td>\n",
       "    </tr>\n",
       "    <tr>\n",
       "      <th>2</th>\n",
       "      <td>30</td>\n",
       "      <td>Ecuador</td>\n",
       "      <td>400</td>\n",
       "      <td>2500</td>\n",
       "    </tr>\n",
       "    <tr>\n",
       "      <th>3</th>\n",
       "      <td>25</td>\n",
       "      <td>EEUU</td>\n",
       "      <td>450</td>\n",
       "      <td>3000</td>\n",
       "    </tr>\n",
       "    <tr>\n",
       "      <th>4</th>\n",
       "      <td>30</td>\n",
       "      <td>Chile</td>\n",
       "      <td>320</td>\n",
       "      <td>2600</td>\n",
       "    </tr>\n",
       "    <tr>\n",
       "      <th>5</th>\n",
       "      <td>15</td>\n",
       "      <td>Peru</td>\n",
       "      <td>352</td>\n",
       "      <td>3600</td>\n",
       "    </tr>\n",
       "    <tr>\n",
       "      <th>6</th>\n",
       "      <td>24</td>\n",
       "      <td>Ecuador</td>\n",
       "      <td>360</td>\n",
       "      <td>3500</td>\n",
       "    </tr>\n",
       "    <tr>\n",
       "      <th>Data8</th>\n",
       "      <td>25</td>\n",
       "      <td>Peru</td>\n",
       "      <td>385</td>\n",
       "      <td>2600</td>\n",
       "    </tr>\n",
       "  </tbody>\n",
       "</table>\n",
       "</div>"
      ],
      "text/plain": [
       "       Temp     Pais  Prep  Altitud\n",
       "Data1    25  Bolivia   300     1500\n",
       "Data2    20   Brasil   325     1800\n",
       "2        30  Ecuador   400     2500\n",
       "3        25     EEUU   450     3000\n",
       "4        30    Chile   320     2600\n",
       "5        15     Peru   352     3600\n",
       "6        24  Ecuador   360     3500\n",
       "Data8    25     Peru   385     2600"
      ]
     },
     "execution_count": 141,
     "metadata": {},
     "output_type": "execute_result"
    }
   ],
   "source": [
    "# Cambiamos el nombre de las filas al dataframe original\n",
    "Datos_XLS.rename(index = {0: \"Data1\",\n",
    "                          1: \"Data2\",\n",
    "                          7: \"Data8\"},\n",
    "                 inplace = True)\n",
    "Datos_XLS"
   ]
  },
  {
   "cell_type": "markdown",
   "id": "284a7ecb-8c88-4683-b7bf-8bfaa47d1bc9",
   "metadata": {},
   "source": [
    "Con el método `.columns` también podemos cambiar el nombre de las columnas:"
   ]
  },
  {
   "cell_type": "code",
   "execution_count": 143,
   "id": "6edfb3cf-9c6e-49a9-8b38-afb654545db3",
   "metadata": {},
   "outputs": [
    {
     "data": {
      "text/plain": [
       "['Temp', 'Pais', 'Prep', 'Altitud']"
      ]
     },
     "execution_count": 143,
     "metadata": {},
     "output_type": "execute_result"
    }
   ],
   "source": [
    "list(Datos_XLS.columns)"
   ]
  },
  {
   "cell_type": "code",
   "execution_count": 144,
   "id": "7fcaba4e-3a0b-47c6-8df1-523d1ec14457",
   "metadata": {},
   "outputs": [
    {
     "data": {
      "text/html": [
       "<div>\n",
       "<style scoped>\n",
       "    .dataframe tbody tr th:only-of-type {\n",
       "        vertical-align: middle;\n",
       "    }\n",
       "\n",
       "    .dataframe tbody tr th {\n",
       "        vertical-align: top;\n",
       "    }\n",
       "\n",
       "    .dataframe thead th {\n",
       "        text-align: right;\n",
       "    }\n",
       "</style>\n",
       "<table border=\"1\" class=\"dataframe\">\n",
       "  <thead>\n",
       "    <tr style=\"text-align: right;\">\n",
       "      <th></th>\n",
       "      <th>TEMP</th>\n",
       "      <th>PAIS</th>\n",
       "      <th>PREP</th>\n",
       "      <th>ALT</th>\n",
       "    </tr>\n",
       "  </thead>\n",
       "  <tbody>\n",
       "    <tr>\n",
       "      <th>Data1</th>\n",
       "      <td>25</td>\n",
       "      <td>Bolivia</td>\n",
       "      <td>300</td>\n",
       "      <td>1500</td>\n",
       "    </tr>\n",
       "    <tr>\n",
       "      <th>Data2</th>\n",
       "      <td>20</td>\n",
       "      <td>Brasil</td>\n",
       "      <td>325</td>\n",
       "      <td>1800</td>\n",
       "    </tr>\n",
       "    <tr>\n",
       "      <th>2</th>\n",
       "      <td>30</td>\n",
       "      <td>Ecuador</td>\n",
       "      <td>400</td>\n",
       "      <td>2500</td>\n",
       "    </tr>\n",
       "    <tr>\n",
       "      <th>3</th>\n",
       "      <td>25</td>\n",
       "      <td>EEUU</td>\n",
       "      <td>450</td>\n",
       "      <td>3000</td>\n",
       "    </tr>\n",
       "    <tr>\n",
       "      <th>4</th>\n",
       "      <td>30</td>\n",
       "      <td>Chile</td>\n",
       "      <td>320</td>\n",
       "      <td>2600</td>\n",
       "    </tr>\n",
       "    <tr>\n",
       "      <th>5</th>\n",
       "      <td>15</td>\n",
       "      <td>Peru</td>\n",
       "      <td>352</td>\n",
       "      <td>3600</td>\n",
       "    </tr>\n",
       "    <tr>\n",
       "      <th>6</th>\n",
       "      <td>24</td>\n",
       "      <td>Ecuador</td>\n",
       "      <td>360</td>\n",
       "      <td>3500</td>\n",
       "    </tr>\n",
       "    <tr>\n",
       "      <th>Data8</th>\n",
       "      <td>25</td>\n",
       "      <td>Peru</td>\n",
       "      <td>385</td>\n",
       "      <td>2600</td>\n",
       "    </tr>\n",
       "  </tbody>\n",
       "</table>\n",
       "</div>"
      ],
      "text/plain": [
       "       TEMP     PAIS  PREP   ALT\n",
       "Data1    25  Bolivia   300  1500\n",
       "Data2    20   Brasil   325  1800\n",
       "2        30  Ecuador   400  2500\n",
       "3        25     EEUU   450  3000\n",
       "4        30    Chile   320  2600\n",
       "5        15     Peru   352  3600\n",
       "6        24  Ecuador   360  3500\n",
       "Data8    25     Peru   385  2600"
      ]
     },
     "execution_count": 144,
     "metadata": {},
     "output_type": "execute_result"
    }
   ],
   "source": [
    "Datos_XLS.columns = [\"TEMP\", \"PAIS\",\"PREP\",\"ALT\"]\n",
    "Datos_XLS"
   ]
  },
  {
   "cell_type": "markdown",
   "id": "3b09a943-dabd-4806-86bb-32a0ce21b2ac",
   "metadata": {},
   "source": [
    "El método `.insert()` inserta una nueva columna a un dataframe existente"
   ]
  },
  {
   "cell_type": "code",
   "execution_count": 145,
   "id": "dbd3a0b3-2484-4df0-87f3-4c15665fd871",
   "metadata": {},
   "outputs": [
    {
     "data": {
      "text/html": [
       "<div>\n",
       "<style scoped>\n",
       "    .dataframe tbody tr th:only-of-type {\n",
       "        vertical-align: middle;\n",
       "    }\n",
       "\n",
       "    .dataframe tbody tr th {\n",
       "        vertical-align: top;\n",
       "    }\n",
       "\n",
       "    .dataframe thead th {\n",
       "        text-align: right;\n",
       "    }\n",
       "</style>\n",
       "<table border=\"1\" class=\"dataframe\">\n",
       "  <thead>\n",
       "    <tr style=\"text-align: right;\">\n",
       "      <th></th>\n",
       "      <th>TEMP</th>\n",
       "      <th>PAIS</th>\n",
       "      <th>PRECIO</th>\n",
       "      <th>PREP</th>\n",
       "      <th>ALT</th>\n",
       "    </tr>\n",
       "  </thead>\n",
       "  <tbody>\n",
       "    <tr>\n",
       "      <th>Data1</th>\n",
       "      <td>25</td>\n",
       "      <td>Bolivia</td>\n",
       "      <td>2.50</td>\n",
       "      <td>300</td>\n",
       "      <td>1500</td>\n",
       "    </tr>\n",
       "    <tr>\n",
       "      <th>Data2</th>\n",
       "      <td>20</td>\n",
       "      <td>Brasil</td>\n",
       "      <td>2.00</td>\n",
       "      <td>325</td>\n",
       "      <td>1800</td>\n",
       "    </tr>\n",
       "    <tr>\n",
       "      <th>2</th>\n",
       "      <td>30</td>\n",
       "      <td>Ecuador</td>\n",
       "      <td>0.35</td>\n",
       "      <td>400</td>\n",
       "      <td>2500</td>\n",
       "    </tr>\n",
       "    <tr>\n",
       "      <th>3</th>\n",
       "      <td>25</td>\n",
       "      <td>EEUU</td>\n",
       "      <td>0.10</td>\n",
       "      <td>450</td>\n",
       "      <td>3000</td>\n",
       "    </tr>\n",
       "    <tr>\n",
       "      <th>4</th>\n",
       "      <td>30</td>\n",
       "      <td>Chile</td>\n",
       "      <td>0.35</td>\n",
       "      <td>320</td>\n",
       "      <td>2600</td>\n",
       "    </tr>\n",
       "    <tr>\n",
       "      <th>5</th>\n",
       "      <td>15</td>\n",
       "      <td>Peru</td>\n",
       "      <td>0.20</td>\n",
       "      <td>352</td>\n",
       "      <td>3600</td>\n",
       "    </tr>\n",
       "    <tr>\n",
       "      <th>6</th>\n",
       "      <td>24</td>\n",
       "      <td>Ecuador</td>\n",
       "      <td>0.15</td>\n",
       "      <td>360</td>\n",
       "      <td>3500</td>\n",
       "    </tr>\n",
       "    <tr>\n",
       "      <th>Data8</th>\n",
       "      <td>25</td>\n",
       "      <td>Peru</td>\n",
       "      <td>0.05</td>\n",
       "      <td>385</td>\n",
       "      <td>2600</td>\n",
       "    </tr>\n",
       "  </tbody>\n",
       "</table>\n",
       "</div>"
      ],
      "text/plain": [
       "       TEMP     PAIS  PRECIO  PREP   ALT\n",
       "Data1    25  Bolivia    2.50   300  1500\n",
       "Data2    20   Brasil    2.00   325  1800\n",
       "2        30  Ecuador    0.35   400  2500\n",
       "3        25     EEUU    0.10   450  3000\n",
       "4        30    Chile    0.35   320  2600\n",
       "5        15     Peru    0.20   352  3600\n",
       "6        24  Ecuador    0.15   360  3500\n",
       "Data8    25     Peru    0.05   385  2600"
      ]
     },
     "execution_count": 145,
     "metadata": {},
     "output_type": "execute_result"
    }
   ],
   "source": [
    "Datos_XLS.insert(loc = 2, column = \"PRECIO\", value = [2.50, 2.00, 0.35, 0.10, 0.35, 0.20, 0.15, 0.05])\n",
    "Datos_XLS"
   ]
  },
  {
   "cell_type": "code",
   "execution_count": 146,
   "id": "de1c7dd8-8874-47ca-b628-4fb948f85689",
   "metadata": {},
   "outputs": [
    {
     "data": {
      "text/html": [
       "<div>\n",
       "<style scoped>\n",
       "    .dataframe tbody tr th:only-of-type {\n",
       "        vertical-align: middle;\n",
       "    }\n",
       "\n",
       "    .dataframe tbody tr th {\n",
       "        vertical-align: top;\n",
       "    }\n",
       "\n",
       "    .dataframe thead th {\n",
       "        text-align: right;\n",
       "    }\n",
       "</style>\n",
       "<table border=\"1\" class=\"dataframe\">\n",
       "  <thead>\n",
       "    <tr style=\"text-align: right;\">\n",
       "      <th></th>\n",
       "      <th>TEMP</th>\n",
       "      <th>COLOR</th>\n",
       "      <th>PAIS</th>\n",
       "      <th>PRECIO</th>\n",
       "      <th>PREP</th>\n",
       "      <th>ALT</th>\n",
       "    </tr>\n",
       "  </thead>\n",
       "  <tbody>\n",
       "    <tr>\n",
       "      <th>Data1</th>\n",
       "      <td>25</td>\n",
       "      <td>rojo</td>\n",
       "      <td>Bolivia</td>\n",
       "      <td>2.50</td>\n",
       "      <td>300</td>\n",
       "      <td>1500</td>\n",
       "    </tr>\n",
       "    <tr>\n",
       "      <th>Data2</th>\n",
       "      <td>20</td>\n",
       "      <td>rojo</td>\n",
       "      <td>Brasil</td>\n",
       "      <td>2.00</td>\n",
       "      <td>325</td>\n",
       "      <td>1800</td>\n",
       "    </tr>\n",
       "    <tr>\n",
       "      <th>2</th>\n",
       "      <td>30</td>\n",
       "      <td>rojo</td>\n",
       "      <td>Ecuador</td>\n",
       "      <td>0.35</td>\n",
       "      <td>400</td>\n",
       "      <td>2500</td>\n",
       "    </tr>\n",
       "    <tr>\n",
       "      <th>3</th>\n",
       "      <td>25</td>\n",
       "      <td>rojo</td>\n",
       "      <td>EEUU</td>\n",
       "      <td>0.10</td>\n",
       "      <td>450</td>\n",
       "      <td>3000</td>\n",
       "    </tr>\n",
       "    <tr>\n",
       "      <th>4</th>\n",
       "      <td>30</td>\n",
       "      <td>rojo</td>\n",
       "      <td>Chile</td>\n",
       "      <td>0.35</td>\n",
       "      <td>320</td>\n",
       "      <td>2600</td>\n",
       "    </tr>\n",
       "    <tr>\n",
       "      <th>5</th>\n",
       "      <td>15</td>\n",
       "      <td>rojo</td>\n",
       "      <td>Peru</td>\n",
       "      <td>0.20</td>\n",
       "      <td>352</td>\n",
       "      <td>3600</td>\n",
       "    </tr>\n",
       "    <tr>\n",
       "      <th>6</th>\n",
       "      <td>24</td>\n",
       "      <td>rojo</td>\n",
       "      <td>Ecuador</td>\n",
       "      <td>0.15</td>\n",
       "      <td>360</td>\n",
       "      <td>3500</td>\n",
       "    </tr>\n",
       "    <tr>\n",
       "      <th>Data8</th>\n",
       "      <td>25</td>\n",
       "      <td>rojo</td>\n",
       "      <td>Peru</td>\n",
       "      <td>0.05</td>\n",
       "      <td>385</td>\n",
       "      <td>2600</td>\n",
       "    </tr>\n",
       "  </tbody>\n",
       "</table>\n",
       "</div>"
      ],
      "text/plain": [
       "       TEMP COLOR     PAIS  PRECIO  PREP   ALT\n",
       "Data1    25  rojo  Bolivia    2.50   300  1500\n",
       "Data2    20  rojo   Brasil    2.00   325  1800\n",
       "2        30  rojo  Ecuador    0.35   400  2500\n",
       "3        25  rojo     EEUU    0.10   450  3000\n",
       "4        30  rojo    Chile    0.35   320  2600\n",
       "5        15  rojo     Peru    0.20   352  3600\n",
       "6        24  rojo  Ecuador    0.15   360  3500\n",
       "Data8    25  rojo     Peru    0.05   385  2600"
      ]
     },
     "execution_count": 146,
     "metadata": {},
     "output_type": "execute_result"
    }
   ],
   "source": [
    "Datos_XLS.insert(1, \"COLOR\", \"rojo\")\n",
    "Datos_XLS"
   ]
  },
  {
   "cell_type": "markdown",
   "id": "f93e4ef5-fde9-4b7f-9555-43e02c1df55b",
   "metadata": {},
   "source": [
    "El método `.drop()` nos permite borrar las filas o columnas que indiquemos\n",
    "\n",
    "**¡Cuidado!** De nuevo, si queremos aplicar directamente los cambios al dataframe original, necesitamos indicar `inplace = True`"
   ]
  },
  {
   "cell_type": "code",
   "execution_count": 147,
   "id": "63ed3619-e8ee-4d26-8b3d-8d9e64a85fae",
   "metadata": {},
   "outputs": [
    {
     "data": {
      "text/html": [
       "<div>\n",
       "<style scoped>\n",
       "    .dataframe tbody tr th:only-of-type {\n",
       "        vertical-align: middle;\n",
       "    }\n",
       "\n",
       "    .dataframe tbody tr th {\n",
       "        vertical-align: top;\n",
       "    }\n",
       "\n",
       "    .dataframe thead th {\n",
       "        text-align: right;\n",
       "    }\n",
       "</style>\n",
       "<table border=\"1\" class=\"dataframe\">\n",
       "  <thead>\n",
       "    <tr style=\"text-align: right;\">\n",
       "      <th></th>\n",
       "      <th>TEMP</th>\n",
       "      <th>COLOR</th>\n",
       "      <th>PAIS</th>\n",
       "      <th>PRECIO</th>\n",
       "      <th>PREP</th>\n",
       "      <th>ALT</th>\n",
       "    </tr>\n",
       "  </thead>\n",
       "  <tbody>\n",
       "    <tr>\n",
       "      <th>Data2</th>\n",
       "      <td>20</td>\n",
       "      <td>rojo</td>\n",
       "      <td>Brasil</td>\n",
       "      <td>2.00</td>\n",
       "      <td>325</td>\n",
       "      <td>1800</td>\n",
       "    </tr>\n",
       "    <tr>\n",
       "      <th>2</th>\n",
       "      <td>30</td>\n",
       "      <td>rojo</td>\n",
       "      <td>Ecuador</td>\n",
       "      <td>0.35</td>\n",
       "      <td>400</td>\n",
       "      <td>2500</td>\n",
       "    </tr>\n",
       "    <tr>\n",
       "      <th>3</th>\n",
       "      <td>25</td>\n",
       "      <td>rojo</td>\n",
       "      <td>EEUU</td>\n",
       "      <td>0.10</td>\n",
       "      <td>450</td>\n",
       "      <td>3000</td>\n",
       "    </tr>\n",
       "    <tr>\n",
       "      <th>5</th>\n",
       "      <td>15</td>\n",
       "      <td>rojo</td>\n",
       "      <td>Peru</td>\n",
       "      <td>0.20</td>\n",
       "      <td>352</td>\n",
       "      <td>3600</td>\n",
       "    </tr>\n",
       "    <tr>\n",
       "      <th>6</th>\n",
       "      <td>24</td>\n",
       "      <td>rojo</td>\n",
       "      <td>Ecuador</td>\n",
       "      <td>0.15</td>\n",
       "      <td>360</td>\n",
       "      <td>3500</td>\n",
       "    </tr>\n",
       "    <tr>\n",
       "      <th>Data8</th>\n",
       "      <td>25</td>\n",
       "      <td>rojo</td>\n",
       "      <td>Peru</td>\n",
       "      <td>0.05</td>\n",
       "      <td>385</td>\n",
       "      <td>2600</td>\n",
       "    </tr>\n",
       "  </tbody>\n",
       "</table>\n",
       "</div>"
      ],
      "text/plain": [
       "       TEMP COLOR     PAIS  PRECIO  PREP   ALT\n",
       "Data2    20  rojo   Brasil    2.00   325  1800\n",
       "2        30  rojo  Ecuador    0.35   400  2500\n",
       "3        25  rojo     EEUU    0.10   450  3000\n",
       "5        15  rojo     Peru    0.20   352  3600\n",
       "6        24  rojo  Ecuador    0.15   360  3500\n",
       "Data8    25  rojo     Peru    0.05   385  2600"
      ]
     },
     "execution_count": 147,
     "metadata": {},
     "output_type": "execute_result"
    }
   ],
   "source": [
    "# Eliminamos filas (por indice), (axis = 0) por fila\n",
    "df_dropped = Datos_XLS.drop(labels = [\"Data1\", 4], axis = 0)\n",
    "df_dropped"
   ]
  },
  {
   "cell_type": "code",
   "execution_count": 148,
   "id": "45760dce-c59b-4be3-8d4a-6a0e151305e6",
   "metadata": {},
   "outputs": [
    {
     "data": {
      "text/html": [
       "<div>\n",
       "<style scoped>\n",
       "    .dataframe tbody tr th:only-of-type {\n",
       "        vertical-align: middle;\n",
       "    }\n",
       "\n",
       "    .dataframe tbody tr th {\n",
       "        vertical-align: top;\n",
       "    }\n",
       "\n",
       "    .dataframe thead th {\n",
       "        text-align: right;\n",
       "    }\n",
       "</style>\n",
       "<table border=\"1\" class=\"dataframe\">\n",
       "  <thead>\n",
       "    <tr style=\"text-align: right;\">\n",
       "      <th></th>\n",
       "      <th>TEMP</th>\n",
       "      <th>PAIS</th>\n",
       "      <th>PREP</th>\n",
       "      <th>ALT</th>\n",
       "    </tr>\n",
       "  </thead>\n",
       "  <tbody>\n",
       "    <tr>\n",
       "      <th>Data2</th>\n",
       "      <td>20</td>\n",
       "      <td>Brasil</td>\n",
       "      <td>325</td>\n",
       "      <td>1800</td>\n",
       "    </tr>\n",
       "    <tr>\n",
       "      <th>2</th>\n",
       "      <td>30</td>\n",
       "      <td>Ecuador</td>\n",
       "      <td>400</td>\n",
       "      <td>2500</td>\n",
       "    </tr>\n",
       "    <tr>\n",
       "      <th>3</th>\n",
       "      <td>25</td>\n",
       "      <td>EEUU</td>\n",
       "      <td>450</td>\n",
       "      <td>3000</td>\n",
       "    </tr>\n",
       "    <tr>\n",
       "      <th>5</th>\n",
       "      <td>15</td>\n",
       "      <td>Peru</td>\n",
       "      <td>352</td>\n",
       "      <td>3600</td>\n",
       "    </tr>\n",
       "    <tr>\n",
       "      <th>6</th>\n",
       "      <td>24</td>\n",
       "      <td>Ecuador</td>\n",
       "      <td>360</td>\n",
       "      <td>3500</td>\n",
       "    </tr>\n",
       "    <tr>\n",
       "      <th>Data8</th>\n",
       "      <td>25</td>\n",
       "      <td>Peru</td>\n",
       "      <td>385</td>\n",
       "      <td>2600</td>\n",
       "    </tr>\n",
       "  </tbody>\n",
       "</table>\n",
       "</div>"
      ],
      "text/plain": [
       "       TEMP     PAIS  PREP   ALT\n",
       "Data2    20   Brasil   325  1800\n",
       "2        30  Ecuador   400  2500\n",
       "3        25     EEUU   450  3000\n",
       "5        15     Peru   352  3600\n",
       "6        24  Ecuador   360  3500\n",
       "Data8    25     Peru   385  2600"
      ]
     },
     "execution_count": 148,
     "metadata": {},
     "output_type": "execute_result"
    }
   ],
   "source": [
    "# Eliminamos columnas (axis = 1) por etiqueta\n",
    "df_dropped = df_dropped.drop(labels = [\"COLOR\", \"PRECIO\"], axis = 1)\n",
    "df_dropped"
   ]
  },
  {
   "cell_type": "markdown",
   "id": "2dae41ac-9313-432f-a33a-e4ecebd038a4",
   "metadata": {},
   "source": [
    "El método `.pop()` elimina la columna que indiquemos por parámetro"
   ]
  },
  {
   "cell_type": "code",
   "execution_count": 149,
   "id": "3005d268-5051-404c-9f63-70b1bf0f75b8",
   "metadata": {},
   "outputs": [
    {
     "data": {
      "text/plain": [
       "Data2    325\n",
       "2        400\n",
       "3        450\n",
       "5        352\n",
       "6        360\n",
       "Data8    385\n",
       "Name: PREP, dtype: int64"
      ]
     },
     "execution_count": 149,
     "metadata": {},
     "output_type": "execute_result"
    }
   ],
   "source": [
    "column_popped = df_dropped.pop(\"PREP\")\n",
    "column_popped"
   ]
  },
  {
   "cell_type": "code",
   "execution_count": 150,
   "id": "c4565c00-4af3-46f1-a627-02640614f79a",
   "metadata": {},
   "outputs": [
    {
     "data": {
      "text/html": [
       "<div>\n",
       "<style scoped>\n",
       "    .dataframe tbody tr th:only-of-type {\n",
       "        vertical-align: middle;\n",
       "    }\n",
       "\n",
       "    .dataframe tbody tr th {\n",
       "        vertical-align: top;\n",
       "    }\n",
       "\n",
       "    .dataframe thead th {\n",
       "        text-align: right;\n",
       "    }\n",
       "</style>\n",
       "<table border=\"1\" class=\"dataframe\">\n",
       "  <thead>\n",
       "    <tr style=\"text-align: right;\">\n",
       "      <th></th>\n",
       "      <th>TEMP</th>\n",
       "      <th>PAIS</th>\n",
       "      <th>ALT</th>\n",
       "    </tr>\n",
       "  </thead>\n",
       "  <tbody>\n",
       "    <tr>\n",
       "      <th>Data2</th>\n",
       "      <td>20</td>\n",
       "      <td>Brasil</td>\n",
       "      <td>1800</td>\n",
       "    </tr>\n",
       "    <tr>\n",
       "      <th>2</th>\n",
       "      <td>30</td>\n",
       "      <td>Ecuador</td>\n",
       "      <td>2500</td>\n",
       "    </tr>\n",
       "    <tr>\n",
       "      <th>3</th>\n",
       "      <td>25</td>\n",
       "      <td>EEUU</td>\n",
       "      <td>3000</td>\n",
       "    </tr>\n",
       "    <tr>\n",
       "      <th>5</th>\n",
       "      <td>15</td>\n",
       "      <td>Peru</td>\n",
       "      <td>3600</td>\n",
       "    </tr>\n",
       "    <tr>\n",
       "      <th>6</th>\n",
       "      <td>24</td>\n",
       "      <td>Ecuador</td>\n",
       "      <td>3500</td>\n",
       "    </tr>\n",
       "    <tr>\n",
       "      <th>Data8</th>\n",
       "      <td>25</td>\n",
       "      <td>Peru</td>\n",
       "      <td>2600</td>\n",
       "    </tr>\n",
       "  </tbody>\n",
       "</table>\n",
       "</div>"
      ],
      "text/plain": [
       "       TEMP     PAIS   ALT\n",
       "Data2    20   Brasil  1800\n",
       "2        30  Ecuador  2500\n",
       "3        25     EEUU  3000\n",
       "5        15     Peru  3600\n",
       "6        24  Ecuador  3500\n",
       "Data8    25     Peru  2600"
      ]
     },
     "execution_count": 150,
     "metadata": {},
     "output_type": "execute_result"
    }
   ],
   "source": [
    "df_dropped"
   ]
  },
  {
   "cell_type": "code",
   "execution_count": 151,
   "id": "5a50de94-3f25-4c9c-840c-c8709bba0454",
   "metadata": {},
   "outputs": [
    {
     "data": {
      "text/html": [
       "<div>\n",
       "<style scoped>\n",
       "    .dataframe tbody tr th:only-of-type {\n",
       "        vertical-align: middle;\n",
       "    }\n",
       "\n",
       "    .dataframe tbody tr th {\n",
       "        vertical-align: top;\n",
       "    }\n",
       "\n",
       "    .dataframe thead th {\n",
       "        text-align: right;\n",
       "    }\n",
       "</style>\n",
       "<table border=\"1\" class=\"dataframe\">\n",
       "  <thead>\n",
       "    <tr style=\"text-align: right;\">\n",
       "      <th></th>\n",
       "      <th>TEMP</th>\n",
       "      <th>PAIS</th>\n",
       "      <th>ALT</th>\n",
       "      <th>PREP</th>\n",
       "    </tr>\n",
       "  </thead>\n",
       "  <tbody>\n",
       "    <tr>\n",
       "      <th>Data2</th>\n",
       "      <td>20</td>\n",
       "      <td>Brasil</td>\n",
       "      <td>1800</td>\n",
       "      <td>325</td>\n",
       "    </tr>\n",
       "    <tr>\n",
       "      <th>2</th>\n",
       "      <td>30</td>\n",
       "      <td>Ecuador</td>\n",
       "      <td>2500</td>\n",
       "      <td>400</td>\n",
       "    </tr>\n",
       "    <tr>\n",
       "      <th>3</th>\n",
       "      <td>25</td>\n",
       "      <td>EEUU</td>\n",
       "      <td>3000</td>\n",
       "      <td>450</td>\n",
       "    </tr>\n",
       "    <tr>\n",
       "      <th>5</th>\n",
       "      <td>15</td>\n",
       "      <td>Peru</td>\n",
       "      <td>3600</td>\n",
       "      <td>352</td>\n",
       "    </tr>\n",
       "    <tr>\n",
       "      <th>6</th>\n",
       "      <td>24</td>\n",
       "      <td>Ecuador</td>\n",
       "      <td>3500</td>\n",
       "      <td>360</td>\n",
       "    </tr>\n",
       "    <tr>\n",
       "      <th>Data8</th>\n",
       "      <td>25</td>\n",
       "      <td>Peru</td>\n",
       "      <td>2600</td>\n",
       "      <td>385</td>\n",
       "    </tr>\n",
       "  </tbody>\n",
       "</table>\n",
       "</div>"
      ],
      "text/plain": [
       "       TEMP     PAIS   ALT  PREP\n",
       "Data2    20   Brasil  1800   325\n",
       "2        30  Ecuador  2500   400\n",
       "3        25     EEUU  3000   450\n",
       "5        15     Peru  3600   352\n",
       "6        24  Ecuador  3500   360\n",
       "Data8    25     Peru  2600   385"
      ]
     },
     "execution_count": 151,
     "metadata": {},
     "output_type": "execute_result"
    }
   ],
   "source": [
    "# Volvemos a añadir la columna recientemente eliminada al final del dataframe con una sintaxis que no habíamos visto todavía\n",
    "df_dropped[\"PREP\"] = column_popped\n",
    "df_dropped"
   ]
  },
  {
   "cell_type": "markdown",
   "id": "c6753fa0-fd56-45ca-82a1-ab226c4323ac",
   "metadata": {},
   "source": [
    "Dada una columna de un dataframe, el método `.unique()` devuelve un array con los valores únicos de dicha columna"
   ]
  },
  {
   "cell_type": "code",
   "execution_count": 152,
   "id": "744f4290-76e2-4a74-ba46-63be70107a17",
   "metadata": {},
   "outputs": [
    {
     "name": "stdout",
     "output_type": "stream",
     "text": [
      "['Bolivia' 'Brasil' 'Ecuador' 'EEUU' 'Chile' 'Peru']\n"
     ]
    }
   ],
   "source": [
    "print(Datos_XLS[\"PAIS\"].unique())"
   ]
  },
  {
   "cell_type": "markdown",
   "id": "3f4383b1-1ea8-43bb-9bfc-b4950068962a",
   "metadata": {},
   "source": [
    "El método `.nunique()` devuelve el conteo de cuántos valores únicos hay en cada columna"
   ]
  },
  {
   "cell_type": "code",
   "execution_count": 153,
   "id": "45c2c262-47ca-4586-a88f-8393cfee7155",
   "metadata": {},
   "outputs": [
    {
     "data": {
      "text/plain": [
       "TEMP      5\n",
       "COLOR     1\n",
       "PAIS      6\n",
       "PRECIO    7\n",
       "PREP      8\n",
       "ALT       7\n",
       "dtype: int64"
      ]
     },
     "execution_count": 153,
     "metadata": {},
     "output_type": "execute_result"
    }
   ],
   "source": [
    "Datos_XLS.nunique()"
   ]
  },
  {
   "cell_type": "markdown",
   "id": "12eff5e2-10b8-4194-9625-31ae8184137c",
   "metadata": {},
   "source": [
    "## Estadísticas descriptivas\n",
    "\n",
    "pandas DataFrames y Series contienen métodos útiles para obtener estadísticas de resumen. Los métodos disponibles incluyen `mean()`, `median()`, `min()`, `max()` y `std()` (la desviación estándar).\n",
    "\n",
    "Podríamos, por ejemplo, comprobar la temperatura media en nuestros datos de entrada. Verificamos la media para una sola columna (*Series*):"
   ]
  },
  {
   "cell_type": "code",
   "execution_count": 154,
   "id": "3bdbfbe7-e10b-42e3-9f54-99d65f09c157",
   "metadata": {},
   "outputs": [
    {
     "data": {
      "text/plain": [
       "24.25"
      ]
     },
     "execution_count": 154,
     "metadata": {},
     "output_type": "execute_result"
    }
   ],
   "source": [
    "# Check mean value of a column\n",
    "Datos_XLS[\"TEMP\"].mean()"
   ]
  },
  {
   "cell_type": "code",
   "execution_count": 155,
   "id": "d11bee7b-b414-4fad-9669-d0d044a8e369",
   "metadata": {},
   "outputs": [
    {
     "data": {
      "text/html": [
       "<div>\n",
       "<style scoped>\n",
       "    .dataframe tbody tr th:only-of-type {\n",
       "        vertical-align: middle;\n",
       "    }\n",
       "\n",
       "    .dataframe tbody tr th {\n",
       "        vertical-align: top;\n",
       "    }\n",
       "\n",
       "    .dataframe thead th {\n",
       "        text-align: right;\n",
       "    }\n",
       "</style>\n",
       "<table border=\"1\" class=\"dataframe\">\n",
       "  <thead>\n",
       "    <tr style=\"text-align: right;\">\n",
       "      <th></th>\n",
       "      <th>TEMP</th>\n",
       "      <th>PRECIO</th>\n",
       "      <th>PREP</th>\n",
       "      <th>ALT</th>\n",
       "    </tr>\n",
       "  </thead>\n",
       "  <tbody>\n",
       "    <tr>\n",
       "      <th>count</th>\n",
       "      <td>8.000000</td>\n",
       "      <td>8.000000</td>\n",
       "      <td>8.000000</td>\n",
       "      <td>8.000000</td>\n",
       "    </tr>\n",
       "    <tr>\n",
       "      <th>mean</th>\n",
       "      <td>24.250000</td>\n",
       "      <td>0.712500</td>\n",
       "      <td>361.500000</td>\n",
       "      <td>2637.500000</td>\n",
       "    </tr>\n",
       "    <tr>\n",
       "      <th>std</th>\n",
       "      <td>4.949747</td>\n",
       "      <td>0.964272</td>\n",
       "      <td>48.983962</td>\n",
       "      <td>738.603895</td>\n",
       "    </tr>\n",
       "    <tr>\n",
       "      <th>min</th>\n",
       "      <td>15.000000</td>\n",
       "      <td>0.050000</td>\n",
       "      <td>300.000000</td>\n",
       "      <td>1500.000000</td>\n",
       "    </tr>\n",
       "    <tr>\n",
       "      <th>25%</th>\n",
       "      <td>23.000000</td>\n",
       "      <td>0.137500</td>\n",
       "      <td>323.750000</td>\n",
       "      <td>2325.000000</td>\n",
       "    </tr>\n",
       "    <tr>\n",
       "      <th>50%</th>\n",
       "      <td>25.000000</td>\n",
       "      <td>0.275000</td>\n",
       "      <td>356.000000</td>\n",
       "      <td>2600.000000</td>\n",
       "    </tr>\n",
       "    <tr>\n",
       "      <th>75%</th>\n",
       "      <td>26.250000</td>\n",
       "      <td>0.762500</td>\n",
       "      <td>388.750000</td>\n",
       "      <td>3125.000000</td>\n",
       "    </tr>\n",
       "    <tr>\n",
       "      <th>max</th>\n",
       "      <td>30.000000</td>\n",
       "      <td>2.500000</td>\n",
       "      <td>450.000000</td>\n",
       "      <td>3600.000000</td>\n",
       "    </tr>\n",
       "  </tbody>\n",
       "</table>\n",
       "</div>"
      ],
      "text/plain": [
       "            TEMP    PRECIO        PREP          ALT\n",
       "count   8.000000  8.000000    8.000000     8.000000\n",
       "mean   24.250000  0.712500  361.500000  2637.500000\n",
       "std     4.949747  0.964272   48.983962   738.603895\n",
       "min    15.000000  0.050000  300.000000  1500.000000\n",
       "25%    23.000000  0.137500  323.750000  2325.000000\n",
       "50%    25.000000  0.275000  356.000000  2600.000000\n",
       "75%    26.250000  0.762500  388.750000  3125.000000\n",
       "max    30.000000  2.500000  450.000000  3600.000000"
      ]
     },
     "execution_count": 155,
     "metadata": {},
     "output_type": "execute_result"
    }
   ],
   "source": [
    "Datos_XLS.describe()"
   ]
  },
  {
   "cell_type": "code",
   "execution_count": 156,
   "id": "96243b99-93aa-40f4-bffc-32faec15e26e",
   "metadata": {},
   "outputs": [
    {
     "data": {
      "text/html": [
       "<div>\n",
       "<style scoped>\n",
       "    .dataframe tbody tr th:only-of-type {\n",
       "        vertical-align: middle;\n",
       "    }\n",
       "\n",
       "    .dataframe tbody tr th {\n",
       "        vertical-align: top;\n",
       "    }\n",
       "\n",
       "    .dataframe thead th {\n",
       "        text-align: right;\n",
       "    }\n",
       "</style>\n",
       "<table border=\"1\" class=\"dataframe\">\n",
       "  <thead>\n",
       "    <tr style=\"text-align: right;\">\n",
       "      <th></th>\n",
       "      <th>TEMP</th>\n",
       "      <th>PRECIO</th>\n",
       "      <th>ALT</th>\n",
       "    </tr>\n",
       "  </thead>\n",
       "  <tbody>\n",
       "    <tr>\n",
       "      <th>count</th>\n",
       "      <td>8.000000</td>\n",
       "      <td>8.000000</td>\n",
       "      <td>8.000000</td>\n",
       "    </tr>\n",
       "    <tr>\n",
       "      <th>mean</th>\n",
       "      <td>24.250000</td>\n",
       "      <td>0.712500</td>\n",
       "      <td>2637.500000</td>\n",
       "    </tr>\n",
       "    <tr>\n",
       "      <th>std</th>\n",
       "      <td>4.949747</td>\n",
       "      <td>0.964272</td>\n",
       "      <td>738.603895</td>\n",
       "    </tr>\n",
       "    <tr>\n",
       "      <th>min</th>\n",
       "      <td>15.000000</td>\n",
       "      <td>0.050000</td>\n",
       "      <td>1500.000000</td>\n",
       "    </tr>\n",
       "    <tr>\n",
       "      <th>25%</th>\n",
       "      <td>23.000000</td>\n",
       "      <td>0.137500</td>\n",
       "      <td>2325.000000</td>\n",
       "    </tr>\n",
       "    <tr>\n",
       "      <th>50%</th>\n",
       "      <td>25.000000</td>\n",
       "      <td>0.275000</td>\n",
       "      <td>2600.000000</td>\n",
       "    </tr>\n",
       "    <tr>\n",
       "      <th>75%</th>\n",
       "      <td>26.250000</td>\n",
       "      <td>0.762500</td>\n",
       "      <td>3125.000000</td>\n",
       "    </tr>\n",
       "    <tr>\n",
       "      <th>max</th>\n",
       "      <td>30.000000</td>\n",
       "      <td>2.500000</td>\n",
       "      <td>3600.000000</td>\n",
       "    </tr>\n",
       "  </tbody>\n",
       "</table>\n",
       "</div>"
      ],
      "text/plain": [
       "            TEMP    PRECIO          ALT\n",
       "count   8.000000  8.000000     8.000000\n",
       "mean   24.250000  0.712500  2637.500000\n",
       "std     4.949747  0.964272   738.603895\n",
       "min    15.000000  0.050000  1500.000000\n",
       "25%    23.000000  0.137500  2325.000000\n",
       "50%    25.000000  0.275000  2600.000000\n",
       "75%    26.250000  0.762500  3125.000000\n",
       "max    30.000000  2.500000  3600.000000"
      ]
     },
     "execution_count": 156,
     "metadata": {},
     "output_type": "execute_result"
    }
   ],
   "source": [
    "# Seleccion de datos describe\n",
    "Datos_XLS[[\"TEMP\", \"PRECIO\", \"ALT\"]].describe()"
   ]
  },
  {
   "cell_type": "code",
   "execution_count": 158,
   "id": "ee894349-a8bb-49c5-b0cb-9f5c9a4aff39",
   "metadata": {},
   "outputs": [
    {
     "data": {
      "text/plain": [
       "<AxesSubplot:>"
      ]
     },
     "execution_count": 158,
     "metadata": {},
     "output_type": "execute_result"
    },
    {
     "data": {
      "image/png": "[encoded data removed]",
      "text/plain": [
       "<Figure size 640x480 with 1 Axes>"
      ]
     },
     "metadata": {},
     "output_type": "display_data"
    }
   ],
   "source": [
    "Datos_XLS[[\"TEMP\", \"PRECIO\"]].plot()"
   ]
  },
  {
   "cell_type": "code",
   "execution_count": 159,
   "id": "5cbab0ca-d7ec-45ee-b195-a1e93e9b7af4",
   "metadata": {},
   "outputs": [
    {
     "data": {
      "text/plain": [
       "Index(['TEMP', 'COLOR', 'PAIS', 'PRECIO', 'PREP', 'ALT'], dtype='object')"
      ]
     },
     "execution_count": 159,
     "metadata": {},
     "output_type": "execute_result"
    }
   ],
   "source": [
    "Datos_XLS.columns"
   ]
  },
  {
   "cell_type": "code",
   "execution_count": 160,
   "id": "6926a908-74e3-4625-b9d1-0153c7aa59c5",
   "metadata": {},
   "outputs": [
    {
     "data": {
      "text/html": [
       "<div>\n",
       "<style scoped>\n",
       "    .dataframe tbody tr th:only-of-type {\n",
       "        vertical-align: middle;\n",
       "    }\n",
       "\n",
       "    .dataframe tbody tr th {\n",
       "        vertical-align: top;\n",
       "    }\n",
       "\n",
       "    .dataframe thead th {\n",
       "        text-align: right;\n",
       "    }\n",
       "</style>\n",
       "<table border=\"1\" class=\"dataframe\">\n",
       "  <thead>\n",
       "    <tr style=\"text-align: right;\">\n",
       "      <th></th>\n",
       "      <th>TEMP</th>\n",
       "      <th>COLOR</th>\n",
       "      <th>PAIS</th>\n",
       "      <th>PRECIO</th>\n",
       "      <th>PREP</th>\n",
       "      <th>ALT</th>\n",
       "      <th>DIFEFENCIA</th>\n",
       "    </tr>\n",
       "  </thead>\n",
       "  <tbody>\n",
       "    <tr>\n",
       "      <th>Data1</th>\n",
       "      <td>25</td>\n",
       "      <td>rojo</td>\n",
       "      <td>Bolivia</td>\n",
       "      <td>2.50</td>\n",
       "      <td>300</td>\n",
       "      <td>1500</td>\n",
       "      <td>1475</td>\n",
       "    </tr>\n",
       "    <tr>\n",
       "      <th>Data2</th>\n",
       "      <td>20</td>\n",
       "      <td>rojo</td>\n",
       "      <td>Brasil</td>\n",
       "      <td>2.00</td>\n",
       "      <td>325</td>\n",
       "      <td>1800</td>\n",
       "      <td>1780</td>\n",
       "    </tr>\n",
       "    <tr>\n",
       "      <th>2</th>\n",
       "      <td>30</td>\n",
       "      <td>rojo</td>\n",
       "      <td>Ecuador</td>\n",
       "      <td>0.35</td>\n",
       "      <td>400</td>\n",
       "      <td>2500</td>\n",
       "      <td>2470</td>\n",
       "    </tr>\n",
       "    <tr>\n",
       "      <th>3</th>\n",
       "      <td>25</td>\n",
       "      <td>rojo</td>\n",
       "      <td>EEUU</td>\n",
       "      <td>0.10</td>\n",
       "      <td>450</td>\n",
       "      <td>3000</td>\n",
       "      <td>2975</td>\n",
       "    </tr>\n",
       "    <tr>\n",
       "      <th>4</th>\n",
       "      <td>30</td>\n",
       "      <td>rojo</td>\n",
       "      <td>Chile</td>\n",
       "      <td>0.35</td>\n",
       "      <td>320</td>\n",
       "      <td>2600</td>\n",
       "      <td>2570</td>\n",
       "    </tr>\n",
       "  </tbody>\n",
       "</table>\n",
       "</div>"
      ],
      "text/plain": [
       "       TEMP COLOR     PAIS  PRECIO  PREP   ALT  DIFEFENCIA\n",
       "Data1    25  rojo  Bolivia    2.50   300  1500        1475\n",
       "Data2    20  rojo   Brasil    2.00   325  1800        1780\n",
       "2        30  rojo  Ecuador    0.35   400  2500        2470\n",
       "3        25  rojo     EEUU    0.10   450  3000        2975\n",
       "4        30  rojo    Chile    0.35   320  2600        2570"
      ]
     },
     "execution_count": 160,
     "metadata": {},
     "output_type": "execute_result"
    }
   ],
   "source": [
    "# Calculate direncia entre campos\n",
    "Datos_XLS[\"DIFEFENCIA\"] = Datos_XLS[\"ALT\"] - Datos_XLS[\"TEMP\"]\n",
    "\n",
    "# verificar resultados\n",
    "Datos_XLS.head()"
   ]
  },
  {
   "cell_type": "code",
   "execution_count": 161,
   "id": "24fe4733-4820-4b43-97e2-d9b181f0a0f2",
   "metadata": {},
   "outputs": [
    {
     "data": {
      "text/plain": [
       "5"
      ]
     },
     "execution_count": 161,
     "metadata": {},
     "output_type": "execute_result"
    }
   ],
   "source": [
    "# Numero de unicos valores\n",
    "Datos_XLS[\"TEMP\"].nunique()"
   ]
  },
  {
   "cell_type": "code",
   "execution_count": 162,
   "id": "63a3d49f-6dc7-4e27-bbe6-6c635529afce",
   "metadata": {},
   "outputs": [
    {
     "data": {
      "text/plain": [
       "array([25, 20, 30, 15, 24], dtype=int64)"
      ]
     },
     "execution_count": 162,
     "metadata": {},
     "output_type": "execute_result"
    }
   ],
   "source": [
    "# Valores de los unicos valores Array\n",
    "Datos_XLS[\"TEMP\"].unique()"
   ]
  },
  {
   "cell_type": "code",
   "execution_count": 163,
   "id": "fa327919-848f-4987-8c56-395dc878a1ba",
   "metadata": {},
   "outputs": [
    {
     "data": {
      "text/plain": [
       "[25, 20, 30, 15, 24]"
      ]
     },
     "execution_count": 163,
     "metadata": {},
     "output_type": "execute_result"
    }
   ],
   "source": [
    "# Unicos valores en una lista\n",
    "list(Datos_XLS[\"TEMP\"].unique())"
   ]
  },
  {
   "cell_type": "code",
   "execution_count": null,
   "id": "77b0820e-a021-4dce-8cf5-7c7b86f2fde2",
   "metadata": {},
   "outputs": [],
   "source": []
  }
 ],
 "metadata": {
  "kernelspec": {
   "display_name": "Python 3 (ipykernel)",
   "language": "python",
   "name": "python3"
  },
  "language_info": {
   "codemirror_mode": {
    "name": "ipython",
    "version": 3
   },
   "file_extension": ".py",
   "mimetype": "text/x-python",
   "name": "python",
   "nbconvert_exporter": "python",
   "pygments_lexer": "ipython3",
   "version": "3.9.5"
  }
 },
 "nbformat": 4,
 "nbformat_minor": 5
}
